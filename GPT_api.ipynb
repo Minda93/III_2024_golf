{
 "cells": [
  {
   "cell_type": "code",
   "id": "initial_id",
   "metadata": {
    "collapsed": true,
    "ExecuteTime": {
     "end_time": "2024-12-09T14:43:31.636432Z",
     "start_time": "2024-12-09T14:43:31.625191Z"
    }
   },
   "source": [
    "import os \n",
    "import pandas as pd\n",
    "from openai import OpenAI, api_key\n",
    "from dotenv import load_dotenv\n",
    "from pathlib import Path\n",
    "from langchain.chains import RetrievalQA\n",
    "from langchain.llms import OpenAI\n",
    "from langchain.vectorstores import FAISS\n",
    "from langchain.embeddings import OpenAIEmbeddings\n",
    "from langchain.document_loaders import TextLoader\n",
    "from langchain.document_loaders import DataFrameLoader\n",
    "from langchain.docstore.document import Document\n",
    "from langchain.vectorstores import Chroma\n",
    "from langchain.embeddings import OpenAIEmbeddings\n",
    "\n",
    "\n"
   ],
   "outputs": [],
   "execution_count": 94
  },
  {
   "metadata": {
    "ExecuteTime": {
     "end_time": "2024-12-09T14:11:55.976754Z",
     "start_time": "2024-12-09T14:11:55.970244Z"
    }
   },
   "cell_type": "code",
   "source": "load_dotenv()",
   "id": "8aa22a8236d9ee30",
   "outputs": [
    {
     "data": {
      "text/plain": [
       "True"
      ]
     },
     "execution_count": 91,
     "metadata": {},
     "output_type": "execute_result"
    }
   ],
   "execution_count": 91
  },
  {
   "metadata": {
    "ExecuteTime": {
     "end_time": "2024-12-09T13:56:41.612461Z",
     "start_time": "2024-12-09T13:56:41.607991Z"
    }
   },
   "cell_type": "code",
   "source": "init_prompt =  open('data/init_prompt.txt').read()",
   "id": "c82ac420878c417e",
   "outputs": [],
   "execution_count": 80
  },
  {
   "metadata": {},
   "cell_type": "markdown",
   "source": "# RAG建構 ",
   "id": "de3ea1d1ef546038"
  },
  {
   "metadata": {
    "ExecuteTime": {
     "end_time": "2024-12-09T13:56:44.309493Z",
     "start_time": "2024-12-09T13:56:44.269877Z"
    }
   },
   "cell_type": "code",
   "source": [
    "\n",
    "# 加载 Excel 文件\n",
    "file_path = \"data/回饋規則.xlsx\"\n",
    "data = pd.read_excel(file_path)\n",
    "# 查看数据\n",
    "print(data.head())\n"
   ],
   "id": "ff15889345a5cac9",
   "outputs": [
    {
     "name": "stdout",
     "output_type": "stream",
     "text": [
      "             球路類型  結果                        原因                      改善建議\n",
      "0         Pull左飛球  失誤          上桿(P2~3)時，角度過於陡峭          上桿(P2~3)時，肩膀往右轉動\n",
      "1         Pull左飛球  失誤                    桿頭頂點過高                    肩膀往右轉動\n",
      "2         Pull左飛球  失誤  下桿角度過於陡峭，左手腕過度外展，肩關節伸展抬起  下桿時，左手臂打直、左手腕維持固定、肩膀自然旋轉\n",
      "3         Pull左飛球  失誤            桿面關閉，擊球點位於球的外側       擊球時，左手腕維持固定，注意擊球點位置\n",
      "4  Pull Hook左拉左曲球  失誤          上桿(P2~3)時，角度過於陡峭          上桿(P2~3)時，肩膀往右轉動\n"
     ]
    }
   ],
   "execution_count": 81
  },
  {
   "metadata": {
    "ExecuteTime": {
     "end_time": "2024-12-09T13:56:46.492008Z",
     "start_time": "2024-12-09T13:56:46.484073Z"
    }
   },
   "cell_type": "code",
   "source": [
    "documents = [\n",
    "    Document(\n",
    "        page_content=\" | \".join(map(str, row.values)), \n",
    "        metadata={\"row_index\": index}\n",
    "    )\n",
    "    for index, row in data.iterrows()\n",
    "]\n",
    "\n",
    "print(f\"生成了 {len(documents)} 個文檔\")\n",
    "print(documents[0])"
   ],
   "id": "302a9dd4e1985978",
   "outputs": [
    {
     "name": "stdout",
     "output_type": "stream",
     "text": [
      "生成了 28 個文檔\n",
      "page_content='Pull左飛球 | 失誤 | 上桿(P2~3)時，角度過於陡峭 | 上桿(P2~3)時，肩膀往右轉動' metadata={'row_index': 0}\n"
     ]
    }
   ],
   "execution_count": 82
  },
  {
   "metadata": {
    "ExecuteTime": {
     "end_time": "2024-12-09T14:55:38.694060Z",
     "start_time": "2024-12-09T14:55:37.800834Z"
    }
   },
   "cell_type": "code",
   "source": [
    "# 使用 OpenAI Embeddings 对文档进行向量化\n",
    "openai_api_key = os.getenv(\"OPENAI_API_KEY\")\n",
    "embeddings = OpenAIEmbeddings(openai_api_key=openai_api_key)\n",
    "\n",
    "# 创建向量数据库\n",
    "vectorstore = Chroma.from_documents(documents, embeddings)\n",
    "\n",
    "\n",
    "\n"
   ],
   "id": "252aef9061597142",
   "outputs": [
    {
     "ename": "ImportError",
     "evalue": "Could not import chromadb python package. Please install it with `pip install chromadb`.",
     "output_type": "error",
     "traceback": [
      "\u001B[1;31m---------------------------------------------------------------------------\u001B[0m",
      "\u001B[1;31mModuleNotFoundError\u001B[0m                       Traceback (most recent call last)",
      "File \u001B[1;32m~\\.conda\\envs\\golf\\Lib\\site-packages\\langchain_community\\vectorstores\\chroma.py:83\u001B[0m, in \u001B[0;36mChroma.__init__\u001B[1;34m(self, collection_name, embedding_function, persist_directory, client_settings, collection_metadata, client, relevance_score_fn)\u001B[0m\n\u001B[0;32m     82\u001B[0m \u001B[38;5;28;01mtry\u001B[39;00m:\n\u001B[1;32m---> 83\u001B[0m     \u001B[38;5;28;01mimport\u001B[39;00m \u001B[38;5;21;01mchromadb\u001B[39;00m\n\u001B[0;32m     84\u001B[0m     \u001B[38;5;28;01mimport\u001B[39;00m \u001B[38;5;21;01mchromadb\u001B[39;00m\u001B[38;5;21;01m.\u001B[39;00m\u001B[38;5;21;01mconfig\u001B[39;00m\n",
      "\u001B[1;31mModuleNotFoundError\u001B[0m: No module named 'chromadb'",
      "\nDuring handling of the above exception, another exception occurred:\n",
      "\u001B[1;31mImportError\u001B[0m                               Traceback (most recent call last)",
      "Cell \u001B[1;32mIn[97], line 6\u001B[0m\n\u001B[0;32m      3\u001B[0m embeddings \u001B[38;5;241m=\u001B[39m OpenAIEmbeddings(openai_api_key\u001B[38;5;241m=\u001B[39mopenai_api_key)\n\u001B[0;32m      5\u001B[0m \u001B[38;5;66;03m# 创建向量数据库\u001B[39;00m\n\u001B[1;32m----> 6\u001B[0m vectorstore \u001B[38;5;241m=\u001B[39m Chroma\u001B[38;5;241m.\u001B[39mfrom_documents(documents, embeddings)\n",
      "File \u001B[1;32m~\\.conda\\envs\\golf\\Lib\\site-packages\\langchain_community\\vectorstores\\chroma.py:887\u001B[0m, in \u001B[0;36mChroma.from_documents\u001B[1;34m(cls, documents, embedding, ids, collection_name, persist_directory, client_settings, client, collection_metadata, **kwargs)\u001B[0m\n\u001B[0;32m    885\u001B[0m texts \u001B[38;5;241m=\u001B[39m [doc\u001B[38;5;241m.\u001B[39mpage_content \u001B[38;5;28;01mfor\u001B[39;00m doc \u001B[38;5;129;01min\u001B[39;00m documents]\n\u001B[0;32m    886\u001B[0m metadatas \u001B[38;5;241m=\u001B[39m [doc\u001B[38;5;241m.\u001B[39mmetadata \u001B[38;5;28;01mfor\u001B[39;00m doc \u001B[38;5;129;01min\u001B[39;00m documents]\n\u001B[1;32m--> 887\u001B[0m \u001B[38;5;28;01mreturn\u001B[39;00m \u001B[38;5;28mcls\u001B[39m\u001B[38;5;241m.\u001B[39mfrom_texts(\n\u001B[0;32m    888\u001B[0m     texts\u001B[38;5;241m=\u001B[39mtexts,\n\u001B[0;32m    889\u001B[0m     embedding\u001B[38;5;241m=\u001B[39membedding,\n\u001B[0;32m    890\u001B[0m     metadatas\u001B[38;5;241m=\u001B[39mmetadatas,\n\u001B[0;32m    891\u001B[0m     ids\u001B[38;5;241m=\u001B[39mids,\n\u001B[0;32m    892\u001B[0m     collection_name\u001B[38;5;241m=\u001B[39mcollection_name,\n\u001B[0;32m    893\u001B[0m     persist_directory\u001B[38;5;241m=\u001B[39mpersist_directory,\n\u001B[0;32m    894\u001B[0m     client_settings\u001B[38;5;241m=\u001B[39mclient_settings,\n\u001B[0;32m    895\u001B[0m     client\u001B[38;5;241m=\u001B[39mclient,\n\u001B[0;32m    896\u001B[0m     collection_metadata\u001B[38;5;241m=\u001B[39mcollection_metadata,\n\u001B[0;32m    897\u001B[0m     \u001B[38;5;241m*\u001B[39m\u001B[38;5;241m*\u001B[39mkwargs,\n\u001B[0;32m    898\u001B[0m )\n",
      "File \u001B[1;32m~\\.conda\\envs\\golf\\Lib\\site-packages\\langchain_community\\vectorstores\\chroma.py:817\u001B[0m, in \u001B[0;36mChroma.from_texts\u001B[1;34m(cls, texts, embedding, metadatas, ids, collection_name, persist_directory, client_settings, client, collection_metadata, **kwargs)\u001B[0m\n\u001B[0;32m    784\u001B[0m \u001B[38;5;129m@classmethod\u001B[39m\n\u001B[0;32m    785\u001B[0m \u001B[38;5;28;01mdef\u001B[39;00m \u001B[38;5;21mfrom_texts\u001B[39m(\n\u001B[0;32m    786\u001B[0m     \u001B[38;5;28mcls\u001B[39m: Type[Chroma],\n\u001B[1;32m   (...)\u001B[0m\n\u001B[0;32m    796\u001B[0m     \u001B[38;5;241m*\u001B[39m\u001B[38;5;241m*\u001B[39mkwargs: Any,\n\u001B[0;32m    797\u001B[0m ) \u001B[38;5;241m-\u001B[39m\u001B[38;5;241m>\u001B[39m Chroma:\n\u001B[0;32m    798\u001B[0m \u001B[38;5;250m    \u001B[39m\u001B[38;5;124;03m\"\"\"Create a Chroma vectorstore from a raw documents.\u001B[39;00m\n\u001B[0;32m    799\u001B[0m \n\u001B[0;32m    800\u001B[0m \u001B[38;5;124;03m    If a persist_directory is specified, the collection will be persisted there.\u001B[39;00m\n\u001B[1;32m   (...)\u001B[0m\n\u001B[0;32m    815\u001B[0m \u001B[38;5;124;03m        Chroma: Chroma vectorstore.\u001B[39;00m\n\u001B[0;32m    816\u001B[0m \u001B[38;5;124;03m    \"\"\"\u001B[39;00m\n\u001B[1;32m--> 817\u001B[0m     chroma_collection \u001B[38;5;241m=\u001B[39m \u001B[38;5;28mcls\u001B[39m(\n\u001B[0;32m    818\u001B[0m         collection_name\u001B[38;5;241m=\u001B[39mcollection_name,\n\u001B[0;32m    819\u001B[0m         embedding_function\u001B[38;5;241m=\u001B[39membedding,\n\u001B[0;32m    820\u001B[0m         persist_directory\u001B[38;5;241m=\u001B[39mpersist_directory,\n\u001B[0;32m    821\u001B[0m         client_settings\u001B[38;5;241m=\u001B[39mclient_settings,\n\u001B[0;32m    822\u001B[0m         client\u001B[38;5;241m=\u001B[39mclient,\n\u001B[0;32m    823\u001B[0m         collection_metadata\u001B[38;5;241m=\u001B[39mcollection_metadata,\n\u001B[0;32m    824\u001B[0m         \u001B[38;5;241m*\u001B[39m\u001B[38;5;241m*\u001B[39mkwargs,\n\u001B[0;32m    825\u001B[0m     )\n\u001B[0;32m    826\u001B[0m     \u001B[38;5;28;01mif\u001B[39;00m ids \u001B[38;5;129;01mis\u001B[39;00m \u001B[38;5;28;01mNone\u001B[39;00m:\n\u001B[0;32m    827\u001B[0m         ids \u001B[38;5;241m=\u001B[39m [\u001B[38;5;28mstr\u001B[39m(uuid\u001B[38;5;241m.\u001B[39muuid4()) \u001B[38;5;28;01mfor\u001B[39;00m _ \u001B[38;5;129;01min\u001B[39;00m texts]\n",
      "File \u001B[1;32m~\\.conda\\envs\\golf\\Lib\\site-packages\\langchain_core\\_api\\deprecation.py:216\u001B[0m, in \u001B[0;36mdeprecated.<locals>.deprecate.<locals>.finalize.<locals>.warn_if_direct_instance\u001B[1;34m(self, *args, **kwargs)\u001B[0m\n\u001B[0;32m    214\u001B[0m     warned \u001B[38;5;241m=\u001B[39m \u001B[38;5;28;01mTrue\u001B[39;00m\n\u001B[0;32m    215\u001B[0m     emit_warning()\n\u001B[1;32m--> 216\u001B[0m \u001B[38;5;28;01mreturn\u001B[39;00m wrapped(\u001B[38;5;28mself\u001B[39m, \u001B[38;5;241m*\u001B[39margs, \u001B[38;5;241m*\u001B[39m\u001B[38;5;241m*\u001B[39mkwargs)\n",
      "File \u001B[1;32m~\\.conda\\envs\\golf\\Lib\\site-packages\\langchain_community\\vectorstores\\chroma.py:86\u001B[0m, in \u001B[0;36mChroma.__init__\u001B[1;34m(self, collection_name, embedding_function, persist_directory, client_settings, collection_metadata, client, relevance_score_fn)\u001B[0m\n\u001B[0;32m     84\u001B[0m     \u001B[38;5;28;01mimport\u001B[39;00m \u001B[38;5;21;01mchromadb\u001B[39;00m\u001B[38;5;21;01m.\u001B[39;00m\u001B[38;5;21;01mconfig\u001B[39;00m\n\u001B[0;32m     85\u001B[0m \u001B[38;5;28;01mexcept\u001B[39;00m \u001B[38;5;167;01mImportError\u001B[39;00m:\n\u001B[1;32m---> 86\u001B[0m     \u001B[38;5;28;01mraise\u001B[39;00m \u001B[38;5;167;01mImportError\u001B[39;00m(\n\u001B[0;32m     87\u001B[0m         \u001B[38;5;124m\"\u001B[39m\u001B[38;5;124mCould not import chromadb python package. \u001B[39m\u001B[38;5;124m\"\u001B[39m\n\u001B[0;32m     88\u001B[0m         \u001B[38;5;124m\"\u001B[39m\u001B[38;5;124mPlease install it with `pip install chromadb`.\u001B[39m\u001B[38;5;124m\"\u001B[39m\n\u001B[0;32m     89\u001B[0m     )\n\u001B[0;32m     91\u001B[0m \u001B[38;5;28;01mif\u001B[39;00m client \u001B[38;5;129;01mis\u001B[39;00m \u001B[38;5;129;01mnot\u001B[39;00m \u001B[38;5;28;01mNone\u001B[39;00m:\n\u001B[0;32m     92\u001B[0m     \u001B[38;5;28mself\u001B[39m\u001B[38;5;241m.\u001B[39m_client_settings \u001B[38;5;241m=\u001B[39m client_settings\n",
      "\u001B[1;31mImportError\u001B[0m: Could not import chromadb python package. Please install it with `pip install chromadb`."
     ]
    }
   ],
   "execution_count": 97
  },
  {
   "metadata": {
    "ExecuteTime": {
     "end_time": "2024-12-09T15:16:03.952144Z",
     "start_time": "2024-12-09T15:16:03.948860Z"
    }
   },
   "cell_type": "code",
   "source": "#嘗試只使用excel轉文字",
   "id": "b59676d0342e43dc",
   "outputs": [],
   "execution_count": 98
  },
  {
   "metadata": {
    "ExecuteTime": {
     "end_time": "2024-12-09T15:38:40.927277Z",
     "start_time": "2024-12-09T15:38:36.229368Z"
    }
   },
   "cell_type": "code",
   "source": [
    "from openai import OpenAI\n",
    "import pandas as pd\n",
    "\n",
    "\n",
    "# 讀取 CSV 檔案\n",
    "csv_file_path = \"data/回饋規則.xlsx\"\n",
    "data = pd.read_excel(csv_file_path)\n",
    "\n",
    "# 將數據轉換為文字格式（或提取特定欄位）\n",
    "text_representation = data.head(5).to_string()  # 取前5行並轉換為文字\n",
    "\n",
    "# 定義提示字串\n",
    "prompt = f\"\"\"\n",
    "{init_prompt}\n",
    "以下是一些來自回饋規則檔案的數據：\n",
    "{text_representation}\n",
    "\n",
    "\"\"\"\n",
    "\n",
    "# 呼叫 OpenAI API\n",
    "client = OpenAI()\n",
    "\n",
    "completion = client.chat.completions.create(\n",
    "    model=\"gpt-4o-mini\",\n",
    "    messages=[\n",
    "        {\"role\": \"system\", \"content\": prompt},\n",
    "        {\n",
    "            \"role\": \"user\",\n",
    "            \"content\": [\n",
    "                {\"type\": \"text\", \"text\": \"球速:66.43、發射角度:7.198、發射方向:-6.172、飛行距離:179、ClubAngleFace:-15、ClubAnglePath:6.901\"},\n",
    "                {\n",
    "                    \"type\": \"image_url\",\n",
    "                    \"image_url\": {\n",
    "                        \"url\": \"https://cdn.discordapp.com/attachments/727209373612638362/1315702149514137763/combined_186382.jpg?ex=67585e9d&is=67570d1d&hm=fcb27e71292ea87bf197c471494e078cdd2e61341dee5ddb67c9ca2d7ccab49b&\",\n",
    "                    }\n",
    "                },\n",
    "            ],\n",
    "        }\n",
    "    ]\n",
    ")\n",
    "\n",
    "print(completion.choices[0].message)\n"
   ],
   "id": "84bd7da95efdf7da",
   "outputs": [
    {
     "name": "stdout",
     "output_type": "stream",
     "text": [
      "ChatCompletionMessage(content='```json\\n{\\n  \"球路\": \"Pull Left Shot\",\\n  \"原因\": \"上桿(P2~3)時，肩膀角度過於陡峭，使得桿面關閉。\",\\n  \"建議\": \"在我們全面的揮杆分析中，您的揮杆動作與教練最相似的地方在於擊球階段(T)，請繼續保持。但在上桿(P2~3)時，建議您調整肩膀的位置，讓肩膀稍微向右轉動，這會有助於改善桿面的開放角度，從而提高擊球精準度。\"\\n}\\n```', refusal=None, role='assistant', audio=None, function_call=None, tool_calls=None)\n"
     ]
    }
   ],
   "execution_count": 112
  },
  {
   "metadata": {},
   "cell_type": "code",
   "outputs": [],
   "execution_count": null,
   "source": "",
   "id": "691db8ac190ce9ee"
  }
 ],
 "metadata": {
  "kernelspec": {
   "display_name": "Python 3",
   "language": "python",
   "name": "python3"
  },
  "language_info": {
   "codemirror_mode": {
    "name": "ipython",
    "version": 2
   },
   "file_extension": ".py",
   "mimetype": "text/x-python",
   "name": "python",
   "nbconvert_exporter": "python",
   "pygments_lexer": "ipython2",
   "version": "2.7.6"
  }
 },
 "nbformat": 4,
 "nbformat_minor": 5
}
