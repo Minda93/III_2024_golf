{
 "cells": [
  {
   "cell_type": "code",
   "id": "initial_id",
   "metadata": {
    "collapsed": true,
    "ExecuteTime": {
     "end_time": "2025-02-25T05:45:44.067195Z",
     "start_time": "2025-02-25T05:45:18.582385Z"
    }
   },
   "source": [
    "import os\n",
    "\n",
    "import pandas as pd\n",
    "from langchain.chains.summarize.refine_prompts import prompt_template\n",
    "from openai import OpenAI, api_key\n",
    "from dotenv import load_dotenv\n",
    "from pathlib import Path\n",
    "from langchain.chains import RetrievalQA\n",
    "from langchain.docstore.document import Document\n",
    "from langchain.embeddings import OpenAIEmbeddings\n",
    "from langchain.llms import OpenAI \n",
    "from langchain.vectorstores import Chroma\n",
    "from langchain.document_loaders import TextLoader\n",
    "from langchain.document_loaders import DataFrameLoader\n",
    "from langchain.vectorstores import Chroma \n",
    "from langchain_core.messages import HumanMessage, SystemMessage\n",
    "from langchain.chains.combine_documents import create_stuff_documents_chain\n",
    "from langchain.chains import create_retrieval_chain\n",
    "from langchain_core.prompts import ChatPromptTemplate\n",
    "from langchain_core.output_parsers import StrOutputParser\n",
    "from langchain_core.runnables import RunnablePassthrough\n",
    "from langchain_openai import ChatOpenAI\n",
    "from sympy.physics.units import temperature\n",
    "import base64\n",
    "\n"
   ],
   "outputs": [],
   "execution_count": 1
  },
  {
   "metadata": {
    "ExecuteTime": {
     "end_time": "2025-02-25T05:45:44.114675Z",
     "start_time": "2025-02-25T05:45:44.085690Z"
    }
   },
   "cell_type": "code",
   "source": "load_dotenv()",
   "id": "8aa22a8236d9ee30",
   "outputs": [
    {
     "data": {
      "text/plain": [
       "True"
      ]
     },
     "execution_count": 2,
     "metadata": {},
     "output_type": "execute_result"
    }
   ],
   "execution_count": 2
  },
  {
   "metadata": {
    "ExecuteTime": {
     "end_time": "2025-02-25T05:45:44.833225Z",
     "start_time": "2025-02-25T05:45:44.818976Z"
    }
   },
   "cell_type": "code",
   "source": [
    "init_prompt =  open('C:\\Code\\III_2024_golf\\data\\\\rag_init_prompt.txt').read()\n",
    "type(init_prompt)"
   ],
   "id": "c82ac420878c417e",
   "outputs": [
    {
     "data": {
      "text/plain": [
       "str"
      ]
     },
     "execution_count": 3,
     "metadata": {},
     "output_type": "execute_result"
    }
   ],
   "execution_count": 3
  },
  {
   "metadata": {},
   "cell_type": "markdown",
   "source": "# RAG建構 ",
   "id": "de3ea1d1ef546038"
  },
  {
   "metadata": {
    "ExecuteTime": {
     "end_time": "2025-02-25T05:45:45.479983Z",
     "start_time": "2025-02-25T05:45:44.864668Z"
    }
   },
   "cell_type": "code",
   "source": [
    "# 加载 Excel 文件\n",
    "file_path = \"C:\\Code\\III_2024_golf\\data\\回饋規則.xlsx\"\n",
    "data = pd.read_excel(file_path)\n",
    "\n",
    "# 查看数据\n",
    "print(data.head())"
   ],
   "id": "ff15889345a5cac9",
   "outputs": [
    {
     "name": "stdout",
     "output_type": "stream",
     "text": [
      "             球路類型  結果                        原因                      改善建議\n",
      "0         Pull左飛球  失誤          上桿(P2~3)時，角度過於陡峭          上桿(P2~3)時，肩膀往右轉動\n",
      "1         Pull左飛球  失誤                    桿頭頂點過高                    肩膀往右轉動\n",
      "2         Pull左飛球  失誤  下桿角度過於陡峭，左手腕過度外展，肩關節伸展抬起  下桿時，左手臂打直、左手腕維持固定、肩膀自然旋轉\n",
      "3         Pull左飛球  失誤            桿面關閉，擊球點位於球的外側       擊球時，左手腕維持固定，注意擊球點位置\n",
      "4  Pull Hook左拉左曲球  失誤          上桿(P2~3)時，角度過於陡峭          上桿(P2~3)時，肩膀往右轉動\n"
     ]
    }
   ],
   "execution_count": 4
  },
  {
   "metadata": {
    "ExecuteTime": {
     "end_time": "2025-02-25T05:45:45.511819Z",
     "start_time": "2025-02-25T05:45:45.496024Z"
    }
   },
   "cell_type": "code",
   "source": [
    "documents = [\n",
    "    Document(\n",
    "        page_content=\" | \".join(map(str, row.values)), \n",
    "        metadata={\"row_index\": index}\n",
    "    )\n",
    "    for index, row in data.iterrows()\n",
    "]\n",
    "\n",
    "print(f\"生成了 {len(documents)} 個文檔\")\n",
    "print(documents[0])"
   ],
   "id": "302a9dd4e1985978",
   "outputs": [
    {
     "name": "stdout",
     "output_type": "stream",
     "text": [
      "生成了 28 個文檔\n",
      "page_content='Pull左飛球 | 失誤 | 上桿(P2~3)時，角度過於陡峭 | 上桿(P2~3)時，肩膀往右轉動' metadata={'row_index': 0}\n"
     ]
    }
   ],
   "execution_count": 5
  },
  {
   "metadata": {
    "ExecuteTime": {
     "end_time": "2025-02-25T05:46:01.440874Z",
     "start_time": "2025-02-25T05:45:45.591461Z"
    }
   },
   "cell_type": "code",
   "source": [
    "# 使用 OpenAI Embeddings 進行向量化\n",
    "import chromadb\n",
    "openai_api_key = os.getenv(\"OPENAI_API_KEY\")\n",
    "embeddings = OpenAIEmbeddings(openai_api_key=openai_api_key)\n",
    "\n",
    "# 创建向量数据库\n",
    "vectorstore = Chroma.from_documents(documents, embeddings)\n"
   ],
   "id": "252aef9061597142",
   "outputs": [
    {
     "name": "stderr",
     "output_type": "stream",
     "text": [
      "C:\\Users\\李冠廷\\AppData\\Local\\Temp\\ipykernel_71956\\1100180079.py:4: LangChainDeprecationWarning: The class `OpenAIEmbeddings` was deprecated in LangChain 0.0.9 and will be removed in 1.0. An updated version of the class exists in the :class:`~langchain-openai package and should be used instead. To use it run `pip install -U :class:`~langchain-openai` and import as `from :class:`~langchain_openai import OpenAIEmbeddings``.\n",
      "  embeddings = OpenAIEmbeddings(openai_api_key=openai_api_key)\n"
     ]
    }
   ],
   "execution_count": 6
  },
  {
   "metadata": {
    "ExecuteTime": {
     "end_time": "2025-02-25T05:46:01.472923Z",
     "start_time": "2025-02-25T05:46:01.458350Z"
    }
   },
   "cell_type": "code",
   "source": [
    "def encode_image(image_path):\n",
    "    with open(image_path, \"rb\") as image_file:\n",
    "        return base64.b64encode(image_file.read()).decode(\"utf-8\")"
   ],
   "id": "7b817db61e3e84ec",
   "outputs": [],
   "execution_count": 7
  },
  {
   "metadata": {
    "ExecuteTime": {
     "end_time": "2025-02-25T05:46:02.474073Z",
     "start_time": "2025-02-25T05:46:01.491018Z"
    }
   },
   "cell_type": "code",
   "source": [
    "from langchain_core.example_selectors import SemanticSimilarityExampleSelector\n",
    "from langchain_core.prompts import FewShotChatMessagePromptTemplate, HumanMessagePromptTemplate, AIMessagePromptTemplate\n",
    "import json\n",
    "\n",
    "#few shot prompt\n",
    "\n",
    "example_csv = \"C:\\Code\\III_2024_golf\\data\\\\few_shot_example.csv\"\n",
    "\n",
    "#csv to json \n",
    "df = pd.read_csv(example_csv)\n",
    "df.to_json(\"C:\\Code\\III_2024_golf\\data\\\\few_shot_example.json\", orient='records')\n",
    "examples = json.loads(open(\"C:\\Code\\III_2024_golf\\data\\\\few_shot_example.json\",encoding=\"utf-8\").read())\n",
    "example_prompt = (\n",
    "    HumanMessagePromptTemplate.from_template(\"{question}\")\n",
    "    + AIMessagePromptTemplate.from_template(\"{answer}\")\n",
    ")\n",
    "example_selector = SemanticSimilarityExampleSelector.from_examples(\n",
    "    examples,\n",
    "    OpenAIEmbeddings(model=\"text-embedding-3-small\"),\n",
    "    Chroma,\n",
    "    k=1\n",
    ")\n",
    "few_shot_prompt = FewShotChatMessagePromptTemplate(\n",
    "    example_prompt=example_prompt,\n",
    "    example_selector=example_selector, \n",
    "    input_variables=[\"input\"],\n",
    ")\n",
    "\n"
   ],
   "id": "cf1c97e819bbdef4",
   "outputs": [],
   "execution_count": 8
  },
  {
   "metadata": {
    "ExecuteTime": {
     "end_time": "2025-02-25T05:46:02.506626Z",
     "start_time": "2025-02-25T05:46:02.490523Z"
    }
   },
   "cell_type": "code",
   "source": "few_shot_prompt",
   "id": "cfe9e6d4d6ec4190",
   "outputs": [
    {
     "data": {
      "text/plain": [
       "FewShotChatMessagePromptTemplate(example_selector=SemanticSimilarityExampleSelector(vectorstore=<langchain_community.vectorstores.chroma.Chroma object at 0x000001C6A8166320>, k=1, example_keys=None, input_keys=None, vectorstore_kwargs=None), input_variables=['input'], input_types={}, partial_variables={}, example_prompt=ChatPromptTemplate(input_variables=['answer', 'question'], input_types={}, partial_variables={}, messages=[HumanMessagePromptTemplate(prompt=PromptTemplate(input_variables=['question'], input_types={}, partial_variables={}, template='{question}'), additional_kwargs={}), AIMessagePromptTemplate(prompt=PromptTemplate(input_variables=['answer'], input_types={}, partial_variables={}, template='{answer}'), additional_kwargs={})]))"
      ]
     },
     "execution_count": 9,
     "metadata": {},
     "output_type": "execute_result"
    }
   ],
   "execution_count": 9
  },
  {
   "metadata": {
    "ExecuteTime": {
     "end_time": "2025-02-25T05:46:36.561504Z",
     "start_time": "2025-02-25T05:46:36.524907Z"
    }
   },
   "cell_type": "code",
   "source": [
    "\n",
    "\n",
    "# 初始化生成模型\n",
    "client = ChatOpenAI(api_key= openai_api_key,model = \"chatgpt-4o-latest\",temperature=1)\n",
    "\n",
    "# 構建 RetrievalQA 鏈\n",
    "retriever = vectorstore.as_retriever()\n",
    "prompt = ChatPromptTemplate.from_messages([\n",
    "    ('system', init_prompt+'{context}'),\n",
    "    ('system', \"example:\"+'{example}'),\n",
    "    ('user', [\n",
    "                {\"type\": \"text\", \"text\": \"{input}\"},\n",
    "                {\n",
    "                    \"type\": \"image_url\",\n",
    "                    \"image_url\": {\n",
    "                            \"url\": \"data:image/jpeg;base64,'{image}'\",\n",
    "                            \"detail\": \"high\",\n",
    "                        },\n",
    "                },\n",
    "            ],\n",
    "        ),\n",
    "    ])\n",
    "\n",
    "document_chain = create_stuff_documents_chain(client, prompt)\n",
    "retrieval_chain = create_retrieval_chain(retriever, document_chain)\n",
    "\n"
   ],
   "id": "b59676d0342e43dc",
   "outputs": [],
   "execution_count": 11
  },
  {
   "metadata": {
    "ExecuteTime": {
     "end_time": "2025-02-25T11:05:51.759023Z",
     "start_time": "2025-02-25T11:05:36.435408Z"
    }
   },
   "cell_type": "code",
   "source": [
    "# 用户提问\n",
    "query = \"\"\"\n",
    "Pull Hook 左拉左曲球\n",
    "球速:66.43、發射角度:7.198、發射方向:-6.172、飛行距離:179、ClubAngleFace:-15、ClubAnglePath:6.901\n",
    "front:{A: [0.0, 0.0, -0.0, 0.0, -0.0, -0.0], F: [-0.01, -0.008, 0.0, 0.048, -0.018, -0.011], I: [-0.019, -0.04, 0.184, -0.063, -0.041, -0.023], T: [0.002, 0.0, 0.0, -0.001, -0.001, -0.001]}\n",
    "side:{A: [0.002, -0.001, 0.001, -0.0, -0.002, 0.0], F: [0.001, 0.004, 0.0, -0.001, -0.003, 0.0], I: [0.217, -0.065, -0.013, -0.068, -0.054, -0.013], T: [-0.049, -0.043, 0.253, -0.083, -0.055, -0.013]}\n",
    "\"\"\"\n",
    "image = encode_image(\"C:\\Code\\III_2024_golf\\data/combined/combined_186382.jpg\")\n",
    "\n",
    "response = retrieval_chain.invoke({\n",
    "    'context': retriever,\n",
    "    'image': image,\n",
    "    'input': query,\n",
    "    'example': example_selector.select_examples({\"question\": query})\n",
    "})\n",
    "\n",
    "print(response['answer'])\n",
    "print(example_selector.select_examples({\"question\": query}))"
   ],
   "id": "14ff44b3fcc0ef2b",
   "outputs": [
    {
     "name": "stdout",
     "output_type": "stream",
     "text": [
      "{\n",
      "        \"球路\": \"Pull Hook 左拉左曲球\",\n",
      "        \"原因\": \"下桿角度過於陡峭，手腕過度彎曲，擊球時桿面過度關閉\",\n",
      "        \"建議\": \"在下桿（P5-P6）時，試著讓右肩與右手肘保持外旋，避免過度手腕翻轉，並確保手腕在P5.5時維持適當的屈曲角度，這有助於讓球桿的路徑更穩定。此外，擊球時（P7），確保左手腕恢復至較中立的狀態，以防止桿面過度關閉，造成左拉左曲球。\"  \n",
      "}\n",
      "[{'answer': '上桿時維持軸心，P2時桿身平行於雙腳之平行線，保持桿面角度，P2至P4胸椎充分旋轉，下桿時於P3重心往左，左半身帶領的同時，P5至P6右肩和右手肘維持外旋，左手腕在P5.5時屈曲，維持手腕角度過球，轉身至P10收桿。', 'question': 'Push Hook右拉左曲球 上桿往內側，然後再由內側透過手腕的翻轉使球往左旋'}]\n"
     ]
    }
   ],
   "execution_count": 19
  },
  {
   "metadata": {
    "ExecuteTime": {
     "end_time": "2025-01-07T10:53:27.529089Z",
     "start_time": "2025-01-07T10:52:22.993762Z"
    }
   },
   "cell_type": "code",
   "source": [
    "\n",
    "df = pd.DataFrame()\n",
    "for i in range(10):\n",
    "    query = \"球速:66.43、發射角度:7.198、發射方向:-6.172、飛行距離:179、ClubAngleFace:-15、ClubAnglePath:6.901front:{A: [0.0, 0.0, -0.0, 0.0, -0.0, -0.0], F: [-0.01, -0.008, 0.0, 0.048, -0.018, -0.011], I: [-0.019, -0.04, 0.184, -0.063, -0.041, -0.023], T: [0.002, 0.0, 0.0, -0.001, -0.001, -0.001]}side:{A: [0.002, -0.001, 0.001, -0.0, -0.002, 0.0], F: [0.001, 0.004, 0.0, -0.001, -0.003, 0.0], I: [0.217, -0.065, -0.013, -0.068, -0.054, -0.013], T: [-0.049, -0.043, 0.253, -0.083, -0.055, -0.013]}\"\n",
    "    image = encode_image(\"C:\\Code\\III_2024_golf\\data/combined/combined_186382.jpg\")\n",
    "    response = retrieval_chain.invoke({\n",
    "        'context': retriever,\n",
    "        'image': image,\n",
    "        'input': query,\n",
    "    })\n",
    "    \n",
    "    #insert response to dataframe\n",
    "    df = df._append({'query': query, 'response': response['answer']}, ignore_index=True)\n",
    "\n",
    "df.to_csv('C:\\Code\\III_2024_golf\\data\\\\rag_output.csv',encoding='utf-8', index=False)\n",
    "    "
   ],
   "id": "db2899830364efbf",
   "outputs": [],
   "execution_count": 190
  }
 ],
 "metadata": {
  "kernelspec": {
   "display_name": "Python 3",
   "language": "python",
   "name": "python3"
  },
  "language_info": {
   "codemirror_mode": {
    "name": "ipython",
    "version": 2
   },
   "file_extension": ".py",
   "mimetype": "text/x-python",
   "name": "python",
   "nbconvert_exporter": "python",
   "pygments_lexer": "ipython2",
   "version": "2.7.6"
  }
 },
 "nbformat": 4,
 "nbformat_minor": 5
}
