{
 "cells": [
  {
   "cell_type": "code",
   "id": "initial_id",
   "metadata": {
    "collapsed": true,
    "ExecuteTime": {
     "end_time": "2025-01-06T10:32:06.719518Z",
     "start_time": "2025-01-06T10:32:06.075958Z"
    }
   },
   "source": [
    "import os \n",
    "import pandas as pd\n",
    "from langchain.chains.summarize.refine_prompts import prompt_template\n",
    "from openai import OpenAI, api_key\n",
    "from dotenv import load_dotenv\n",
    "from pathlib import Path\n",
    "from langchain.chains import RetrievalQA\n",
    "from langchain.docstore.document import Document\n",
    "from langchain.embeddings import OpenAIEmbeddings\n",
    "from langchain.llms import OpenAI \n",
    "from langchain.vectorstores import Chroma\n",
    "from langchain.document_loaders import TextLoader\n",
    "from langchain.document_loaders import DataFrameLoader\n",
    "from langchain.vectorstores import Chroma \n",
    "from langchain_core.messages import HumanMessage, SystemMessage\n",
    "from langchain.chains.combine_documents import create_stuff_documents_chain\n",
    "from langchain.chains import create_retrieval_chain\n",
    "from langchain_core.prompts import ChatPromptTemplate\n",
    "from langchain_core.output_parsers import StrOutputParser\n",
    "from langchain_core.runnables import RunnablePassthrough\n",
    "from langchain_openai import ChatOpenAI\n",
    "from sympy.physics.units import temperature\n",
    "\n",
    "from api import init_prompt\n"
   ],
   "outputs": [
    {
     "ename": "FileNotFoundError",
     "evalue": "[Errno 2] No such file or directory: 'data/回饋規則.xlsx'",
     "output_type": "error",
     "traceback": [
      "\u001B[1;31m---------------------------------------------------------------------------\u001B[0m",
      "\u001B[1;31mFileNotFoundError\u001B[0m                         Traceback (most recent call last)",
      "Cell \u001B[1;32mIn[157], line 22\u001B[0m\n\u001B[0;32m     20\u001B[0m \u001B[38;5;28;01mfrom\u001B[39;00m \u001B[38;5;21;01mlangchain_core\u001B[39;00m\u001B[38;5;21;01m.\u001B[39;00m\u001B[38;5;21;01mrunnables\u001B[39;00m \u001B[38;5;28;01mimport\u001B[39;00m RunnablePassthrough\n\u001B[0;32m     21\u001B[0m \u001B[38;5;28;01mfrom\u001B[39;00m \u001B[38;5;21;01mlangchain_openai\u001B[39;00m \u001B[38;5;28;01mimport\u001B[39;00m ChatOpenAI\n\u001B[1;32m---> 22\u001B[0m \u001B[38;5;28;01mfrom\u001B[39;00m \u001B[38;5;21;01mapi\u001B[39;00m \u001B[38;5;28;01mimport\u001B[39;00m init_prompt\n",
      "File \u001B[1;32mC:\\Code\\III_2024_golf\\api.py:13\u001B[0m\n\u001B[0;32m     11\u001B[0m \u001B[38;5;66;03m# 讀取 回饋規則 檔案\u001B[39;00m\n\u001B[0;32m     12\u001B[0m file_path \u001B[38;5;241m=\u001B[39m \u001B[38;5;124m\"\u001B[39m\u001B[38;5;124mdata/回饋規則.xlsx\u001B[39m\u001B[38;5;124m\"\u001B[39m\n\u001B[1;32m---> 13\u001B[0m data \u001B[38;5;241m=\u001B[39m \u001B[43mpd\u001B[49m\u001B[38;5;241;43m.\u001B[39;49m\u001B[43mread_excel\u001B[49m\u001B[43m(\u001B[49m\u001B[43mfile_path\u001B[49m\u001B[43m)\u001B[49m\n\u001B[0;32m     15\u001B[0m \u001B[38;5;66;03m# 讀取初始提示\u001B[39;00m\n\u001B[0;32m     16\u001B[0m init_prompt \u001B[38;5;241m=\u001B[39m  \u001B[38;5;28mopen\u001B[39m(\u001B[38;5;124m'\u001B[39m\u001B[38;5;124mdata/init_prompt.txt\u001B[39m\u001B[38;5;124m'\u001B[39m)\u001B[38;5;241m.\u001B[39mread()\n",
      "File \u001B[1;32mC:\\Anaconda3lenvs\\golf_v8\\lib\\site-packages\\pandas\\io\\excel\\_base.py:495\u001B[0m, in \u001B[0;36mread_excel\u001B[1;34m(io, sheet_name, header, names, index_col, usecols, dtype, engine, converters, true_values, false_values, skiprows, nrows, na_values, keep_default_na, na_filter, verbose, parse_dates, date_parser, date_format, thousands, decimal, comment, skipfooter, storage_options, dtype_backend, engine_kwargs)\u001B[0m\n\u001B[0;32m    493\u001B[0m \u001B[38;5;28;01mif\u001B[39;00m \u001B[38;5;129;01mnot\u001B[39;00m \u001B[38;5;28misinstance\u001B[39m(io, ExcelFile):\n\u001B[0;32m    494\u001B[0m     should_close \u001B[38;5;241m=\u001B[39m \u001B[38;5;28;01mTrue\u001B[39;00m\n\u001B[1;32m--> 495\u001B[0m     io \u001B[38;5;241m=\u001B[39m \u001B[43mExcelFile\u001B[49m\u001B[43m(\u001B[49m\n\u001B[0;32m    496\u001B[0m \u001B[43m        \u001B[49m\u001B[43mio\u001B[49m\u001B[43m,\u001B[49m\n\u001B[0;32m    497\u001B[0m \u001B[43m        \u001B[49m\u001B[43mstorage_options\u001B[49m\u001B[38;5;241;43m=\u001B[39;49m\u001B[43mstorage_options\u001B[49m\u001B[43m,\u001B[49m\n\u001B[0;32m    498\u001B[0m \u001B[43m        \u001B[49m\u001B[43mengine\u001B[49m\u001B[38;5;241;43m=\u001B[39;49m\u001B[43mengine\u001B[49m\u001B[43m,\u001B[49m\n\u001B[0;32m    499\u001B[0m \u001B[43m        \u001B[49m\u001B[43mengine_kwargs\u001B[49m\u001B[38;5;241;43m=\u001B[39;49m\u001B[43mengine_kwargs\u001B[49m\u001B[43m,\u001B[49m\n\u001B[0;32m    500\u001B[0m \u001B[43m    \u001B[49m\u001B[43m)\u001B[49m\n\u001B[0;32m    501\u001B[0m \u001B[38;5;28;01melif\u001B[39;00m engine \u001B[38;5;129;01mand\u001B[39;00m engine \u001B[38;5;241m!=\u001B[39m io\u001B[38;5;241m.\u001B[39mengine:\n\u001B[0;32m    502\u001B[0m     \u001B[38;5;28;01mraise\u001B[39;00m \u001B[38;5;167;01mValueError\u001B[39;00m(\n\u001B[0;32m    503\u001B[0m         \u001B[38;5;124m\"\u001B[39m\u001B[38;5;124mEngine should not be specified when passing \u001B[39m\u001B[38;5;124m\"\u001B[39m\n\u001B[0;32m    504\u001B[0m         \u001B[38;5;124m\"\u001B[39m\u001B[38;5;124man ExcelFile - ExcelFile already has the engine set\u001B[39m\u001B[38;5;124m\"\u001B[39m\n\u001B[0;32m    505\u001B[0m     )\n",
      "File \u001B[1;32mC:\\Anaconda3lenvs\\golf_v8\\lib\\site-packages\\pandas\\io\\excel\\_base.py:1550\u001B[0m, in \u001B[0;36mExcelFile.__init__\u001B[1;34m(self, path_or_buffer, engine, storage_options, engine_kwargs)\u001B[0m\n\u001B[0;32m   1548\u001B[0m     ext \u001B[38;5;241m=\u001B[39m \u001B[38;5;124m\"\u001B[39m\u001B[38;5;124mxls\u001B[39m\u001B[38;5;124m\"\u001B[39m\n\u001B[0;32m   1549\u001B[0m \u001B[38;5;28;01melse\u001B[39;00m:\n\u001B[1;32m-> 1550\u001B[0m     ext \u001B[38;5;241m=\u001B[39m \u001B[43minspect_excel_format\u001B[49m\u001B[43m(\u001B[49m\n\u001B[0;32m   1551\u001B[0m \u001B[43m        \u001B[49m\u001B[43mcontent_or_path\u001B[49m\u001B[38;5;241;43m=\u001B[39;49m\u001B[43mpath_or_buffer\u001B[49m\u001B[43m,\u001B[49m\u001B[43m \u001B[49m\u001B[43mstorage_options\u001B[49m\u001B[38;5;241;43m=\u001B[39;49m\u001B[43mstorage_options\u001B[49m\n\u001B[0;32m   1552\u001B[0m \u001B[43m    \u001B[49m\u001B[43m)\u001B[49m\n\u001B[0;32m   1553\u001B[0m     \u001B[38;5;28;01mif\u001B[39;00m ext \u001B[38;5;129;01mis\u001B[39;00m \u001B[38;5;28;01mNone\u001B[39;00m:\n\u001B[0;32m   1554\u001B[0m         \u001B[38;5;28;01mraise\u001B[39;00m \u001B[38;5;167;01mValueError\u001B[39;00m(\n\u001B[0;32m   1555\u001B[0m             \u001B[38;5;124m\"\u001B[39m\u001B[38;5;124mExcel file format cannot be determined, you must specify \u001B[39m\u001B[38;5;124m\"\u001B[39m\n\u001B[0;32m   1556\u001B[0m             \u001B[38;5;124m\"\u001B[39m\u001B[38;5;124man engine manually.\u001B[39m\u001B[38;5;124m\"\u001B[39m\n\u001B[0;32m   1557\u001B[0m         )\n",
      "File \u001B[1;32mC:\\Anaconda3lenvs\\golf_v8\\lib\\site-packages\\pandas\\io\\excel\\_base.py:1402\u001B[0m, in \u001B[0;36minspect_excel_format\u001B[1;34m(content_or_path, storage_options)\u001B[0m\n\u001B[0;32m   1399\u001B[0m \u001B[38;5;28;01mif\u001B[39;00m \u001B[38;5;28misinstance\u001B[39m(content_or_path, \u001B[38;5;28mbytes\u001B[39m):\n\u001B[0;32m   1400\u001B[0m     content_or_path \u001B[38;5;241m=\u001B[39m BytesIO(content_or_path)\n\u001B[1;32m-> 1402\u001B[0m \u001B[38;5;28;01mwith\u001B[39;00m \u001B[43mget_handle\u001B[49m\u001B[43m(\u001B[49m\n\u001B[0;32m   1403\u001B[0m \u001B[43m    \u001B[49m\u001B[43mcontent_or_path\u001B[49m\u001B[43m,\u001B[49m\u001B[43m \u001B[49m\u001B[38;5;124;43m\"\u001B[39;49m\u001B[38;5;124;43mrb\u001B[39;49m\u001B[38;5;124;43m\"\u001B[39;49m\u001B[43m,\u001B[49m\u001B[43m \u001B[49m\u001B[43mstorage_options\u001B[49m\u001B[38;5;241;43m=\u001B[39;49m\u001B[43mstorage_options\u001B[49m\u001B[43m,\u001B[49m\u001B[43m \u001B[49m\u001B[43mis_text\u001B[49m\u001B[38;5;241;43m=\u001B[39;49m\u001B[38;5;28;43;01mFalse\u001B[39;49;00m\n\u001B[0;32m   1404\u001B[0m \u001B[43m\u001B[49m\u001B[43m)\u001B[49m \u001B[38;5;28;01mas\u001B[39;00m handle:\n\u001B[0;32m   1405\u001B[0m     stream \u001B[38;5;241m=\u001B[39m handle\u001B[38;5;241m.\u001B[39mhandle\n\u001B[0;32m   1406\u001B[0m     stream\u001B[38;5;241m.\u001B[39mseek(\u001B[38;5;241m0\u001B[39m)\n",
      "File \u001B[1;32mC:\\Anaconda3lenvs\\golf_v8\\lib\\site-packages\\pandas\\io\\common.py:882\u001B[0m, in \u001B[0;36mget_handle\u001B[1;34m(path_or_buf, mode, encoding, compression, memory_map, is_text, errors, storage_options)\u001B[0m\n\u001B[0;32m    873\u001B[0m         handle \u001B[38;5;241m=\u001B[39m \u001B[38;5;28mopen\u001B[39m(\n\u001B[0;32m    874\u001B[0m             handle,\n\u001B[0;32m    875\u001B[0m             ioargs\u001B[38;5;241m.\u001B[39mmode,\n\u001B[1;32m   (...)\u001B[0m\n\u001B[0;32m    878\u001B[0m             newline\u001B[38;5;241m=\u001B[39m\u001B[38;5;124m\"\u001B[39m\u001B[38;5;124m\"\u001B[39m,\n\u001B[0;32m    879\u001B[0m         )\n\u001B[0;32m    880\u001B[0m     \u001B[38;5;28;01melse\u001B[39;00m:\n\u001B[0;32m    881\u001B[0m         \u001B[38;5;66;03m# Binary mode\u001B[39;00m\n\u001B[1;32m--> 882\u001B[0m         handle \u001B[38;5;241m=\u001B[39m \u001B[38;5;28;43mopen\u001B[39;49m\u001B[43m(\u001B[49m\u001B[43mhandle\u001B[49m\u001B[43m,\u001B[49m\u001B[43m \u001B[49m\u001B[43mioargs\u001B[49m\u001B[38;5;241;43m.\u001B[39;49m\u001B[43mmode\u001B[49m\u001B[43m)\u001B[49m\n\u001B[0;32m    883\u001B[0m     handles\u001B[38;5;241m.\u001B[39mappend(handle)\n\u001B[0;32m    885\u001B[0m \u001B[38;5;66;03m# Convert BytesIO or file objects passed with an encoding\u001B[39;00m\n",
      "\u001B[1;31mFileNotFoundError\u001B[0m: [Errno 2] No such file or directory: 'data/回饋規則.xlsx'"
     ]
    }
   ],
   "execution_count": 157
  },
  {
   "metadata": {
    "ExecuteTime": {
     "end_time": "2025-01-06T06:49:24.106857Z",
     "start_time": "2025-01-06T06:49:24.092121Z"
    }
   },
   "cell_type": "code",
   "source": "load_dotenv()",
   "id": "8aa22a8236d9ee30",
   "outputs": [
    {
     "data": {
      "text/plain": [
       "True"
      ]
     },
     "execution_count": 17,
     "metadata": {},
     "output_type": "execute_result"
    }
   ],
   "execution_count": 17
  },
  {
   "metadata": {
    "ExecuteTime": {
     "end_time": "2025-01-06T09:49:37.818064Z",
     "start_time": "2025-01-06T09:49:37.803083Z"
    }
   },
   "cell_type": "code",
   "source": [
    "init_prompt =  open('C:\\Code\\III_2024_golf\\data\\\\rag_init_prompt.txt').read()\n",
    "type(init_prompt)"
   ],
   "id": "c82ac420878c417e",
   "outputs": [
    {
     "data": {
      "text/plain": [
       "str"
      ]
     },
     "execution_count": 117,
     "metadata": {},
     "output_type": "execute_result"
    }
   ],
   "execution_count": 117
  },
  {
   "metadata": {
    "ExecuteTime": {
     "end_time": "2025-01-06T09:49:39.079468Z",
     "start_time": "2025-01-06T09:49:39.067439Z"
    }
   },
   "cell_type": "code",
   "source": "",
   "id": "f14485fe5841285f",
   "outputs": [
    {
     "data": {
      "text/plain": [
       "'你是一位充滿教學熱忱的高爾夫球教練，我會給你以下資訊:\\n1.某位學員在P2上桿(A)、P3上桿(A)、P4 頂點/轉換(F)、P5~6 下桿(I)、P7 擊球(T)的高爾夫擊球動作片段圖集，總共十張，上半部五張是學員正面的的照片，下半部五張是學員側面的圖片，每張圖片紅色點與綠色的線代表學員的骨架，白色輔助線代表球員所在位置 ，粉色的輔助線代表球員的集求姿態不該超越的位置，橙色的輔助線代表揮桿夾角\\n2.學員的擊球數據，包含球速、發射角度、發射方向(球相對於目標線開始的初始方向。正發射方向表示球從目標右側開始，負發射方向表示球從目標左側開始)、飛行距離、ClubAngleFace(高爾夫球手將此稱為具有“開放”或“封閉”桿面。技術定義：在高爾夫球最大壓縮時，球桿面和高爾夫球接觸中心點的水平球桿面方向)、ClubAnglePath(高爾夫擊球的預期曲率(旋轉軸)的關鍵因素。假設中心接觸，球應該朝向面角彎曲並遠離球桿路徑(+5、0、-5))\\n3.與教練的正面和側面姿勢在A、F、I、T四個階段各個關節的差異，格式為front:{{A:[肩膀,手肘,手腕,髖部,膝蓋,腳踝],F:[......}}side:{{A:[肩膀,手肘,手腕,髖部,膝蓋,腳踝],F:[......}}\\n4.回饋規則\\n5.Clubface = clubAnglePath - clubAngleFace，大於3代表在原本的球路上還會偏左，小於3代表在原本的球路上還會遍右，例如左飛球碰到Clubface 大於3就會變成左拉左曲球\\n6.正確輸出建議模板:\"......在我們全面的揮杆分析中，您的揮杆動作與教練大致相同，請繼續保持......\"\\n7.失誤輸出建議模板:\"......在我們全面的揮杆分析中，您的揮杆動作與教練最相似的地方在於<階段>，請繼續保持，然而您的揮杆有幾個地方可以加強。在您的<階段>、考慮調整您的<關節>，試著<調整方法>，這將有助於......\"\\n\\n\\n\\n你有以下幾項任務:\\n1.觀察學員正面與側面圖片的骨架以及參考線，找到姿勢不正確的圖片\\n2.判斷資訊3中與教練的姿勢差異是否有特別突出的地方，如果差異都不大，則判斷是那種正確球路，如果差異有特別突出的地方，則判斷是那種失誤球路\\n3.每次分析都需要根據任務2從回饋規則內尋找最相似的原因，結合Clubface以及圖片判斷屬於回饋規則內的哪一種球路類型，並參考回饋規則內的結果是失誤還是正確，即使球路正確也要判斷是哪種球路，球路嚴重失誤則不需要再進行建議分析，不要只參照數值，請不要自創球路名稱\\n4.結合任務1、2、3以及學員的擊球數據參數，根據學員的姿勢參考回饋規則內的建議範例以及輸出建議模板提供100字以上詳細的一到兩個階段的口語化動作細節具體來說如何調整的建議，並嘗試模仿真人教練的口吻，不要完全照抄範例\\n5. 經過多種原因分析與判斷後，請統一球路類型並提供整合的分析建議為此格式:\\n{{\\n        \"球路\": \"球路類型\",\\n         \"原因\": \"原因文字\",\\n         \"建議\": \"建議文字\"}}\\n6.不須描述非建議內容的輸出範例和執行步驟，所有文字都需要在格式內\\n'"
      ]
     },
     "execution_count": 118,
     "metadata": {},
     "output_type": "execute_result"
    }
   ],
   "execution_count": 118
  },
  {
   "metadata": {},
   "cell_type": "markdown",
   "source": "# RAG建構 ",
   "id": "de3ea1d1ef546038"
  },
  {
   "metadata": {
    "ExecuteTime": {
     "end_time": "2025-01-06T06:50:40.065861Z",
     "start_time": "2025-01-06T06:50:40.034295Z"
    }
   },
   "cell_type": "code",
   "source": [
    "# 加载 Excel 文件\n",
    "file_path = \"C:\\Code\\III_2024_golf\\data\\回饋規則.xlsx\"\n",
    "data = pd.read_excel(file_path)\n",
    "\n",
    "# 查看数据\n",
    "print(data.head())"
   ],
   "id": "ff15889345a5cac9",
   "outputs": [
    {
     "name": "stdout",
     "output_type": "stream",
     "text": [
      "             球路類型  結果                        原因                      改善建議\n",
      "0         Pull左飛球  失誤          上桿(P2~3)時，角度過於陡峭          上桿(P2~3)時，肩膀往右轉動\n",
      "1         Pull左飛球  失誤                    桿頭頂點過高                    肩膀往右轉動\n",
      "2         Pull左飛球  失誤  下桿角度過於陡峭，左手腕過度外展，肩關節伸展抬起  下桿時，左手臂打直、左手腕維持固定、肩膀自然旋轉\n",
      "3         Pull左飛球  失誤            桿面關閉，擊球點位於球的外側       擊球時，左手腕維持固定，注意擊球點位置\n",
      "4  Pull Hook左拉左曲球  失誤          上桿(P2~3)時，角度過於陡峭          上桿(P2~3)時，肩膀往右轉動\n"
     ]
    }
   ],
   "execution_count": 24
  },
  {
   "metadata": {
    "ExecuteTime": {
     "end_time": "2025-01-06T06:50:42.841423Z",
     "start_time": "2025-01-06T06:50:42.825821Z"
    }
   },
   "cell_type": "code",
   "source": [
    "documents = [\n",
    "    Document(\n",
    "        page_content=\" | \".join(map(str, row.values)), \n",
    "        metadata={\"row_index\": index}\n",
    "    )\n",
    "    for index, row in data.iterrows()\n",
    "]\n",
    "\n",
    "print(f\"生成了 {len(documents)} 個文檔\")\n",
    "print(documents[0])"
   ],
   "id": "302a9dd4e1985978",
   "outputs": [
    {
     "name": "stdout",
     "output_type": "stream",
     "text": [
      "生成了 28 個文檔\n",
      "page_content='Pull左飛球 | 失誤 | 上桿(P2~3)時，角度過於陡峭 | 上桿(P2~3)時，肩膀往右轉動' metadata={'row_index': 0}\n"
     ]
    }
   ],
   "execution_count": 25
  },
  {
   "metadata": {
    "ExecuteTime": {
     "end_time": "2025-01-06T07:16:51.070380Z",
     "start_time": "2025-01-06T07:16:39.917295Z"
    }
   },
   "cell_type": "code",
   "source": [
    "# 使用 OpenAI Embeddings 对文档进行向量化\n",
    "import chromadb\n",
    "openai_api_key = os.getenv(\"OPENAI_API_KEY\")\n",
    "embeddings = OpenAIEmbeddings(openai_api_key=openai_api_key)\n",
    "\n",
    "# 创建向量数据库\n",
    "vectorstore = Chroma.from_documents(documents, embeddings)\n"
   ],
   "id": "252aef9061597142",
   "outputs": [],
   "execution_count": 29
  },
  {
   "metadata": {
    "ExecuteTime": {
     "end_time": "2025-01-06T10:41:00.734994Z",
     "start_time": "2025-01-06T10:41:00.722801Z"
    }
   },
   "cell_type": "code",
   "source": [
    "import base64\n",
    "\n",
    "\n",
    "def encode_image(image_path):\n",
    "    with open(image_path, \"rb\") as image_file:\n",
    "        return base64.b64encode(image_file.read()).decode(\"utf-8\")"
   ],
   "id": "7b817db61e3e84ec",
   "outputs": [],
   "execution_count": 161
  },
  {
   "metadata": {
    "ExecuteTime": {
     "end_time": "2025-01-06T11:06:23.939524Z",
     "start_time": "2025-01-06T11:06:16.934780Z"
    }
   },
   "cell_type": "code",
   "source": [
    "\n",
    "\n",
    "# 初始化生成模型\n",
    "client = ChatOpenAI(api_key= openai_api_key,model = \"chatgpt-4o-latest\",temperature=0.2)\n",
    "\n",
    "# 构建 RetrievalQA 链\n",
    "retriever = vectorstore.as_retriever()\n",
    "prompt = ChatPromptTemplate.from_messages([\n",
    "    ('system', init_prompt+'{context}'),\n",
    "    ('user', [\n",
    "                {\"type\": \"text\", \"text\": \"{input}\"},\n",
    "                {\n",
    "                    \"type\": \"image_url\",\n",
    "                    \"image_url\": {\n",
    "                            \"url\": \"data:image/jpeg;base64,'{image}'\",\n",
    "                            \"detail\": \"high\",\n",
    "                        },\n",
    "                },\n",
    "            ],\n",
    "        ),\n",
    "    ])\n",
    "\n",
    "document_chain = create_stuff_documents_chain(client, prompt)\n",
    "retrieval_chain = create_retrieval_chain(retriever, document_chain)\n",
    "\n",
    "# 用户提问\n",
    "query = \"球速:66.43、發射角度:7.198、發射方向:-6.172、飛行距離:179、ClubAngleFace:-15、ClubAnglePath:6.901front:{A: [0.0, 0.0, -0.0, 0.0, -0.0, -0.0], F: [-0.01, -0.008, 0.0, 0.048, -0.018, -0.011], I: [-0.019, -0.04, 0.184, -0.063, -0.041, -0.023], T: [0.002, 0.0, 0.0, -0.001, -0.001, -0.001]}side:{A: [0.002, -0.001, 0.001, -0.0, -0.002, 0.0], F: [0.001, 0.004, 0.0, -0.001, -0.003, 0.0], I: [0.217, -0.065, -0.013, -0.068, -0.054, -0.013], T: [-0.049, -0.043, 0.253, -0.083, -0.055, -0.013]}\"\n",
    "\n",
    "image = encode_image(\"C:\\Code\\III_2024_golf\\data/combined/combined_186382.jpg\")\n",
    "response = retrieval_chain.invoke({\n",
    "    'context': retriever,\n",
    "    'image': image,\n",
    "    'input': query,\n",
    "})\n",
    "\n",
    "print(response['answer'])\n"
   ],
   "id": "b59676d0342e43dc",
   "outputs": [
    {
     "name": "stdout",
     "output_type": "stream",
     "text": [
      "{\n",
      "        \"球路\": \"Pull左飛球\",\n",
      "        \"原因\": \"Clubface數值為-15，ClubAnglePath為6.901，導致Clubface大於3，球路偏左；同時，從圖片觀察到P4頂點時肩膀旋轉不足，導致桿面過於封閉。\",\n",
      "        \"建議\": \"在上桿至頂點(P4)時，專注於肩膀的旋轉，確保肩膀與髖部同步轉動，避免僅依靠手臂完成揮桿。可以嘗試在家中進行鏡子練習，觀察肩膀是否充分旋轉，並保持脊椎角度穩定，這將有助於改善桿面角度，減少左飛球的發生。\"\n",
      "}\n"
     ]
    }
   ],
   "execution_count": 184
  },
  {
   "metadata": {
    "ExecuteTime": {
     "end_time": "2025-01-06T11:06:15.642607Z",
     "start_time": "2025-01-06T11:06:15.632606Z"
    }
   },
   "cell_type": "code",
   "source": " ",
   "id": "72d7923f153af55d",
   "outputs": [],
   "execution_count": 183
  },
  {
   "metadata": {
    "ExecuteTime": {
     "end_time": "2024-12-22T06:58:20.873232Z",
     "start_time": "2024-12-22T06:58:15.704516Z"
    }
   },
   "cell_type": "code",
   "source": [
    "from openai import OpenAI\n",
    "import pandas as pd\n",
    "\n",
    "\n",
    "# 讀取 CSV 檔案\n",
    "csv_file_path = \"data/回饋規則.xlsx\"\n",
    "data = pd.read_excel(csv_file_path)\n",
    "\n",
    "# 將數據轉換為文字格式（或提取特定欄位）\n",
    "text_representation = data.to_string()  \n",
    "\n",
    "# 定義提示字串\n",
    "prompt = f\"\"\"\n",
    "{init_prompt}\n",
    "以下是一些來自回饋規則檔案的數據：\n",
    "{text_representation}\n",
    "\n",
    "\"\"\"\n",
    "image_path = \"data/combined/combined_186382.jpg\"\n",
    "encoded_image = encode_image(image_path)\n",
    "\n",
    "\n",
    "# 呼叫 OpenAI API\n",
    "client = OpenAI()\n",
    "\n",
    "completion = client.chat.completions.create(\n",
    "    model=\"chatgpt-4o-latest\",\n",
    "    messages=[\n",
    "        {\"role\": \"system\", \"content\": prompt},\n",
    "        {\n",
    "            \"role\": \"user\",\n",
    "            \"content\": [\n",
    "                {\"type\": \"text\", \n",
    "                 \"text\": \"\"},\n",
    "                {\n",
    "                    \"type\": \"image_url\",\n",
    "                    \"image_url\": {\n",
    "                        \"url\": f\"https://cdn.discordapp.com/attachments/727209373612638362/1315702149514137763/combined_186382.jpg?ex=6768d95d&is=676787dd&hm=3e47443ea303edbc8e73e6994f2df268aacae3b1f731155554fa2dc58e7c9f2b&\",\n",
    "                        \"detail\": \"high\",\n",
    "                    }\n",
    "                },\n",
    "            ],\n",
    "        }\n",
    "    ]\n",
    ")\n",
    "\n",
    "print(completion.choices[0].message.content)\n",
    "\n"
   ],
   "id": "84bd7da95efdf7da",
   "outputs": [
    {
     "name": "stdout",
     "output_type": "stream",
     "text": [
      "{\n",
      "    \"球路\": \"Pull Hook左拉左曲球\",\n",
      "    \"原因\": \"上桿(P2~3)時角度過於陡峭，且桿頭頂點過高，影響下桿軌跡。下桿過於陡峭，手腕過度彎曲；桿面過於閉合且擊球點位於球的外側。\",\n",
      "    \"建議\": \"您的揮桿動作與教練最相似的地方在於P4頂點位置，請繼續保持。然而，建議您在上桿至P3時，肩膀轉動要保持穩定且避免過度，因此試著稍微減少手腕內收與保持桿面角度。下桿時，關注於肩膀與手臂的協調，讓左手腕固定且避免過度彎曲，並注意擊球點位置，以提升穩定性與準確度。此外，P2至P3過程中可緩慢練習，確保桿身與地面保持適當角度避免過陡。\"\n",
      "}\n"
     ]
    }
   ],
   "execution_count": 99
  }
 ],
 "metadata": {
  "kernelspec": {
   "display_name": "Python 3",
   "language": "python",
   "name": "python3"
  },
  "language_info": {
   "codemirror_mode": {
    "name": "ipython",
    "version": 2
   },
   "file_extension": ".py",
   "mimetype": "text/x-python",
   "name": "python",
   "nbconvert_exporter": "python",
   "pygments_lexer": "ipython2",
   "version": "2.7.6"
  }
 },
 "nbformat": 4,
 "nbformat_minor": 5
}
