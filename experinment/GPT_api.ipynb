{
 "cells": [
  {
   "cell_type": "code",
   "id": "initial_id",
   "metadata": {
    "collapsed": true,
    "ExecuteTime": {
     "end_time": "2024-12-22T06:40:55.633942Z",
     "start_time": "2024-12-22T06:40:55.505501Z"
    }
   },
   "source": [
    "import os \n",
    "import pandas as pd\n",
    "from openai import OpenAI, api_key\n",
    "from dotenv import load_dotenv\n",
    "from pathlib import Path\n",
    "from langchain.chains import RetrievalQA\n",
    "from langchain.docstore.document import Document\n",
    "from langchain.embeddings import OpenAIEmbeddings\n",
    "from langchain.llms import openai\n",
    "\n",
    "from langchain.document_loaders import TextLoader\n",
    "from langchain.document_loaders import DataFrameLoader\n",
    "from langchain.vectorstores import Chroma \n",
    "\n",
    "\n",
    "\n"
   ],
   "outputs": [
    {
     "ename": "TypeError",
     "evalue": "'ABCMeta' object is not subscriptable",
     "output_type": "error",
     "traceback": [
      "\u001B[1;31m---------------------------------------------------------------------------\u001B[0m",
      "\u001B[1;31mTypeError\u001B[0m                                 Traceback (most recent call last)",
      "Cell \u001B[1;32mIn[91], line 11\u001B[0m\n\u001B[0;32m      8\u001B[0m \u001B[38;5;28;01mfrom\u001B[39;00m \u001B[38;5;21;01mlangchain\u001B[39;00m\u001B[38;5;21;01m.\u001B[39;00m\u001B[38;5;21;01membeddings\u001B[39;00m \u001B[38;5;28;01mimport\u001B[39;00m OpenAIEmbeddings\n\u001B[0;32m      9\u001B[0m \u001B[38;5;28;01mfrom\u001B[39;00m \u001B[38;5;21;01mlangchain\u001B[39;00m\u001B[38;5;21;01m.\u001B[39;00m\u001B[38;5;21;01mllms\u001B[39;00m \u001B[38;5;28;01mimport\u001B[39;00m openai\n\u001B[1;32m---> 11\u001B[0m \u001B[38;5;28;01mfrom\u001B[39;00m \u001B[38;5;21;01mlangchain\u001B[39;00m\u001B[38;5;21;01m.\u001B[39;00m\u001B[38;5;21;01mdocument_loaders\u001B[39;00m \u001B[38;5;28;01mimport\u001B[39;00m TextLoader\n\u001B[0;32m     12\u001B[0m \u001B[38;5;28;01mfrom\u001B[39;00m \u001B[38;5;21;01mlangchain\u001B[39;00m\u001B[38;5;21;01m.\u001B[39;00m\u001B[38;5;21;01mdocument_loaders\u001B[39;00m \u001B[38;5;28;01mimport\u001B[39;00m DataFrameLoader\n\u001B[0;32m     13\u001B[0m \u001B[38;5;28;01mfrom\u001B[39;00m \u001B[38;5;21;01mlangchain\u001B[39;00m\u001B[38;5;21;01m.\u001B[39;00m\u001B[38;5;21;01mvectorstores\u001B[39;00m \u001B[38;5;28;01mimport\u001B[39;00m Chroma \n",
      "File \u001B[1;32mC:\\Anaconda3lenvs\\golf_v7\\lib\\site-packages\\langchain\\document_loaders\\__init__.py:192\u001B[0m\n\u001B[0;32m     22\u001B[0m \u001B[38;5;28;01mif\u001B[39;00m TYPE_CHECKING:\n\u001B[0;32m     23\u001B[0m     \u001B[38;5;28;01mfrom\u001B[39;00m \u001B[38;5;21;01mlangchain_community\u001B[39;00m\u001B[38;5;21;01m.\u001B[39;00m\u001B[38;5;21;01mdocument_loaders\u001B[39;00m \u001B[38;5;28;01mimport\u001B[39;00m (\n\u001B[0;32m     24\u001B[0m         AcreomLoader,\n\u001B[0;32m     25\u001B[0m         AirbyteCDKLoader,\n\u001B[1;32m   (...)\u001B[0m\n\u001B[0;32m    189\u001B[0m         YuqueLoader,\n\u001B[0;32m    190\u001B[0m     )\n\u001B[1;32m--> 192\u001B[0m \u001B[38;5;28;01mfrom\u001B[39;00m \u001B[38;5;21;01mlangchain_core\u001B[39;00m\u001B[38;5;21;01m.\u001B[39;00m\u001B[38;5;21;01mdocument_loaders\u001B[39;00m \u001B[38;5;28;01mimport\u001B[39;00m Blob, BlobLoader\n\u001B[0;32m    194\u001B[0m \u001B[38;5;66;03m# For backwards compatibility\u001B[39;00m\n\u001B[0;32m    195\u001B[0m _old_to_new_name \u001B[38;5;241m=\u001B[39m {\n\u001B[0;32m    196\u001B[0m     \u001B[38;5;124m\"\u001B[39m\u001B[38;5;124mPagedPDFSplitter\u001B[39m\u001B[38;5;124m\"\u001B[39m: \u001B[38;5;124m\"\u001B[39m\u001B[38;5;124mPyPDFLoader\u001B[39m\u001B[38;5;124m\"\u001B[39m,\n\u001B[0;32m    197\u001B[0m     \u001B[38;5;124m\"\u001B[39m\u001B[38;5;124mTelegramChatLoader\u001B[39m\u001B[38;5;124m\"\u001B[39m: \u001B[38;5;124m\"\u001B[39m\u001B[38;5;124mTelegramChatFileLoader\u001B[39m\u001B[38;5;124m\"\u001B[39m,\n\u001B[0;32m    198\u001B[0m }\n",
      "File \u001B[1;32mC:\\Anaconda3lenvs\\golf_v7\\lib\\site-packages\\langchain_core\\document_loaders\\__init__.py:3\u001B[0m\n\u001B[0;32m      1\u001B[0m \u001B[38;5;28;01mfrom\u001B[39;00m \u001B[38;5;21;01mlangchain_core\u001B[39;00m\u001B[38;5;21;01m.\u001B[39;00m\u001B[38;5;21;01mdocument_loaders\u001B[39;00m\u001B[38;5;21;01m.\u001B[39;00m\u001B[38;5;21;01mbase\u001B[39;00m \u001B[38;5;28;01mimport\u001B[39;00m BaseBlobParser, BaseLoader\n\u001B[0;32m      2\u001B[0m \u001B[38;5;28;01mfrom\u001B[39;00m \u001B[38;5;21;01mlangchain_core\u001B[39;00m\u001B[38;5;21;01m.\u001B[39;00m\u001B[38;5;21;01mdocument_loaders\u001B[39;00m\u001B[38;5;21;01m.\u001B[39;00m\u001B[38;5;21;01mblob_loaders\u001B[39;00m \u001B[38;5;28;01mimport\u001B[39;00m Blob, BlobLoader, PathLike\n\u001B[1;32m----> 3\u001B[0m \u001B[38;5;28;01mfrom\u001B[39;00m \u001B[38;5;21;01mlangchain_core\u001B[39;00m\u001B[38;5;21;01m.\u001B[39;00m\u001B[38;5;21;01mdocument_loaders\u001B[39;00m\u001B[38;5;21;01m.\u001B[39;00m\u001B[38;5;21;01mlangsmith\u001B[39;00m \u001B[38;5;28;01mimport\u001B[39;00m LangSmithLoader\n\u001B[0;32m      5\u001B[0m __all__ \u001B[38;5;241m=\u001B[39m [\n\u001B[0;32m      6\u001B[0m     \u001B[38;5;124m\"\u001B[39m\u001B[38;5;124mBaseBlobParser\u001B[39m\u001B[38;5;124m\"\u001B[39m,\n\u001B[0;32m      7\u001B[0m     \u001B[38;5;124m\"\u001B[39m\u001B[38;5;124mBaseLoader\u001B[39m\u001B[38;5;124m\"\u001B[39m,\n\u001B[1;32m   (...)\u001B[0m\n\u001B[0;32m     11\u001B[0m     \u001B[38;5;124m\"\u001B[39m\u001B[38;5;124mLangSmithLoader\u001B[39m\u001B[38;5;124m\"\u001B[39m,\n\u001B[0;32m     12\u001B[0m ]\n",
      "File \u001B[1;32mC:\\Anaconda3lenvs\\golf_v7\\lib\\site-packages\\langchain_core\\document_loaders\\langsmith.py:13\u001B[0m\n\u001B[0;32m      9\u001B[0m \u001B[38;5;28;01mfrom\u001B[39;00m \u001B[38;5;21;01mlangchain_core\u001B[39;00m\u001B[38;5;21;01m.\u001B[39;00m\u001B[38;5;21;01mdocument_loaders\u001B[39;00m\u001B[38;5;21;01m.\u001B[39;00m\u001B[38;5;21;01mbase\u001B[39;00m \u001B[38;5;28;01mimport\u001B[39;00m BaseLoader\n\u001B[0;32m     10\u001B[0m \u001B[38;5;28;01mfrom\u001B[39;00m \u001B[38;5;21;01mlangchain_core\u001B[39;00m\u001B[38;5;21;01m.\u001B[39;00m\u001B[38;5;21;01mdocuments\u001B[39;00m \u001B[38;5;28;01mimport\u001B[39;00m Document\n\u001B[1;32m---> 13\u001B[0m \u001B[38;5;28;01mclass\u001B[39;00m \u001B[38;5;21;01mLangSmithLoader\u001B[39;00m(BaseLoader):\n\u001B[0;32m     14\u001B[0m \u001B[38;5;250m    \u001B[39m\u001B[38;5;124;03m\"\"\"Load LangSmith Dataset examples as Documents.\u001B[39;00m\n\u001B[0;32m     15\u001B[0m \n\u001B[0;32m     16\u001B[0m \u001B[38;5;124;03m    Loads the example inputs as the Document page content and places the entire example\u001B[39;00m\n\u001B[1;32m   (...)\u001B[0m\n\u001B[0;32m     35\u001B[0m \u001B[38;5;124;03m    .. versionadded:: 0.2.34\u001B[39;00m\n\u001B[0;32m     36\u001B[0m \u001B[38;5;124;03m    \"\"\"\u001B[39;00m  \u001B[38;5;66;03m# noqa: E501\u001B[39;00m\n\u001B[0;32m     38\u001B[0m     \u001B[38;5;28;01mdef\u001B[39;00m \u001B[38;5;21m__init__\u001B[39m(\n\u001B[0;32m     39\u001B[0m         \u001B[38;5;28mself\u001B[39m,\n\u001B[0;32m     40\u001B[0m         \u001B[38;5;241m*\u001B[39m,\n\u001B[1;32m   (...)\u001B[0m\n\u001B[0;32m     54\u001B[0m         \u001B[38;5;241m*\u001B[39m\u001B[38;5;241m*\u001B[39mclient_kwargs: Any,\n\u001B[0;32m     55\u001B[0m     ) \u001B[38;5;241m-\u001B[39m\u001B[38;5;241m>\u001B[39m \u001B[38;5;28;01mNone\u001B[39;00m:\n",
      "File \u001B[1;32mC:\\Anaconda3lenvs\\golf_v7\\lib\\site-packages\\langchain_core\\document_loaders\\langsmith.py:43\u001B[0m, in \u001B[0;36mLangSmithLoader\u001B[1;34m()\u001B[0m\n\u001B[0;32m     13\u001B[0m \u001B[38;5;28;01mclass\u001B[39;00m \u001B[38;5;21;01mLangSmithLoader\u001B[39;00m(BaseLoader):\n\u001B[0;32m     14\u001B[0m \u001B[38;5;250m    \u001B[39m\u001B[38;5;124;03m\"\"\"Load LangSmith Dataset examples as Documents.\u001B[39;00m\n\u001B[0;32m     15\u001B[0m \n\u001B[0;32m     16\u001B[0m \u001B[38;5;124;03m    Loads the example inputs as the Document page content and places the entire example\u001B[39;00m\n\u001B[1;32m   (...)\u001B[0m\n\u001B[0;32m     35\u001B[0m \u001B[38;5;124;03m    .. versionadded:: 0.2.34\u001B[39;00m\n\u001B[0;32m     36\u001B[0m \u001B[38;5;124;03m    \"\"\"\u001B[39;00m  \u001B[38;5;66;03m# noqa: E501\u001B[39;00m\n\u001B[0;32m     38\u001B[0m     \u001B[38;5;28;01mdef\u001B[39;00m \u001B[38;5;21m__init__\u001B[39m(\n\u001B[0;32m     39\u001B[0m         \u001B[38;5;28mself\u001B[39m,\n\u001B[0;32m     40\u001B[0m         \u001B[38;5;241m*\u001B[39m,\n\u001B[0;32m     41\u001B[0m         dataset_id: Optional[Union[uuid\u001B[38;5;241m.\u001B[39mUUID, \u001B[38;5;28mstr\u001B[39m]] \u001B[38;5;241m=\u001B[39m \u001B[38;5;28;01mNone\u001B[39;00m,\n\u001B[0;32m     42\u001B[0m         dataset_name: Optional[\u001B[38;5;28mstr\u001B[39m] \u001B[38;5;241m=\u001B[39m \u001B[38;5;28;01mNone\u001B[39;00m,\n\u001B[1;32m---> 43\u001B[0m         example_ids: Optional[\u001B[43mSequence\u001B[49m\u001B[43m[\u001B[49m\u001B[43mUnion\u001B[49m\u001B[43m[\u001B[49m\u001B[43muuid\u001B[49m\u001B[38;5;241;43m.\u001B[39;49m\u001B[43mUUID\u001B[49m\u001B[43m,\u001B[49m\u001B[43m \u001B[49m\u001B[38;5;28;43mstr\u001B[39;49m\u001B[43m]\u001B[49m\u001B[43m]\u001B[49m] \u001B[38;5;241m=\u001B[39m \u001B[38;5;28;01mNone\u001B[39;00m,\n\u001B[0;32m     44\u001B[0m         as_of: Optional[Union[datetime\u001B[38;5;241m.\u001B[39mdatetime, \u001B[38;5;28mstr\u001B[39m]] \u001B[38;5;241m=\u001B[39m \u001B[38;5;28;01mNone\u001B[39;00m,\n\u001B[0;32m     45\u001B[0m         splits: Optional[Sequence[\u001B[38;5;28mstr\u001B[39m]] \u001B[38;5;241m=\u001B[39m \u001B[38;5;28;01mNone\u001B[39;00m,\n\u001B[0;32m     46\u001B[0m         inline_s3_urls: \u001B[38;5;28mbool\u001B[39m \u001B[38;5;241m=\u001B[39m \u001B[38;5;28;01mTrue\u001B[39;00m,\n\u001B[0;32m     47\u001B[0m         offset: \u001B[38;5;28mint\u001B[39m \u001B[38;5;241m=\u001B[39m \u001B[38;5;241m0\u001B[39m,\n\u001B[0;32m     48\u001B[0m         limit: Optional[\u001B[38;5;28mint\u001B[39m] \u001B[38;5;241m=\u001B[39m \u001B[38;5;28;01mNone\u001B[39;00m,\n\u001B[0;32m     49\u001B[0m         metadata: Optional[\u001B[38;5;28mdict\u001B[39m] \u001B[38;5;241m=\u001B[39m \u001B[38;5;28;01mNone\u001B[39;00m,\n\u001B[0;32m     50\u001B[0m         \u001B[38;5;28mfilter\u001B[39m: Optional[\u001B[38;5;28mstr\u001B[39m] \u001B[38;5;241m=\u001B[39m \u001B[38;5;28;01mNone\u001B[39;00m,\n\u001B[0;32m     51\u001B[0m         content_key: \u001B[38;5;28mstr\u001B[39m \u001B[38;5;241m=\u001B[39m \u001B[38;5;124m\"\u001B[39m\u001B[38;5;124m\"\u001B[39m,\n\u001B[0;32m     52\u001B[0m         format_content: Optional[Callable[\u001B[38;5;241m.\u001B[39m\u001B[38;5;241m.\u001B[39m\u001B[38;5;241m.\u001B[39m, \u001B[38;5;28mstr\u001B[39m]] \u001B[38;5;241m=\u001B[39m \u001B[38;5;28;01mNone\u001B[39;00m,\n\u001B[0;32m     53\u001B[0m         client: Optional[LangSmithClient] \u001B[38;5;241m=\u001B[39m \u001B[38;5;28;01mNone\u001B[39;00m,\n\u001B[0;32m     54\u001B[0m         \u001B[38;5;241m*\u001B[39m\u001B[38;5;241m*\u001B[39mclient_kwargs: Any,\n\u001B[0;32m     55\u001B[0m     ) \u001B[38;5;241m-\u001B[39m\u001B[38;5;241m>\u001B[39m \u001B[38;5;28;01mNone\u001B[39;00m:\n\u001B[0;32m     56\u001B[0m \u001B[38;5;250m        \u001B[39m\u001B[38;5;124;03m\"\"\"\u001B[39;00m\n\u001B[0;32m     57\u001B[0m \u001B[38;5;124;03m        Args:\u001B[39;00m\n\u001B[0;32m     58\u001B[0m \u001B[38;5;124;03m            dataset_id: The ID of the dataset to filter by. Defaults to None.\u001B[39;00m\n\u001B[1;32m   (...)\u001B[0m\n\u001B[0;32m     80\u001B[0m \u001B[38;5;124;03m                specified if ``client`` isn't.\u001B[39;00m\n\u001B[0;32m     81\u001B[0m \u001B[38;5;124;03m        \"\"\"\u001B[39;00m  \u001B[38;5;66;03m# noqa: E501\u001B[39;00m\n\u001B[0;32m     82\u001B[0m         \u001B[38;5;28;01mif\u001B[39;00m client \u001B[38;5;129;01mand\u001B[39;00m client_kwargs:\n",
      "\u001B[1;31mTypeError\u001B[0m: 'ABCMeta' object is not subscriptable"
     ]
    }
   ],
   "execution_count": 91
  },
  {
   "metadata": {
    "ExecuteTime": {
     "end_time": "2024-12-20T13:27:36.160993Z",
     "start_time": "2024-12-20T13:27:36.143028Z"
    }
   },
   "cell_type": "code",
   "source": "load_dotenv()",
   "id": "8aa22a8236d9ee30",
   "outputs": [
    {
     "data": {
      "text/plain": [
       "True"
      ]
     },
     "execution_count": 66,
     "metadata": {},
     "output_type": "execute_result"
    }
   ],
   "execution_count": 66
  },
  {
   "metadata": {
    "ExecuteTime": {
     "end_time": "2024-12-20T13:27:37.489159Z",
     "start_time": "2024-12-20T13:27:37.478949Z"
    }
   },
   "cell_type": "code",
   "source": "init_prompt =  open('data/init_prompt.txt').read()",
   "id": "c82ac420878c417e",
   "outputs": [],
   "execution_count": 67
  },
  {
   "metadata": {},
   "cell_type": "markdown",
   "source": "# RAG建構 ",
   "id": "de3ea1d1ef546038"
  },
  {
   "metadata": {
    "ExecuteTime": {
     "end_time": "2024-12-20T13:27:54.489605Z",
     "start_time": "2024-12-20T13:27:54.455393Z"
    }
   },
   "cell_type": "code",
   "source": [
    "# 加载 Excel 文件\n",
    "file_path = \"data/回饋規則.xlsx\"\n",
    "data = pd.read_excel(file_path)\n",
    "\n",
    "# 查看数据\n",
    "print(data.head())"
   ],
   "id": "ff15889345a5cac9",
   "outputs": [
    {
     "name": "stdout",
     "output_type": "stream",
     "text": [
      "             球路類型  結果                        原因                      改善建議\n",
      "0         Pull左飛球  失誤          上桿(P2~3)時，角度過於陡峭          上桿(P2~3)時，肩膀往右轉動\n",
      "1         Pull左飛球  失誤                    桿頭頂點過高                    肩膀往右轉動\n",
      "2         Pull左飛球  失誤  下桿角度過於陡峭，左手腕過度外展，肩關節伸展抬起  下桿時，左手臂打直、左手腕維持固定、肩膀自然旋轉\n",
      "3         Pull左飛球  失誤            桿面關閉，擊球點位於球的外側       擊球時，左手腕維持固定，注意擊球點位置\n",
      "4  Pull Hook左拉左曲球  失誤          上桿(P2~3)時，角度過於陡峭          上桿(P2~3)時，肩膀往右轉動\n"
     ]
    }
   ],
   "execution_count": 68
  },
  {
   "metadata": {
    "ExecuteTime": {
     "end_time": "2024-12-20T13:33:20.491411Z",
     "start_time": "2024-12-20T13:33:20.476902Z"
    }
   },
   "cell_type": "code",
   "source": [
    "documents = [\n",
    "    Document(\n",
    "        page_content=\" | \".join(map(str, row.values)), \n",
    "        metadata={\"row_index\": index}\n",
    "    )\n",
    "    for index, row in data.iterrows()\n",
    "]\n",
    "\n",
    "print(f\"生成了 {len(documents)} 個文檔\")\n",
    "print(documents[0])"
   ],
   "id": "302a9dd4e1985978",
   "outputs": [
    {
     "name": "stdout",
     "output_type": "stream",
     "text": [
      "生成了 28 個文檔\n",
      "page_content='Pull左飛球 | 失誤 | 上桿(P2~3)時，角度過於陡峭 | 上桿(P2~3)時，肩膀往右轉動' metadata={'row_index': 0}\n"
     ]
    }
   ],
   "execution_count": 74
  },
  {
   "metadata": {
    "ExecuteTime": {
     "end_time": "2024-12-20T13:33:22.615762Z",
     "start_time": "2024-12-20T13:33:22.574802Z"
    }
   },
   "cell_type": "code",
   "source": [
    "# 使用 OpenAI Embeddings 对文档进行向量化\n",
    "openai_api_key = os.getenv(\"OPENAI_API_KEY\")\n",
    "embeddings = OpenAIEmbeddings(openai_api_key=openai_api_key)\n",
    "\n",
    "# 创建向量数据库\n",
    "vectorstore = Chroma.from_documents(documents, embeddings)\n",
    "\n",
    "\n",
    "\n"
   ],
   "id": "252aef9061597142",
   "outputs": [
    {
     "name": "stderr",
     "output_type": "stream",
     "text": [
      "C:\\Users\\李冠廷\\AppData\\Local\\Temp\\ipykernel_51856\\3788260636.py:3: LangChainDeprecationWarning: The class `OpenAIEmbeddings` was deprecated in LangChain 0.0.9 and will be removed in 1.0. An updated version of the class exists in the langchain-openai package and should be used instead. To use it run `pip install -U langchain-openai` and import as `from langchain_openai import OpenAIEmbeddings`.\n",
      "  embeddings = OpenAIEmbeddings(openai_api_key=openai_api_key)\n"
     ]
    },
    {
     "ename": "NameError",
     "evalue": "name 'Chroma' is not defined",
     "output_type": "error",
     "traceback": [
      "\u001B[1;31m---------------------------------------------------------------------------\u001B[0m",
      "\u001B[1;31mNameError\u001B[0m                                 Traceback (most recent call last)",
      "Cell \u001B[1;32mIn[75], line 6\u001B[0m\n\u001B[0;32m      3\u001B[0m embeddings \u001B[38;5;241m=\u001B[39m OpenAIEmbeddings(openai_api_key\u001B[38;5;241m=\u001B[39mopenai_api_key)\n\u001B[0;32m      5\u001B[0m \u001B[38;5;66;03m# 创建向量数据库\u001B[39;00m\n\u001B[1;32m----> 6\u001B[0m vectorstore \u001B[38;5;241m=\u001B[39m \u001B[43mChroma\u001B[49m\u001B[38;5;241m.\u001B[39mfrom_documents(documents, embeddings)\n",
      "\u001B[1;31mNameError\u001B[0m: name 'Chroma' is not defined"
     ]
    }
   ],
   "execution_count": 75
  },
  {
   "metadata": {
    "ExecuteTime": {
     "end_time": "2024-12-09T15:16:03.952144Z",
     "start_time": "2024-12-09T15:16:03.948860Z"
    }
   },
   "cell_type": "code",
   "source": "#嘗試只使用excel轉文字",
   "id": "b59676d0342e43dc",
   "outputs": [],
   "execution_count": 98
  },
  {
   "metadata": {
    "ExecuteTime": {
     "end_time": "2024-12-20T13:46:00.535065Z",
     "start_time": "2024-12-20T13:46:00.530059Z"
    }
   },
   "cell_type": "code",
   "source": [
    "import base64\n",
    "\n",
    "\n",
    "def encode_image(image_path):\n",
    "    with open(image_path, \"rb\") as image_file:\n",
    "        return base64.b64encode(image_file.read()).decode(\"utf-8\")"
   ],
   "id": "7b817db61e3e84ec",
   "outputs": [],
   "execution_count": 84
  },
  {
   "metadata": {
    "ExecuteTime": {
     "end_time": "2024-12-22T06:58:20.873232Z",
     "start_time": "2024-12-22T06:58:15.704516Z"
    }
   },
   "cell_type": "code",
   "source": [
    "from openai import OpenAI\n",
    "import pandas as pd\n",
    "\n",
    "\n",
    "# 讀取 CSV 檔案\n",
    "csv_file_path = \"data/回饋規則.xlsx\"\n",
    "data = pd.read_excel(csv_file_path)\n",
    "\n",
    "# 將數據轉換為文字格式（或提取特定欄位）\n",
    "text_representation = data.to_string()  \n",
    "\n",
    "# 定義提示字串\n",
    "prompt = f\"\"\"\n",
    "{init_prompt}\n",
    "以下是一些來自回饋規則檔案的數據：\n",
    "{text_representation}\n",
    "\n",
    "\"\"\"\n",
    "image_path = \"data/combined/combined_186382.jpg\"\n",
    "encoded_image = encode_image(image_path)\n",
    "\n",
    "\n",
    "# 呼叫 OpenAI API\n",
    "client = OpenAI()\n",
    "\n",
    "completion = client.chat.completions.create(\n",
    "    model=\"chatgpt-4o-latest\",\n",
    "    messages=[\n",
    "        {\"role\": \"system\", \"content\": prompt},\n",
    "        {\n",
    "            \"role\": \"user\",\n",
    "            \"content\": [\n",
    "                {\"type\": \"text\", \n",
    "                 \"text\": \"\"},\n",
    "                {\n",
    "                    \"type\": \"image_url\",\n",
    "                    \"image_url\": {\n",
    "                        \"url\": f\"https://cdn.discordapp.com/attachments/727209373612638362/1315702149514137763/combined_186382.jpg?ex=6768d95d&is=676787dd&hm=3e47443ea303edbc8e73e6994f2df268aacae3b1f731155554fa2dc58e7c9f2b&\",\n",
    "                        \"detail\": \"high\",\n",
    "                    }\n",
    "                },\n",
    "            ],\n",
    "        }\n",
    "    ]\n",
    ")\n",
    "\n",
    "print(completion.choices[0].message.content)\n",
    "\n"
   ],
   "id": "84bd7da95efdf7da",
   "outputs": [
    {
     "name": "stdout",
     "output_type": "stream",
     "text": [
      "{\n",
      "    \"球路\": \"Pull Hook左拉左曲球\",\n",
      "    \"原因\": \"上桿(P2~3)時角度過於陡峭，且桿頭頂點過高，影響下桿軌跡。下桿過於陡峭，手腕過度彎曲；桿面過於閉合且擊球點位於球的外側。\",\n",
      "    \"建議\": \"您的揮桿動作與教練最相似的地方在於P4頂點位置，請繼續保持。然而，建議您在上桿至P3時，肩膀轉動要保持穩定且避免過度，因此試著稍微減少手腕內收與保持桿面角度。下桿時，關注於肩膀與手臂的協調，讓左手腕固定且避免過度彎曲，並注意擊球點位置，以提升穩定性與準確度。此外，P2至P3過程中可緩慢練習，確保桿身與地面保持適當角度避免過陡。\"\n",
      "}\n"
     ]
    }
   ],
   "execution_count": 99
  },
  {
   "metadata": {
    "ExecuteTime": {
     "end_time": "2024-12-20T12:30:29.212298Z",
     "start_time": "2024-12-20T12:30:29.202172Z"
    }
   },
   "cell_type": "code",
   "outputs": [
    {
     "data": {
      "text/plain": [
       "'\\n你是一位充滿教學熱忱的高爾夫球教練，我會給你以下資訊:\\n1.某位學員在P2上桿(A)、P3上桿(A)、P4 頂點/轉換(F)、P5~6 下桿(I)、P7 擊球(T)的高爾夫擊球動作片段圖集，總共十張，上半部五張是學員正面的的照片，下半部五張是學員側面的圖片，每張圖片紅色點與綠色的線代表學員的骨架，白色輔助線代表球員所在位置 ，粉色的輔助線代表球員的集求姿態不該超越的位置，橙色的輔助線代表揮桿夾角\\n2.學員的擊球數據，包含球速、發射角度、發射方向(球相對於目標線開始的初始方向。正發射方向表示球從目標右側開始，負發射方向表示球從目標左側開始)、飛行距離、ClubAngleFace(高爾夫球手將此稱為具有“開放”或“封閉”桿面。技術定義：在高爾夫球最大壓縮時，球桿面和高爾夫球接觸中心點的水平球桿面方向)、ClubAnglePath(高爾夫擊球的預期曲率(旋轉軸)的關鍵因素。假設中心接觸，球應該朝向面角彎曲並遠離球桿路徑(+5、0、-5))\\n3.與教練的正面和側面姿勢在A、F、I、T四個階段各個關節的差異，格式為front:{A:[肩膀,手肘,手腕,髖部,膝蓋,腳踝],F:[......}side:{A:[肩膀,手肘,手腕,髖部,膝蓋,腳踝],F:[......}\\n4.回饋規則\\n5.Clubface = clubAnglePath - clubAngleFace，大於3代表在原本的球路上還會偏左，小於3代表在原本的球路上還會遍右，例如左飛球碰到Clubface 大於3就會變成左拉左曲球\\n6.如果Clubface 大於或小於15則判斷為發射嚴重失誤\\n7.正確輸出建議模板:\"......在我們全面的揮杆分析中，您的揮杆動作與教練最相似的地方在於<階段>，請繼續保持......\"\\n8.失誤輸出建議模板:\"......在我們全面的揮杆分析中，您的揮杆動作與教練最相似的地方在於<階段>，請繼續保持，然而您的揮杆有幾個地方可以加強。在您的<階段>、考慮調整您的<關節>，試著<調整方法>，這將有助於改進您的揮杆技術。......\"\\n\\n\\n\\n你有以下幾項任務:\\n1.觀察學員正面與側面圖片的骨架以及參考線，找到姿勢不正確的圖片\\n2.找到資訊3中與教練的姿勢差異最大的階段\\n3.每次分析都需要根據任務2從回饋規則內尋找最相似的原因，結合Clubface以及圖片判斷屬於回饋規則內的哪一種球路類型，並參考回饋規則內的結果欄位是失誤還是正確，即使球路正確也要判斷是哪種球路，球路嚴重失誤則不需要再進行建議分析，不要只參照數值，請不要自創球路名稱\\n4.結合任務1、2、3以及學員的擊球數據參數，根據學員的姿勢以真人教練的口吻並參考回饋規則內的建議範例以及輸出建議模板提供50字以上詳細的一到兩個階段的口語化動作改善建議，不要完全照抄範例\\n5. 經過多種原因分析與判斷後，請統一球路類型並提供整合的分析建議，需符合JSON輸出格式:\\n        \"球路\": \"球路類型\",\\n         \"原因\": \"原因文字\",\\n         \"建議\": \"建議文字\"\\n\\n6.不須描述非建議內容的輸出範例和執行步驟\\n\\n以下是一些來自回饋規則檔案的數據：\\n                球路類型  結果                                                                                    原因                                                                                                               改善建議\\n0            Pull左飛球  失誤                                                                      上桿(P2~3)時，角度過於陡峭                                                                                                   上桿(P2~3)時，肩膀往右轉動\\n1            Pull左飛球  失誤                                                                                桿頭頂點過高                                                                                                             肩膀往右轉動\\n2            Pull左飛球  失誤                                                              下桿角度過於陡峭，左手腕過度外展，肩關節伸展抬起                                                                                           下桿時，左手臂打直、左手腕維持固定、肩膀自然旋轉\\n3            Pull左飛球  失誤                                                                        桿面關閉，擊球點位於球的外側                                                                                                擊球時，左手腕維持固定，注意擊球點位置\\n4     Pull Hook左拉左曲球  失誤                                                                      上桿(P2~3)時，角度過於陡峭                                                                                                   上桿(P2~3)時，肩膀往右轉動\\n5     Pull Hook左拉左曲球  失誤                                                                                桿頭頂點過高                                         杆頭高度與穩定性：杆頭上揚過高會導致不穩定，建議肩膀轉至適當位置即可，避免過多手部動作。下杆時，不需依靠手腕加速杆頭，而是放鬆手腕，讓杆子自然帶動。\\n6     Pull Hook左拉左曲球  失誤                                                             下桿角度過於陡峭，手腕過度彎曲，過度由內而外的路徑                                                                                                  下桿時，左手臂打直、左手腕維持固定\\n7     Pull Hook左拉左曲球  失誤                                                            桿面關閉，擊球點位於球的外側，手腕繼續彎曲未保持向前                                                                                         擊球時，左手腕應恢復成未彎曲的狀態，及注意擊球點位置\\n8   Pull Slice 左拉右曲球  失誤              通常是因為上桿時P2過於內側，手臂和身體過於靠近卡住之後，反而在下桿時由外側下桿、或是軸心偏移太多導致右手必須補償所致，最容易出現雞翅膀的問題。                                                                                      上桿時維持軸心，P2時桿身平行於雙腳之平行線，保持桿面角度\\n9   Pull Slice 左拉右曲球  失誤                                                                              擺動路徑過於內向                                                                                                        胸椎充分旋轉，重心往左\\n10  Pull Slice 左拉右曲球  失誤                                                                              下桿時由外側下桿                                          蓄力的應用：揮杆動作如同跳躍或投球，需要適當蓄力。避免分解動作過於機械化，應集中於蓄力後的自然發力，利用身體的旋轉與下肢力量來達成順暢的揮杆動作。\\n11  Pull Slice 左拉右曲球  失誤                                                                 觸球時桿面角度關閉，但桿面角度小於揮桿軌跡                                                                                                    維持手腕角度過球轉身至收尾收桿\\n12           Push右飛球  失誤                                                       上桿(P2~3)時，角度過於平緩，手腕過度內收，未保持適當角度                                                                                    上桿(P2~3)時，角度過於平緩，手腕過度內收，未保持適當角度\\n13           Push右飛球  失誤                                                                  P4頂點轉換時桿頭頂點過低，手腕過度彎曲                                                                                                     左手腕維持固定，腰部減少轉動\\n14           Push右飛球  失誤                                                  P5~6下桿角度過於平緩，手腕未回復成預備站姿的角度，手用力而非肩膀轉動                                                                                                      下桿時，手腕及肩膀往左轉動\\n15           Push右飛球  失誤                                                            P7擊球時桿面開放，擊球點位於球的內側，左手腕未固定                                                                                                擊球時，左手腕維持固定，注意擊球點位置\\n16   Push Slice右拉右曲球  失誤                                               上桿(P2~3)時，角度過於平緩，手腕過度內收，未保持適當角度，肩或腰旋轉過度                                                          避免過度用力和緊繃：上杆至90度胸口即可，不需強迫手部過高。保持身體放鬆，避免上杆時緊繃，以確保揮杆時能自然回落。\\n17   Push Slice右拉右曲球  失誤                                                              P4頂點轉換時，桿頭頂點過低，腰部或手腕過度彎曲                                                                                                     左手腕維持固定，腰部減少轉動\\n18   Push Slice右拉右曲球  失誤                                      P5~6下桿角度過於平緩，左手腕過度外展，肩關節伸展抬起，腰部向前旋轉過度，身體重心太早向前移動                                                                                               下桿時，手腕及肩膀往左轉動，腰部減少旋轉\\n19   Push Slice右拉右曲球  失誤                                                            P7擊球時桿面開放，擊球點位於球的內側，左手腕未固定                                                                                                擊球時，左手腕維持固定，注意擊球點位置\\n20   Push Hook 右拉左曲球  失誤  上桿往內側，然後再由內側透過手腕的翻轉使球往左旋。有時為了修正由外往內的揮桿路徑會刻意打出這種球來調整感覺，但做過頭的話很難控球，因為球落地會滾動太多，不容易控制距離。                                                                                                     上桿時維持軸心，保持桿面角度\\n21   Push Hook 右拉左曲球  失誤                                                                           桿頭在頂點位置過於內側                                                                                                      胸椎充分旋轉，保持桿頭方正\\n22   Push Hook 右拉左曲球  失誤                                                               開始下揮時，身體未能正確同步旋轉，桿面過於閉合                                                                                           下桿時，從臀部開始動作，保持下半身與上半身的協調\\n23   Push Hook 右拉左曲球  失誤                                                                 桿面打開軌跡由內向外，桿面角度小於揮桿路徑                                                                                        注重在接近擊球點時，保持下半身的穩定與桿面的正確閉合度\\n24              失誤擊球  失誤                                               小於發射角6度、飛行距離小於30 ft、clubAngleFace超過正負15                                                                                                          擊球失敗,無法判定\\n25      Straight 直飛球  正確                                                             每個階段動作的位置和時間都配合得很好，且節奏流暢。                                                                                                       多練習且重複此揮桿動作。\\n26         Fade 小右曲球  正確                                                         手腕角度保持得很好，桿面觸球方正，且揮桿軌跡由外向內所致。                               這次上杆高度適中且動作流暢，下杆時也保持穩定。教練指出這是由於下半身主導力量，使擊球姿勢自然且穩定，展現出漂亮的旋轉動作與擊球姿態，充分利用身體的力量而非過度依賴手腕。\\n27         Draw 小左曲球  正確                                                        手腕角度保持得很好，觸球時桿面方正，且揮桿軌跡由內向外所致。  這是職業選手喜歡打出的球路，瞄球時桿面朝向目標，站姿朝向目標右方，上桿時維持軸心，P2至P4胸椎充分旋轉，下桿時重心往左，左半身帶領，P5至P6右肩和右手肘維持外旋，左手腕在P5.5時屈曲，維持手腕角度過球，轉身至P10收桿。\\n\\n'"
      ]
     },
     "execution_count": 44,
     "metadata": {},
     "output_type": "execute_result"
    }
   ],
   "execution_count": 44,
   "source": "prompt",
   "id": "4f39858a360216a1"
  }
 ],
 "metadata": {
  "kernelspec": {
   "display_name": "Python 3",
   "language": "python",
   "name": "python3"
  },
  "language_info": {
   "codemirror_mode": {
    "name": "ipython",
    "version": 2
   },
   "file_extension": ".py",
   "mimetype": "text/x-python",
   "name": "python",
   "nbconvert_exporter": "python",
   "pygments_lexer": "ipython2",
   "version": "2.7.6"
  }
 },
 "nbformat": 4,
 "nbformat_minor": 5
}
