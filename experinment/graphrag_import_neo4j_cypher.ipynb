{
 "cells": [
  {
   "cell_type": "code",
   "id": "b4fea928",
   "metadata": {
    "ExecuteTime": {
     "end_time": "2025-02-18T03:34:25.965467Z",
     "start_time": "2025-02-18T03:34:25.958748Z"
    }
   },
   "source": [
    "# Copyright (c) 2024 Microsoft Corporation.\n",
    "# Licensed under the MIT License."
   ],
   "outputs": [],
   "execution_count": 2
  },
  {
   "cell_type": "markdown",
   "id": "0c4bc9ba",
   "metadata": {},
   "source": [
    "# Neo4j Import of GraphRAG Result Parquet files\n",
    "\n",
    "This notebook imports the results of the GraphRAG indexing process into the Neo4j Graph database for further processing, analysis or visualization. \n",
    "\n",
    "You can also build your own GenAI applications using Neo4j and a number of RAG strategies with LangChain, LlamaIndex, Haystack, and many other frameworks.\n",
    "See: https://neo4j.com/labs/genai-ecosystem\n",
    "\n",
    "Here is what the end result looks like:\n",
    "\n",
    "![](https://dev.assets.neo4j.com/wp-content/uploads/graphrag-neo4j-visualization.png)"
   ]
  },
  {
   "cell_type": "markdown",
   "id": "3924e246",
   "metadata": {},
   "source": [
    "## How does it work?\n",
    "\n",
    "The notebook loads the parquet files from the `output` folder of your indexing process and loads them into Pandas dataframes.\n",
    "It then uses a batching approach to send a slice of the data into Neo4j to create nodes and relationships and add relevant properties. The id-arrays on most entities are turned into relationships. \n",
    "\n",
    "All operations use MERGE, so they are idempotent, and you can run the script multiple times.\n",
    "\n",
    "If you need to clean out the database, you can run the following statement\n",
    "\n",
    "```cypher\n",
    "MATCH (n)\n",
    "CALL { WITH n DETACH DELETE n } IN TRANSACTIONS OF 25000 ROWS;\n",
    "```"
   ]
  },
  {
   "cell_type": "code",
   "id": "adca1803",
   "metadata": {
    "ExecuteTime": {
     "end_time": "2025-02-18T03:34:26.459152Z",
     "start_time": "2025-02-18T03:34:26.448956Z"
    }
   },
   "source": [
    "import os\n",
    "\n",
    "GRAPHRAG_FOLDER = \"C:\\Code\\III_2024_golf\\\\ragtest\\output\""
   ],
   "outputs": [],
   "execution_count": 3
  },
  {
   "cell_type": "markdown",
   "id": "7fb27b941602401d91542211134fc71a",
   "metadata": {},
   "source": [
    "### Depedendencies\n",
    "\n",
    "We only need Pandas and the neo4j Python driver with the rust extension for faster network transport."
   ]
  },
  {
   "cell_type": "code",
   "id": "3eeee95f-e4f2-4052-94fb-a5dc8ab542ae",
   "metadata": {
    "ExecuteTime": {
     "end_time": "2025-02-18T03:35:18.018Z",
     "start_time": "2025-02-18T03:34:26.473282Z"
    }
   },
   "source": [
    "import time\n",
    "\n",
    "import pandas as pd\n",
    "from neo4j import GraphDatabase"
   ],
   "outputs": [],
   "execution_count": 4
  },
  {
   "cell_type": "markdown",
   "id": "307dd2f4",
   "metadata": {},
   "source": [
    "## Neo4j Installation\n",
    "\n",
    "You can create a free instance of Neo4j [online](https://console.neo4j.io). You get a credentials file that you can use for the connection credentials. You can also get an instance in any of the cloud marketplaces.\n",
    "\n",
    "If you want to install Neo4j locally either use [Neo4j Desktop](https://neo4j.com/download) or \n",
    "the official Docker image: `docker run -e NEO4J_AUTH=neo4j/password -p 7687:7687 -p 7474:7474 neo4j` "
   ]
  },
  {
   "cell_type": "code",
   "id": "b6c15443-4acb-4f91-88ea-4e08abaa4c29",
   "metadata": {
    "ExecuteTime": {
     "end_time": "2025-02-18T03:35:18.050016Z",
     "start_time": "2025-02-18T03:35:18.035075Z"
    }
   },
   "source": [
    "NEO4J_URI=\"neo4j+s://2e42fd1b.databases.neo4j.io\"\n",
    "NEO4J_USERNAME=\"neo4j\"\n",
    "NEO4J_PASSWORD=\"aj9-m9QwIdnaSmmMl7oqeoIj_xZ6vCNjN5Jv-mr8I_E\"\n",
    "NEO4J_DATABASE=\"neo4j\"\n",
    "# Create a Neo4j driver\n",
    "driver = GraphDatabase.driver(NEO4J_URI, auth=(NEO4J_USERNAME, NEO4J_PASSWORD))"
   ],
   "outputs": [],
   "execution_count": 5
  },
  {
   "cell_type": "markdown",
   "id": "70f37ab6",
   "metadata": {},
   "source": [
    "## Batched Import\n",
    "\n",
    "The batched import function takes a Cypher insert statement (needs to use the variable `value` for the row) and a dataframe to import.\n",
    "It will send by default 1k rows at a time as query parameter to the database to be inserted."
   ]
  },
  {
   "cell_type": "code",
   "id": "d787bf7b-ac9b-4bfb-b140-a50a3fd205c5",
   "metadata": {
    "ExecuteTime": {
     "end_time": "2025-02-18T03:35:18.243166Z",
     "start_time": "2025-02-18T03:35:18.066919Z"
    }
   },
   "source": [
    "def batched_import(statement, df, batch_size=1000):\n",
    "    \"\"\"\n",
    "    Import a dataframe into Neo4j using a batched approach.\n",
    "\n",
    "    Parameters: statement is the Cypher query to execute, df is the dataframe to import, and batch_size is the number of rows to import in each batch.\n",
    "    \"\"\"\n",
    "    total = len(df)\n",
    "    start_s = time.time()\n",
    "    for start in range(0, total, batch_size):\n",
    "        batch = df.iloc[start : min(start + batch_size, total)]\n",
    "        result = driver.execute_query(\n",
    "            \"UNWIND $rows AS value \" + statement,\n",
    "            rows=batch.to_dict(\"records\"),\n",
    "            database_=NEO4J_DATABASE,\n",
    "        )\n",
    "        print(result.summary.counters)\n",
    "    print(f\"{total} rows in {time.time() - start_s} s.\")\n",
    "    return total"
   ],
   "outputs": [],
   "execution_count": 6
  },
  {
   "cell_type": "markdown",
   "id": "0fb45f42",
   "metadata": {},
   "source": [
    "## Indexes and Constraints\n",
    "\n",
    "Indexes in Neo4j are only used to find the starting points for graph queries, e.g. quickly finding two nodes to connect.\n",
    "Constraints exist to avoid duplicates, we create them mostly on id's of Entity types.\n",
    "\n",
    "We use some Types as markers with two underscores before and after to distinguish them from the actual entity types.\n",
    "\n",
    "The default relationship type here is `RELATED` but we could also infer a real relationship-type from the description or the types of the start and end-nodes.\n",
    "\n",
    "* `__Entity__`\n",
    "* `__Document__`\n",
    "* `__Chunk__`\n",
    "* `__Community__`\n",
    "* `__Covariate__`"
   ]
  },
  {
   "cell_type": "code",
   "id": "ed7f212e-9148-424c-adc6-d81db9f8e5a5",
   "metadata": {
    "ExecuteTime": {
     "end_time": "2025-02-18T03:35:20.527134Z",
     "start_time": "2025-02-18T03:35:18.269038Z"
    }
   },
   "source": [
    "# create constraints, idempotent operation\n",
    "\n",
    "statements = [\n",
    "    \"\\ncreate constraint chunk_id if not exists for (c:__Chunk__) require c.id is unique\",\n",
    "    \"\\ncreate constraint document_id if not exists for (d:__Document__) require d.id is unique\",\n",
    "    \"\\ncreate constraint entity_id if not exists for (c:__Community__) require c.community is unique\",\n",
    "    \"\\ncreate constraint entity_id if not exists for (e:__Entity__) require e.id is unique\",\n",
    "    \"\\ncreate constraint entity_title if not exists for (e:__Entity__) require e.name is unique\",\n",
    "    \"\\ncreate constraint entity_title if not exists for (e:__Covariate__) require e.title is unique\",\n",
    "    \"\\ncreate constraint related_id if not exists for ()-[rel:RELATED]->() require rel.id is unique\",\n",
    "    \"\\n\",\n",
    "]\n",
    "\n",
    "for statement in statements:\n",
    "    if len((statement or \"\").strip()) > 0:\n",
    "        print(statement)\n",
    "        driver.execute_query(statement)"
   ],
   "outputs": [
    {
     "name": "stdout",
     "output_type": "stream",
     "text": [
      "\n",
      "create constraint chunk_id if not exists for (c:__Chunk__) require c.id is unique\n",
      "\n",
      "create constraint document_id if not exists for (d:__Document__) require d.id is unique\n",
      "\n",
      "create constraint entity_id if not exists for (c:__Community__) require c.community is unique\n",
      "\n",
      "create constraint entity_id if not exists for (e:__Entity__) require e.id is unique\n",
      "\n",
      "create constraint entity_title if not exists for (e:__Entity__) require e.name is unique\n",
      "\n",
      "create constraint entity_title if not exists for (e:__Covariate__) require e.title is unique\n",
      "\n",
      "create constraint related_id if not exists for ()-[rel:RELATED]->() require rel.id is unique\n"
     ]
    }
   ],
   "execution_count": 7
  },
  {
   "cell_type": "markdown",
   "id": "beea073b",
   "metadata": {},
   "source": [
    "## Import Process\n",
    "\n",
    "### Importing the Documents\n",
    "\n",
    "We're loading the parquet file for the documents and create nodes with their ids and add the title property.\n",
    "We don't need to store text_unit_ids as we can create the relationships and the text content is also contained in the chunks."
   ]
  },
  {
   "cell_type": "code",
   "id": "1ba023e7",
   "metadata": {
    "ExecuteTime": {
     "end_time": "2025-02-18T03:35:24.477433Z",
     "start_time": "2025-02-18T03:35:20.543253Z"
    }
   },
   "source": [
    "doc_df = pd.read_parquet(\n",
    "    f\"{GRAPHRAG_FOLDER}/create_final_documents.parquet\", columns=[\"id\", \"title\"]\n",
    ")\n",
    "doc_df.head(2)"
   ],
   "outputs": [
    {
     "data": {
      "text/plain": [
       "                                                  id                title\n",
       "0  79a497eed050a67abeac53133083370776d5896e1f0e60...      現今高爾夫球桿基本概念.txt\n",
       "1  bba9ca74289df8e717153c49b987e9cd05361bdf376440...  綜評高爾夫下揮桿之腕部釋放技巧.txt"
      ],
      "text/html": [
       "<div>\n",
       "<style scoped>\n",
       "    .dataframe tbody tr th:only-of-type {\n",
       "        vertical-align: middle;\n",
       "    }\n",
       "\n",
       "    .dataframe tbody tr th {\n",
       "        vertical-align: top;\n",
       "    }\n",
       "\n",
       "    .dataframe thead th {\n",
       "        text-align: right;\n",
       "    }\n",
       "</style>\n",
       "<table border=\"1\" class=\"dataframe\">\n",
       "  <thead>\n",
       "    <tr style=\"text-align: right;\">\n",
       "      <th></th>\n",
       "      <th>id</th>\n",
       "      <th>title</th>\n",
       "    </tr>\n",
       "  </thead>\n",
       "  <tbody>\n",
       "    <tr>\n",
       "      <th>0</th>\n",
       "      <td>79a497eed050a67abeac53133083370776d5896e1f0e60...</td>\n",
       "      <td>現今高爾夫球桿基本概念.txt</td>\n",
       "    </tr>\n",
       "    <tr>\n",
       "      <th>1</th>\n",
       "      <td>bba9ca74289df8e717153c49b987e9cd05361bdf376440...</td>\n",
       "      <td>綜評高爾夫下揮桿之腕部釋放技巧.txt</td>\n",
       "    </tr>\n",
       "  </tbody>\n",
       "</table>\n",
       "</div>"
      ]
     },
     "execution_count": 8,
     "metadata": {},
     "output_type": "execute_result"
    }
   ],
   "execution_count": 8
  },
  {
   "cell_type": "code",
   "id": "96391c15",
   "metadata": {
    "ExecuteTime": {
     "end_time": "2025-02-18T03:35:24.693319Z",
     "start_time": "2025-02-18T03:35:24.510555Z"
    }
   },
   "source": [
    "# Import documents\n",
    "statement = \"\"\"\n",
    "MERGE (d:__Document__ {id:value.id})\n",
    "SET d += value {.title}\n",
    "\"\"\"\n",
    "\n",
    "batched_import(statement, doc_df)"
   ],
   "outputs": [
    {
     "name": "stdout",
     "output_type": "stream",
     "text": [
      "{'_contains_updates': True, 'properties_set': 7}\n",
      "7 rows in 0.17824578285217285 s.\n"
     ]
    },
    {
     "data": {
      "text/plain": [
       "7"
      ]
     },
     "execution_count": 9,
     "metadata": {},
     "output_type": "execute_result"
    }
   ],
   "execution_count": 9
  },
  {
   "cell_type": "markdown",
   "id": "f97bbadb",
   "metadata": {},
   "source": [
    "### Loading Text Units\n",
    "\n",
    "We load the text units, create a node per id and set the text and number of tokens.\n",
    "Then we connect them to the documents that we created before."
   ]
  },
  {
   "cell_type": "code",
   "id": "0d825626",
   "metadata": {
    "ExecuteTime": {
     "end_time": "2025-02-18T03:35:25.049428Z",
     "start_time": "2025-02-18T03:35:24.745178Z"
    }
   },
   "source": [
    "text_df = pd.read_parquet(\n",
    "    f\"{GRAPHRAG_FOLDER}/create_final_text_units.parquet\",\n",
    "    columns=[\"id\", \"text\", \"n_tokens\", \"document_ids\"],\n",
    ")\n",
    "text_df.head(2)"
   ],
   "outputs": [
    {
     "data": {
      "text/plain": [
       "                                                  id  \\\n",
       "0  23f9f55a3d55f4d9c08729314d06b8454c3cb06b3e2277...   \n",
       "1  bbec972c236d5442cf6c1d6ad96c4a9110148e6cbe3a4b...   \n",
       "\n",
       "                                                text  n_tokens  \\\n",
       "0  高爾夫球桿桿身的相關研究\\n\\ndoi:10.29706/GS.201208.0007\\n大...      1200   \n",
       "1  業餘的高爾夫愛好者在合適的球具、適當的練習下，即能夠在很\\n短的時間，就具備不錯的揮桿距離與...      1200   \n",
       "\n",
       "                                        document_ids  \n",
       "0  [0fc45284410a8448f5e5b3553f77b2ed518df093fd089...  \n",
       "1  [0fc45284410a8448f5e5b3553f77b2ed518df093fd089...  "
      ],
      "text/html": [
       "<div>\n",
       "<style scoped>\n",
       "    .dataframe tbody tr th:only-of-type {\n",
       "        vertical-align: middle;\n",
       "    }\n",
       "\n",
       "    .dataframe tbody tr th {\n",
       "        vertical-align: top;\n",
       "    }\n",
       "\n",
       "    .dataframe thead th {\n",
       "        text-align: right;\n",
       "    }\n",
       "</style>\n",
       "<table border=\"1\" class=\"dataframe\">\n",
       "  <thead>\n",
       "    <tr style=\"text-align: right;\">\n",
       "      <th></th>\n",
       "      <th>id</th>\n",
       "      <th>text</th>\n",
       "      <th>n_tokens</th>\n",
       "      <th>document_ids</th>\n",
       "    </tr>\n",
       "  </thead>\n",
       "  <tbody>\n",
       "    <tr>\n",
       "      <th>0</th>\n",
       "      <td>23f9f55a3d55f4d9c08729314d06b8454c3cb06b3e2277...</td>\n",
       "      <td>高爾夫球桿桿身的相關研究\\n\\ndoi:10.29706/GS.201208.0007\\n大...</td>\n",
       "      <td>1200</td>\n",
       "      <td>[0fc45284410a8448f5e5b3553f77b2ed518df093fd089...</td>\n",
       "    </tr>\n",
       "    <tr>\n",
       "      <th>1</th>\n",
       "      <td>bbec972c236d5442cf6c1d6ad96c4a9110148e6cbe3a4b...</td>\n",
       "      <td>業餘的高爾夫愛好者在合適的球具、適當的練習下，即能夠在很\\n短的時間，就具備不錯的揮桿距離與...</td>\n",
       "      <td>1200</td>\n",
       "      <td>[0fc45284410a8448f5e5b3553f77b2ed518df093fd089...</td>\n",
       "    </tr>\n",
       "  </tbody>\n",
       "</table>\n",
       "</div>"
      ]
     },
     "execution_count": 10,
     "metadata": {},
     "output_type": "execute_result"
    }
   ],
   "execution_count": 10
  },
  {
   "cell_type": "code",
   "id": "ffd3d380-8710-46f5-b90a-04ed8482192c",
   "metadata": {
    "ExecuteTime": {
     "end_time": "2025-02-18T03:35:26.152167Z",
     "start_time": "2025-02-18T03:35:25.161370Z"
    }
   },
   "source": [
    "statement = \"\"\"\n",
    "MERGE (c:__Chunk__ {id:value.id})\n",
    "SET c += value {.text, .n_tokens}\n",
    "WITH c, value\n",
    "UNWIND value.document_ids AS document\n",
    "MATCH (d:__Document__ {id:document})\n",
    "MERGE (c)-[:PART_OF]->(d)\n",
    "\"\"\"\n",
    "\n",
    "batched_import(statement, text_df)"
   ],
   "outputs": [
    {
     "name": "stdout",
     "output_type": "stream",
     "text": [
      "{'_contains_updates': True, 'properties_set': 116}\n",
      "58 rows in 0.395430326461792 s.\n"
     ]
    },
    {
     "data": {
      "text/plain": [
       "58"
      ]
     },
     "execution_count": 11,
     "metadata": {},
     "output_type": "execute_result"
    }
   ],
   "execution_count": 11
  },
  {
   "cell_type": "markdown",
   "id": "f01b2094",
   "metadata": {},
   "source": [
    "### Loading Nodes\n",
    "\n",
    "For the nodes we store id, name, description, embedding (if available), human readable id."
   ]
  },
  {
   "cell_type": "code",
   "id": "2392f9e9",
   "metadata": {
    "ExecuteTime": {
     "end_time": "2025-02-18T03:35:26.736482Z",
     "start_time": "2025-02-18T03:35:26.699925Z"
    }
   },
   "source": [
    "entity_df = pd.read_parquet(\n",
    "    f\"{GRAPHRAG_FOLDER}/create_final_entities.parquet\",\n",
    "    columns=[\n",
    "        \"id\",  \n",
    "        \"human_readable_id\",    \n",
    "        \"title\",\n",
    "        \"type\",\n",
    "        \"description\",\n",
    "        \"text_unit_ids\",\n",
    "    ],\n",
    ")\n",
    "entity_df.head(2)"
   ],
   "outputs": [
    {
     "data": {
      "text/plain": [
       "                                     id  human_readable_id title    type  \\\n",
       "0  bf2440ec-3d12-498c-9ed3-ac7576270785                  0   王順正  PERSON   \n",
       "1  f4907ce6-5165-487a-bfda-cffcb579ce2b                  1   林玉瓊  PERSON   \n",
       "\n",
       "                                         description  \\\n",
       "0  王順正 is an author affiliated with National Chun...   \n",
       "1  林玉瓊 is an author affiliated with Wu Feng Unive...   \n",
       "\n",
       "                                       text_unit_ids  \n",
       "0  [23f9f55a3d55f4d9c08729314d06b8454c3cb06b3e227...  \n",
       "1  [23f9f55a3d55f4d9c08729314d06b8454c3cb06b3e227...  "
      ],
      "text/html": [
       "<div>\n",
       "<style scoped>\n",
       "    .dataframe tbody tr th:only-of-type {\n",
       "        vertical-align: middle;\n",
       "    }\n",
       "\n",
       "    .dataframe tbody tr th {\n",
       "        vertical-align: top;\n",
       "    }\n",
       "\n",
       "    .dataframe thead th {\n",
       "        text-align: right;\n",
       "    }\n",
       "</style>\n",
       "<table border=\"1\" class=\"dataframe\">\n",
       "  <thead>\n",
       "    <tr style=\"text-align: right;\">\n",
       "      <th></th>\n",
       "      <th>id</th>\n",
       "      <th>human_readable_id</th>\n",
       "      <th>title</th>\n",
       "      <th>type</th>\n",
       "      <th>description</th>\n",
       "      <th>text_unit_ids</th>\n",
       "    </tr>\n",
       "  </thead>\n",
       "  <tbody>\n",
       "    <tr>\n",
       "      <th>0</th>\n",
       "      <td>bf2440ec-3d12-498c-9ed3-ac7576270785</td>\n",
       "      <td>0</td>\n",
       "      <td>王順正</td>\n",
       "      <td>PERSON</td>\n",
       "      <td>王順正 is an author affiliated with National Chun...</td>\n",
       "      <td>[23f9f55a3d55f4d9c08729314d06b8454c3cb06b3e227...</td>\n",
       "    </tr>\n",
       "    <tr>\n",
       "      <th>1</th>\n",
       "      <td>f4907ce6-5165-487a-bfda-cffcb579ce2b</td>\n",
       "      <td>1</td>\n",
       "      <td>林玉瓊</td>\n",
       "      <td>PERSON</td>\n",
       "      <td>林玉瓊 is an author affiliated with Wu Feng Unive...</td>\n",
       "      <td>[23f9f55a3d55f4d9c08729314d06b8454c3cb06b3e227...</td>\n",
       "    </tr>\n",
       "  </tbody>\n",
       "</table>\n",
       "</div>"
      ]
     },
     "execution_count": 12,
     "metadata": {},
     "output_type": "execute_result"
    }
   ],
   "execution_count": 12
  },
  {
   "cell_type": "code",
   "id": "1d038114-0714-48ee-a48a-c421cd539661",
   "metadata": {
    "ExecuteTime": {
     "end_time": "2025-02-18T03:35:28.684683Z",
     "start_time": "2025-02-18T03:35:27.678240Z"
    }
   },
   "source": [
    "entity_statement = \"\"\"\n",
    "MERGE (e:__Entity__ {id:value.id})\n",
    "SET e += value {.human_readable_id, .description, title:replace(value.title,'\"','')}\n",
    "WITH e, value\n",
    "CALL apoc.create.addLabels(e, case when coalesce(value.type,\"\") = \"\" then [] else [apoc.text.upperCamelCase(replace(value.type,'\"',''))] end) yield node\n",
    "UNWIND value.text_unit_ids AS text_unit\n",
    "MATCH (c:__Chunk__ {id:text_unit})\n",
    "MERGE (c)-[:HAS_ENTITY]->(e)\n",
    "\"\"\"\n",
    "\n",
    "batched_import(entity_statement, entity_df)"
   ],
   "outputs": [
    {
     "name": "stdout",
     "output_type": "stream",
     "text": [
      "{'_contains_updates': True, 'properties_set': 1887}\n",
      "629 rows in 0.9972748756408691 s.\n"
     ]
    },
    {
     "data": {
      "text/plain": [
       "629"
      ]
     },
     "execution_count": 13,
     "metadata": {},
     "output_type": "execute_result"
    }
   ],
   "execution_count": 13
  },
  {
   "cell_type": "markdown",
   "id": "018d4f87",
   "metadata": {},
   "source": [
    "### Import Relationships\n",
    "\n",
    "For the relationships we find the source and target node by name, using the base `__Entity__` type.\n",
    "After creating the `RELATED` relationships, we set the description as attribute."
   ]
  },
  {
   "cell_type": "code",
   "id": "b347a047",
   "metadata": {
    "ExecuteTime": {
     "end_time": "2025-02-18T03:35:29.635967Z",
     "start_time": "2025-02-18T03:35:29.120450Z"
    }
   },
   "source": [
    "rel_df = pd.read_parquet(\n",
    "    f\"{GRAPHRAG_FOLDER}/create_final_relationships.parquet\",\n",
    "    columns=[\n",
    "        \"id\",\n",
    "        \"human_readable_id\",\n",
    "        \"source\",\n",
    "        \"target\",\n",
    "        \"description\",\n",
    "        \"weight\",\n",
    "        \"combined_degree\",\n",
    "        \"text_unit_ids\"\n",
    "    ],\n",
    ")\n",
    "rel_df.head(2)"
   ],
   "outputs": [
    {
     "data": {
      "text/plain": [
       "                                     id  human_readable_id source target  \\\n",
       "0  dd3e85e6-fcab-4d49-86f8-fa2fc2b3545f                  0    王順正  高爾夫球桿   \n",
       "1  3164e95b-f59f-49b7-b85c-1cb6a0ccb889                  1    林玉瓊  高爾夫球桿   \n",
       "\n",
       "                                         description  weight  combined_degree  \\\n",
       "0  王順正 is an author who conducted research on gol...     8.0               45   \n",
       "1  林玉瓊 is an author who conducted research on gol...     8.0               45   \n",
       "\n",
       "                                       text_unit_ids  \n",
       "0  [23f9f55a3d55f4d9c08729314d06b8454c3cb06b3e227...  \n",
       "1  [23f9f55a3d55f4d9c08729314d06b8454c3cb06b3e227...  "
      ],
      "text/html": [
       "<div>\n",
       "<style scoped>\n",
       "    .dataframe tbody tr th:only-of-type {\n",
       "        vertical-align: middle;\n",
       "    }\n",
       "\n",
       "    .dataframe tbody tr th {\n",
       "        vertical-align: top;\n",
       "    }\n",
       "\n",
       "    .dataframe thead th {\n",
       "        text-align: right;\n",
       "    }\n",
       "</style>\n",
       "<table border=\"1\" class=\"dataframe\">\n",
       "  <thead>\n",
       "    <tr style=\"text-align: right;\">\n",
       "      <th></th>\n",
       "      <th>id</th>\n",
       "      <th>human_readable_id</th>\n",
       "      <th>source</th>\n",
       "      <th>target</th>\n",
       "      <th>description</th>\n",
       "      <th>weight</th>\n",
       "      <th>combined_degree</th>\n",
       "      <th>text_unit_ids</th>\n",
       "    </tr>\n",
       "  </thead>\n",
       "  <tbody>\n",
       "    <tr>\n",
       "      <th>0</th>\n",
       "      <td>dd3e85e6-fcab-4d49-86f8-fa2fc2b3545f</td>\n",
       "      <td>0</td>\n",
       "      <td>王順正</td>\n",
       "      <td>高爾夫球桿</td>\n",
       "      <td>王順正 is an author who conducted research on gol...</td>\n",
       "      <td>8.0</td>\n",
       "      <td>45</td>\n",
       "      <td>[23f9f55a3d55f4d9c08729314d06b8454c3cb06b3e227...</td>\n",
       "    </tr>\n",
       "    <tr>\n",
       "      <th>1</th>\n",
       "      <td>3164e95b-f59f-49b7-b85c-1cb6a0ccb889</td>\n",
       "      <td>1</td>\n",
       "      <td>林玉瓊</td>\n",
       "      <td>高爾夫球桿</td>\n",
       "      <td>林玉瓊 is an author who conducted research on gol...</td>\n",
       "      <td>8.0</td>\n",
       "      <td>45</td>\n",
       "      <td>[23f9f55a3d55f4d9c08729314d06b8454c3cb06b3e227...</td>\n",
       "    </tr>\n",
       "  </tbody>\n",
       "</table>\n",
       "</div>"
      ]
     },
     "execution_count": 14,
     "metadata": {},
     "output_type": "execute_result"
    }
   ],
   "execution_count": 14
  },
  {
   "cell_type": "code",
   "id": "27900c01-89e1-4dec-9d5c-c07317c68baf",
   "metadata": {
    "ExecuteTime": {
     "end_time": "2025-02-18T03:35:33.558537Z",
     "start_time": "2025-02-18T03:35:33.192874Z"
    }
   },
   "source": [
    "rel_statement = \"\"\"\n",
    "    MATCH (source:__Entity__ {name:replace(value.source,'\"','')})\n",
    "    MATCH (target:__Entity__ {name:replace(value.target,'\"','')})\n",
    "    // not necessary to merge on id as there is only one relationship per pair\n",
    "    MERGE (source)-[rel:RELATED {id: value.id}]->(target)\n",
    "    SET rel += value {.rank, .weight, .human_readable_id, .description, .text_unit_ids}\n",
    "    RETURN count(*) as createdRels\n",
    "\"\"\"\n",
    "\n",
    "batched_import(rel_statement, rel_df)"
   ],
   "outputs": [
    {
     "name": "stdout",
     "output_type": "stream",
     "text": [
      "{}\n",
      "818 rows in 0.3545053005218506 s.\n"
     ]
    },
    {
     "data": {
      "text/plain": [
       "818"
      ]
     },
     "execution_count": 15,
     "metadata": {},
     "output_type": "execute_result"
    }
   ],
   "execution_count": 15
  },
  {
   "cell_type": "markdown",
   "id": "e6365dd7",
   "metadata": {},
   "source": [
    "### Importing Communities\n",
    "\n",
    "For communities we import their id, title, level.\n",
    "We connect the `__Community__` nodes to the start and end nodes of the relationships they refer to.\n",
    "\n",
    "Connecting them to the chunks they orignate from is optional, as the entites are already connected to the chunks."
   ]
  },
  {
   "cell_type": "code",
   "id": "c2fab66c",
   "metadata": {
    "ExecuteTime": {
     "end_time": "2025-02-18T03:35:36.602493Z",
     "start_time": "2025-02-18T03:35:36.358594Z"
    }
   },
   "source": [
    "community_df = pd.read_parquet(\n",
    "    f\"{GRAPHRAG_FOLDER}/create_final_communities.parquet\",\n",
    "    columns=[\"id\", \"level\", \"title\", \"text_unit_ids\", \"relationship_ids\"],\n",
    ")\n",
    "\n",
    "community_df.head(2)"
   ],
   "outputs": [
    {
     "data": {
      "text/plain": [
       "                                     id  level        title  \\\n",
       "0  19e5deee-4930-4811-b758-b7bcead41273      0  Community 0   \n",
       "1  ac5e9bda-c3a5-428a-930d-7af7c99f11d3      0  Community 1   \n",
       "\n",
       "                                       text_unit_ids  \\\n",
       "0  [0b8bb9591af8ed28801e86e8a5bc1de89e027c48434fd...   \n",
       "1  [63460779082864c6d13982183b698189691ca36e76117...   \n",
       "\n",
       "                                    relationship_ids  \n",
       "0  [0188c1f0-e2e6-42d6-a140-544efb447bf2, 0378d07...  \n",
       "1  [0ca09d3e-b942-4dbe-91a0-806aab6c20ad, 104a829...  "
      ],
      "text/html": [
       "<div>\n",
       "<style scoped>\n",
       "    .dataframe tbody tr th:only-of-type {\n",
       "        vertical-align: middle;\n",
       "    }\n",
       "\n",
       "    .dataframe tbody tr th {\n",
       "        vertical-align: top;\n",
       "    }\n",
       "\n",
       "    .dataframe thead th {\n",
       "        text-align: right;\n",
       "    }\n",
       "</style>\n",
       "<table border=\"1\" class=\"dataframe\">\n",
       "  <thead>\n",
       "    <tr style=\"text-align: right;\">\n",
       "      <th></th>\n",
       "      <th>id</th>\n",
       "      <th>level</th>\n",
       "      <th>title</th>\n",
       "      <th>text_unit_ids</th>\n",
       "      <th>relationship_ids</th>\n",
       "    </tr>\n",
       "  </thead>\n",
       "  <tbody>\n",
       "    <tr>\n",
       "      <th>0</th>\n",
       "      <td>19e5deee-4930-4811-b758-b7bcead41273</td>\n",
       "      <td>0</td>\n",
       "      <td>Community 0</td>\n",
       "      <td>[0b8bb9591af8ed28801e86e8a5bc1de89e027c48434fd...</td>\n",
       "      <td>[0188c1f0-e2e6-42d6-a140-544efb447bf2, 0378d07...</td>\n",
       "    </tr>\n",
       "    <tr>\n",
       "      <th>1</th>\n",
       "      <td>ac5e9bda-c3a5-428a-930d-7af7c99f11d3</td>\n",
       "      <td>0</td>\n",
       "      <td>Community 1</td>\n",
       "      <td>[63460779082864c6d13982183b698189691ca36e76117...</td>\n",
       "      <td>[0ca09d3e-b942-4dbe-91a0-806aab6c20ad, 104a829...</td>\n",
       "    </tr>\n",
       "  </tbody>\n",
       "</table>\n",
       "</div>"
      ]
     },
     "execution_count": 16,
     "metadata": {},
     "output_type": "execute_result"
    }
   ],
   "execution_count": 16
  },
  {
   "cell_type": "code",
   "id": "1351f7e3",
   "metadata": {
    "ExecuteTime": {
     "end_time": "2025-02-18T04:59:15.051870Z",
     "start_time": "2025-02-18T04:59:14.147528Z"
    }
   },
   "source": [
    "statement = \"\"\"\n",
    "MERGE (c:__Community__ {community:value.id})\n",
    "SET c += value {.level, .title}\n",
    "/*\n",
    "UNWIND value.text_unit_ids as text_unit_id\n",
    "MATCH (t:__Chunk__ {id:text_unit_id})\n",
    "MERGE (c)-[:HAS_CHUNK]->(t)\n",
    "WITH distinct c, value\n",
    "*/\n",
    "WITH *\n",
    "UNWIND value.relationship_ids as rel_id\n",
    "MATCH (start:__Entity__)-[:RELATED {id:rel_id}]->(end:__Entity__)\n",
    "MERGE (start)-[:IN_COMMUNITY]->(c)\n",
    "MERGE (end)-[:IN_COMMUNITY]->(c)\n",
    "RETURn count(distinct c) as createdCommunities\n",
    "\"\"\"\n",
    "\n",
    "batched_import(statement, community_df)"
   ],
   "outputs": [
    {
     "name": "stdout",
     "output_type": "stream",
     "text": [
      "{'_contains_updates': True, 'properties_set': 226}\n",
      "113 rows in 0.8893873691558838 s.\n"
     ]
    },
    {
     "data": {
      "text/plain": [
       "113"
      ]
     },
     "execution_count": 19,
     "metadata": {},
     "output_type": "execute_result"
    }
   ],
   "execution_count": 19
  },
  {
   "cell_type": "markdown",
   "id": "dd9adf50",
   "metadata": {},
   "source": [
    "### Importing Community Reports\n",
    "\n",
    "Fo the community reports we create nodes for each communitiy set the id, community, level, title, summary, rank, and rank_explanation and connect them to the entities they are about.\n",
    "For the findings we create the findings in context of the communities."
   ]
  },
  {
   "cell_type": "code",
   "id": "1be9e7a9-69ee-406b-bce5-95a9c41ecffe",
   "metadata": {
    "ExecuteTime": {
     "end_time": "2025-02-18T03:35:39.937668800Z",
     "start_time": "2025-02-17T16:18:20.262697Z"
    }
   },
   "source": [
    "community_report_df = pd.read_parquet(\n",
    "    f\"{GRAPHRAG_FOLDER}/create_final_community_reports.parquet\",\n",
    "    columns=[\n",
    "        \"id\",\n",
    "        \"community\",\n",
    "        \"level\",\n",
    "        \"title\",\n",
    "        \"summary\",\n",
    "        \"findings\",\n",
    "        \"rank\",\n",
    "        \"rank_explanation\",\n",
    "        \"full_content\",\n",
    "    ],\n",
    ")\n",
    "community_report_df.head(2)"
   ],
   "outputs": [
    {
     "data": {
      "text/plain": [
       "                                 id  community  level  \\\n",
       "0  7f94ed38c3f945e3ad1ad19fa548a3ba         83      2   \n",
       "1  7768076af1e14a3e8a887a481ad52c3a         84      2   \n",
       "\n",
       "                                      title  \\\n",
       "0                  力量与速度结合原则与Wenger与Bell的研究   \n",
       "1  Golf Swing Mechanics and Muscle Dynamics   \n",
       "\n",
       "                                             summary  \\\n",
       "0  该社区围绕力量与速度结合原则及其理论基础展开，Wenger与Bell的研究为这一原则提供了重...   \n",
       "1  This community focuses on the key muscle group...   \n",
       "\n",
       "                                            findings  rank  \\\n",
       "0  [{'explanation': '力量与速度结合原则是高尔夫挥杆中的关键概念，运动员需要合...   4.0   \n",
       "1  [{'explanation': 'The community identifies sev...   7.5   \n",
       "\n",
       "                                    rank_explanation  \\\n",
       "0      影响严重性评分为中等，主要由于力量与速度结合原则在高尔夫运动中的应用可能影响运动员的表现。   \n",
       "1  The impact severity rating is high due to the ...   \n",
       "\n",
       "                                        full_content  \n",
       "0  # 力量与速度结合原则与Wenger与Bell的研究\\n\\n该社区围绕力量与速度结合原则及其...  \n",
       "1  # Golf Swing Mechanics and Muscle Dynamics\\n\\n...  "
      ],
      "text/html": [
       "<div>\n",
       "<style scoped>\n",
       "    .dataframe tbody tr th:only-of-type {\n",
       "        vertical-align: middle;\n",
       "    }\n",
       "\n",
       "    .dataframe tbody tr th {\n",
       "        vertical-align: top;\n",
       "    }\n",
       "\n",
       "    .dataframe thead th {\n",
       "        text-align: right;\n",
       "    }\n",
       "</style>\n",
       "<table border=\"1\" class=\"dataframe\">\n",
       "  <thead>\n",
       "    <tr style=\"text-align: right;\">\n",
       "      <th></th>\n",
       "      <th>id</th>\n",
       "      <th>community</th>\n",
       "      <th>level</th>\n",
       "      <th>title</th>\n",
       "      <th>summary</th>\n",
       "      <th>findings</th>\n",
       "      <th>rank</th>\n",
       "      <th>rank_explanation</th>\n",
       "      <th>full_content</th>\n",
       "    </tr>\n",
       "  </thead>\n",
       "  <tbody>\n",
       "    <tr>\n",
       "      <th>0</th>\n",
       "      <td>7f94ed38c3f945e3ad1ad19fa548a3ba</td>\n",
       "      <td>83</td>\n",
       "      <td>2</td>\n",
       "      <td>力量与速度结合原则与Wenger与Bell的研究</td>\n",
       "      <td>该社区围绕力量与速度结合原则及其理论基础展开，Wenger与Bell的研究为这一原则提供了重...</td>\n",
       "      <td>[{'explanation': '力量与速度结合原则是高尔夫挥杆中的关键概念，运动员需要合...</td>\n",
       "      <td>4.0</td>\n",
       "      <td>影响严重性评分为中等，主要由于力量与速度结合原则在高尔夫运动中的应用可能影响运动员的表现。</td>\n",
       "      <td># 力量与速度结合原则与Wenger与Bell的研究\\n\\n该社区围绕力量与速度结合原则及其...</td>\n",
       "    </tr>\n",
       "    <tr>\n",
       "      <th>1</th>\n",
       "      <td>7768076af1e14a3e8a887a481ad52c3a</td>\n",
       "      <td>84</td>\n",
       "      <td>2</td>\n",
       "      <td>Golf Swing Mechanics and Muscle Dynamics</td>\n",
       "      <td>This community focuses on the key muscle group...</td>\n",
       "      <td>[{'explanation': 'The community identifies sev...</td>\n",
       "      <td>7.5</td>\n",
       "      <td>The impact severity rating is high due to the ...</td>\n",
       "      <td># Golf Swing Mechanics and Muscle Dynamics\\n\\n...</td>\n",
       "    </tr>\n",
       "  </tbody>\n",
       "</table>\n",
       "</div>"
      ]
     },
     "execution_count": 182,
     "metadata": {},
     "output_type": "execute_result"
    }
   ],
   "execution_count": 182
  },
  {
   "cell_type": "code",
   "id": "5c6ed591-f98c-4403-9fde-8d4cb4c01cca",
   "metadata": {
    "ExecuteTime": {
     "end_time": "2025-02-18T03:35:39.939676400Z",
     "start_time": "2025-02-17T16:18:20.390230Z"
    }
   },
   "source": [
    "# Import communities\n",
    "community_statement = \"\"\"\n",
    "MERGE (c:__Community__ {community:value.community})\n",
    "SET c += value {.level, .title, .rank, .rank_explanation, .full_content, .summary}\n",
    "WITH c, value\n",
    "UNWIND range(0, size(value.findings)-1) AS finding_idx\n",
    "WITH c, value, finding_idx, value.findings[finding_idx] as finding\n",
    "MERGE (c)-[:HAS_FINDING]->(f:Finding {id:finding_idx})\n",
    "SET f += finding\n",
    "\"\"\"\n",
    "batched_import(community_statement, community_report_df)"
   ],
   "outputs": [
    {
     "name": "stdout",
     "output_type": "stream",
     "text": [
      "{'_contains_updates': True, 'labels_added': 657, 'relationships_created': 544, 'nodes_created': 657, 'properties_set': 2423}\n",
      "113 rows in 0.4137256145477295 s.\n"
     ]
    },
    {
     "data": {
      "text/plain": [
       "113"
      ]
     },
     "execution_count": 183,
     "metadata": {},
     "output_type": "execute_result"
    }
   ],
   "execution_count": 183
  },
  {
   "cell_type": "markdown",
   "id": "50a1a24a",
   "metadata": {},
   "source": [
    "### Importing Covariates\n",
    "\n",
    "Covariates are for instance claims on entities, we connect them to the chunks where they originate from."
   ]
  },
  {
   "cell_type": "code",
   "id": "523bed92-d12c-4fc4-aa44-6c62321b36bc",
   "metadata": {
    "ExecuteTime": {
     "end_time": "2025-02-18T03:35:39.940689200Z",
     "start_time": "2025-02-17T16:18:20.885651Z"
    }
   },
   "source": [
    "\n",
    "cov_df = pd.read_parquet(\n",
    "    f\"{GRAPHRAG_FOLDER}/create_final_covariates.parquet\",\n",
    "    columns=[\"id\",\"text_unit_id\"],\n",
    ")\n",
    "cov_df\n",
    "# Subject id do not match entity ids"
   ],
   "outputs": [
    {
     "data": {
      "text/plain": [
       "                                      id  \\\n",
       "0   ea07d202-a5e1-46c1-b0b1-1a4738c5b5a9   \n",
       "1   af3f53b6-d5e9-440b-92cd-de6a29b161dc   \n",
       "2   6f277700-b111-4359-89a8-5f99e5cff1db   \n",
       "3   bebee862-4d7c-496d-8f74-14510bf2f3ae   \n",
       "4   3063ce62-4ad8-49c6-9ecc-5d6204a7fb4a   \n",
       "5   d9d5fcc2-60bb-4534-8b4b-3ffaf1943158   \n",
       "6   a3cf088f-9177-4acc-b666-8b28c5109f33   \n",
       "7   7cfcf005-eb80-4734-bc1c-8f6d906fa400   \n",
       "8   d2a6010c-4b7d-489f-8198-d03452d6da04   \n",
       "9   e88cf8c9-aab4-4e8c-bc45-750b91edf5a1   \n",
       "10  1cb1e8d3-29a1-4ff6-9f03-46a234061ca3   \n",
       "11  8cba6481-e37b-4a75-b0cf-4bb6ff60c8f1   \n",
       "12  d4a068a4-18b1-4f29-ae3d-a1c43bc2b41f   \n",
       "13  9f7f0b9a-fc4d-4211-8633-7eea77c7316f   \n",
       "\n",
       "                                         text_unit_id  \n",
       "0   48247d3af85c659be6862abaeba68005bc0deb1bd78fb1...  \n",
       "1   18672b338b62eebb11280822128bcf852cf27e6cf4fb32...  \n",
       "2   18672b338b62eebb11280822128bcf852cf27e6cf4fb32...  \n",
       "3   18672b338b62eebb11280822128bcf852cf27e6cf4fb32...  \n",
       "4   18672b338b62eebb11280822128bcf852cf27e6cf4fb32...  \n",
       "5   8a8630fef2d71aa677e81a096116ac8be1a1e557921017...  \n",
       "6   707ec6b02b34ab5b70c8edde36cfa346dc02a7325970ef...  \n",
       "7   db621b0d020fa7a74d3d331770459c4a8d8dce6abd59d5...  \n",
       "8   bfbb21f7a4a1ece03c36fe70e4a6b7aa3c6c60b340501a...  \n",
       "9   466a48ca12f31c2170e68b43e1e66a5e5851c62df7582c...  \n",
       "10  9a4de5c8f426a7bf0516d1a55b8514bc9e10979a92146a...  \n",
       "11  dd63514b7374d11907ffc7bf8551e8e5b308afced9697a...  \n",
       "12  8d6958f025cfd39b2edba4c723334d99cc0603a6589492...  \n",
       "13  107ed5f7f95dab22eb13cd0047ba265b302bcd1cd8d580...  "
      ],
      "text/html": [
       "<div>\n",
       "<style scoped>\n",
       "    .dataframe tbody tr th:only-of-type {\n",
       "        vertical-align: middle;\n",
       "    }\n",
       "\n",
       "    .dataframe tbody tr th {\n",
       "        vertical-align: top;\n",
       "    }\n",
       "\n",
       "    .dataframe thead th {\n",
       "        text-align: right;\n",
       "    }\n",
       "</style>\n",
       "<table border=\"1\" class=\"dataframe\">\n",
       "  <thead>\n",
       "    <tr style=\"text-align: right;\">\n",
       "      <th></th>\n",
       "      <th>id</th>\n",
       "      <th>text_unit_id</th>\n",
       "    </tr>\n",
       "  </thead>\n",
       "  <tbody>\n",
       "    <tr>\n",
       "      <th>0</th>\n",
       "      <td>ea07d202-a5e1-46c1-b0b1-1a4738c5b5a9</td>\n",
       "      <td>48247d3af85c659be6862abaeba68005bc0deb1bd78fb1...</td>\n",
       "    </tr>\n",
       "    <tr>\n",
       "      <th>1</th>\n",
       "      <td>af3f53b6-d5e9-440b-92cd-de6a29b161dc</td>\n",
       "      <td>18672b338b62eebb11280822128bcf852cf27e6cf4fb32...</td>\n",
       "    </tr>\n",
       "    <tr>\n",
       "      <th>2</th>\n",
       "      <td>6f277700-b111-4359-89a8-5f99e5cff1db</td>\n",
       "      <td>18672b338b62eebb11280822128bcf852cf27e6cf4fb32...</td>\n",
       "    </tr>\n",
       "    <tr>\n",
       "      <th>3</th>\n",
       "      <td>bebee862-4d7c-496d-8f74-14510bf2f3ae</td>\n",
       "      <td>18672b338b62eebb11280822128bcf852cf27e6cf4fb32...</td>\n",
       "    </tr>\n",
       "    <tr>\n",
       "      <th>4</th>\n",
       "      <td>3063ce62-4ad8-49c6-9ecc-5d6204a7fb4a</td>\n",
       "      <td>18672b338b62eebb11280822128bcf852cf27e6cf4fb32...</td>\n",
       "    </tr>\n",
       "    <tr>\n",
       "      <th>5</th>\n",
       "      <td>d9d5fcc2-60bb-4534-8b4b-3ffaf1943158</td>\n",
       "      <td>8a8630fef2d71aa677e81a096116ac8be1a1e557921017...</td>\n",
       "    </tr>\n",
       "    <tr>\n",
       "      <th>6</th>\n",
       "      <td>a3cf088f-9177-4acc-b666-8b28c5109f33</td>\n",
       "      <td>707ec6b02b34ab5b70c8edde36cfa346dc02a7325970ef...</td>\n",
       "    </tr>\n",
       "    <tr>\n",
       "      <th>7</th>\n",
       "      <td>7cfcf005-eb80-4734-bc1c-8f6d906fa400</td>\n",
       "      <td>db621b0d020fa7a74d3d331770459c4a8d8dce6abd59d5...</td>\n",
       "    </tr>\n",
       "    <tr>\n",
       "      <th>8</th>\n",
       "      <td>d2a6010c-4b7d-489f-8198-d03452d6da04</td>\n",
       "      <td>bfbb21f7a4a1ece03c36fe70e4a6b7aa3c6c60b340501a...</td>\n",
       "    </tr>\n",
       "    <tr>\n",
       "      <th>9</th>\n",
       "      <td>e88cf8c9-aab4-4e8c-bc45-750b91edf5a1</td>\n",
       "      <td>466a48ca12f31c2170e68b43e1e66a5e5851c62df7582c...</td>\n",
       "    </tr>\n",
       "    <tr>\n",
       "      <th>10</th>\n",
       "      <td>1cb1e8d3-29a1-4ff6-9f03-46a234061ca3</td>\n",
       "      <td>9a4de5c8f426a7bf0516d1a55b8514bc9e10979a92146a...</td>\n",
       "    </tr>\n",
       "    <tr>\n",
       "      <th>11</th>\n",
       "      <td>8cba6481-e37b-4a75-b0cf-4bb6ff60c8f1</td>\n",
       "      <td>dd63514b7374d11907ffc7bf8551e8e5b308afced9697a...</td>\n",
       "    </tr>\n",
       "    <tr>\n",
       "      <th>12</th>\n",
       "      <td>d4a068a4-18b1-4f29-ae3d-a1c43bc2b41f</td>\n",
       "      <td>8d6958f025cfd39b2edba4c723334d99cc0603a6589492...</td>\n",
       "    </tr>\n",
       "    <tr>\n",
       "      <th>13</th>\n",
       "      <td>9f7f0b9a-fc4d-4211-8633-7eea77c7316f</td>\n",
       "      <td>107ed5f7f95dab22eb13cd0047ba265b302bcd1cd8d580...</td>\n",
       "    </tr>\n",
       "  </tbody>\n",
       "</table>\n",
       "</div>"
      ]
     },
     "execution_count": 184,
     "metadata": {},
     "output_type": "execute_result"
    }
   ],
   "execution_count": 184
  },
  {
   "cell_type": "code",
   "id": "3e064234-5fce-448e-8bb4-ab2f35699049",
   "metadata": {
    "ExecuteTime": {
     "end_time": "2025-02-18T03:35:39.942688900Z",
     "start_time": "2025-02-17T16:18:21.013498Z"
    }
   },
   "source": [
    "# Import covariates\n",
    "cov_statement = \"\"\"\n",
    "MERGE (c:__Covariate__ {id:value.id})\n",
    "SET c += apoc.map.clean(value, [\"text_unit_id\", \"document_ids\", \"n_tokens\"], [NULL, \"\"])\n",
    "WITH c, value\n",
    "MATCH (ch:__Chunk__ {id: value.text_unit_id})\n",
    "MERGE (ch)-[:HAS_COVARIATE]->(c)\n",
    "\"\"\"\n",
    "batched_import(cov_statement, cov_df)"
   ],
   "outputs": [
    {
     "name": "stdout",
     "output_type": "stream",
     "text": [
      "{'_contains_updates': True, 'labels_added': 14, 'nodes_created': 14, 'properties_set': 28}\n",
      "14 rows in 0.16161847114562988 s.\n"
     ]
    },
    {
     "data": {
      "text/plain": [
       "14"
      ]
     },
     "execution_count": 185,
     "metadata": {},
     "output_type": "execute_result"
    }
   ],
   "execution_count": 185
  },
  {
   "cell_type": "markdown",
   "id": "00340bae",
   "metadata": {},
   "source": [
    "### Visualize your data\n",
    "\n",
    "You can now [Open] Neo4j on Aura, you need to log in with either SSO or your credentials.\n",
    "\n",
    "Or open https://workspace-preview.neo4j.io and connect to your local instance, remember the URI is `neo4j://localhost` and `neo4j` as username and `password` as password.\n",
    "\n",
    "In \"Explore\" you can explore by using visual graph patterns and then explore and expand further.\n",
    "\n",
    "In \"Query\", you can open the left sidebar and explore by clicking on the nodes and relationships.\n",
    "You can also use the co-pilot to generate Cypher queries for your, here are some examples.\n",
    "\n",
    "#### Show a few `__Entity__` nodes and their relationships (Entity Graph)\n",
    "\n",
    "```cypher\n",
    "MATCH path = (:__Entity__)-[:RELATED]->(:__Entity__)\n",
    "RETURN path LIMIT 200\n",
    "```\n",
    "\n",
    "#### Show the Chunks and the Document (Lexical Graph)\n",
    "\n",
    "```cypher\n",
    "MATCH (d:__Document__) WITH d LIMIT 1\n",
    "MATCH path = (d)<-[:PART_OF]-(c:__Chunk__)\n",
    "RETURN path LIMIT 100\n",
    "```\n",
    "\n",
    "####  Show a Community and it's Entities\n",
    "\n",
    "```cypher\n",
    "MATCH (c:__Community__) WITH c LIMIT 1\n",
    "MATCH path = (c)<-[:IN_COMMUNITY]-()-[:RELATED]-(:__Entity__)\n",
    "RETURN path LIMIT 100\n",
    "```\n",
    "\n",
    "#### Show everything\n",
    "\n",
    "```cypher\n",
    "MATCH (d:__Document__) WITH d LIMIT 1\n",
    "MATCH path = (d)<-[:PART_OF]-(:__Chunk__)-[:HAS_ENTIY]->()-[:RELATED]-()-[:IN_COMMUNITY]->()\n",
    "RETURN path LIMIT 250\n",
    "```\n",
    "\n",
    "We showed the visualization of this last query at the beginning."
   ]
  },
  {
   "cell_type": "markdown",
   "id": "a0aa8529",
   "metadata": {},
   "source": [
    "If you have questions, feel free to reach out in the GraphRAG discord server: \n",
    "https://discord.gg/graphrag"
   ]
  }
 ],
 "metadata": {
  "kernelspec": {
   "display_name": "Python 3 (ipykernel)",
   "language": "python",
   "name": "python3"
  },
  "language_info": {
   "codemirror_mode": {
    "name": "ipython",
    "version": 3
   },
   "file_extension": ".py",
   "mimetype": "text/x-python",
   "name": "python",
   "nbconvert_exporter": "python",
   "pygments_lexer": "ipython3",
   "version": "3.11.8"
  }
 },
 "nbformat": 4,
 "nbformat_minor": 5
}
