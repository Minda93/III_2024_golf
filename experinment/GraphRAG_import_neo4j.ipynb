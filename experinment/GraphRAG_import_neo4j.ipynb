{
 "cells": [
  {
   "metadata": {
    "ExecuteTime": {
     "end_time": "2025-02-18T05:11:36.255620Z",
     "start_time": "2025-02-18T05:11:36.246840Z"
    }
   },
   "cell_type": "code",
   "source": [
    "import os\n",
    "\n",
    "GRAPHRAG_FOLDER = \"C:\\Code\\III_2024_golf\\\\ragtest\\output\""
   ],
   "id": "6d652faf23a9cfba",
   "outputs": [],
   "execution_count": 5
  },
  {
   "metadata": {},
   "cell_type": "markdown",
   "source": [
    "### Depedendencies\n",
    "\n",
    "We only need Pandas and the neo4j Python driver with the rust extension for faster network transport."
   ],
   "id": "892e42c29127442f"
  },
  {
   "metadata": {
    "ExecuteTime": {
     "end_time": "2025-02-18T05:08:02.351367Z",
     "start_time": "2025-02-18T05:08:01.636014Z"
    }
   },
   "cell_type": "code",
   "source": [
    "import time\n",
    "\n",
    "import pandas as pd\n",
    "from neo4j import GraphDatabase"
   ],
   "id": "25f2bdd9b077720b",
   "outputs": [],
   "execution_count": 1
  },
  {
   "metadata": {},
   "cell_type": "markdown",
   "source": [
    "## Neo4j Installation\n",
    "\n",
    "You can create a free instance of Neo4j [online](https://console.neo4j.io). You get a credentials file that you can use for the connection credentials. You can also get an instance in any of the cloud marketplaces.\n",
    "\n",
    "If you want to install Neo4j locally either use [Neo4j Desktop](https://neo4j.com/download) or \n",
    "the official Docker image: `docker run -e NEO4J_AUTH=neo4j/password -p 7687:7687 -p 7474:7474 neo4j` "
   ],
   "id": "bdb243a114910bdd"
  },
  {
   "metadata": {
    "ExecuteTime": {
     "end_time": "2025-02-18T05:18:42.962847Z",
     "start_time": "2025-02-18T05:18:42.938026Z"
    }
   },
   "cell_type": "code",
   "source": [
    "NEO4J_URI=\"neo4j+s://c67dfcd1.databases.neo4j.io\"\n",
    "NEO4J_USERNAME=\"neo4j\"\n",
    "NEO4J_PASSWORD=\"d_D68NVqp4GYu8pUiJ3BmelzZhX5FBsa2CklfeeS3f8\"\n",
    "NEO4J_DATABASE=\"neo4j\"\n",
    "# Create a Neo4j driver\n",
    "driver = GraphDatabase.driver(NEO4J_URI, auth=(NEO4J_USERNAME, NEO4J_PASSWORD))"
   ],
   "id": "93fa56c2508d7618",
   "outputs": [],
   "execution_count": 10
  },
  {
   "metadata": {},
   "cell_type": "markdown",
   "source": [
    "## Batched Import\n",
    "\n",
    "The batched import function takes a Cypher insert statement (needs to use the variable `value` for the row) and a dataframe to import.\n",
    "It will send by default 1k rows at a time as query parameter to the database to be inserted."
   ],
   "id": "64c54fad7e5cf7eb"
  },
  {
   "metadata": {
    "ExecuteTime": {
     "end_time": "2025-02-18T05:18:46.253093Z",
     "start_time": "2025-02-18T05:18:46.238685Z"
    }
   },
   "cell_type": "code",
   "source": [
    "def batched_import(statement, df, batch_size=1000):\n",
    "    \"\"\"\n",
    "    Import a dataframe into Neo4j using a batched approach.\n",
    "\n",
    "    Parameters: statement is the Cypher query to execute, df is the dataframe to import, and batch_size is the number of rows to import in each batch.\n",
    "    \"\"\"\n",
    "    total = len(df)\n",
    "    start_s = time.time()\n",
    "    for start in range(0, total, batch_size):\n",
    "        batch = df.iloc[start : min(start + batch_size, total)]\n",
    "        result = driver.execute_query(\n",
    "            \"UNWIND $rows AS value \" + statement,\n",
    "            rows=batch.to_dict(\"records\"),\n",
    "            database_=NEO4J_DATABASE,\n",
    "        )\n",
    "        print(result.summary.counters)\n",
    "    print(f\"{total} rows in {time.time() - start_s} s.\")\n",
    "    return total"
   ],
   "id": "ce9017d8facc2d68",
   "outputs": [],
   "execution_count": 12
  },
  {
   "metadata": {},
   "cell_type": "markdown",
   "source": [
    "## Indexes and Constraints\n",
    "\n",
    "Indexes in Neo4j are only used to find the starting points for graph queries, e.g. quickly finding two nodes to connect.\n",
    "Constraints exist to avoid duplicates, we create them mostly on id's of Entity types.\n",
    "\n",
    "We use some Types as markers with two underscores before and after to distinguish them from the actual entity types.\n",
    "\n",
    "The default relationship type here is `RELATED` but we could also infer a real relationship-type from the description or the types of the start and end-nodes.\n",
    "\n",
    "* `__Entity__`\n",
    "* `__Document__`\n",
    "* `__Chunk__`\n",
    "* `__Community__`\n",
    "* `__Covariate__`"
   ],
   "id": "4b84350c2eb6c872"
  },
  {
   "metadata": {},
   "cell_type": "markdown",
   "source": [
    "## Import Process\n",
    "\n",
    "### Importing the Documents\n",
    "\n",
    "We're loading the parquet file for the documents and create nodes with their ids and add the title property.\n",
    "We don't need to store text_unit_ids as we can create the relationships and the text content is also contained in the chunks."
   ],
   "id": "2259034537c1bdd0"
  },
  {
   "metadata": {
    "ExecuteTime": {
     "end_time": "2025-02-18T05:18:49.838434Z",
     "start_time": "2025-02-18T05:18:49.808587Z"
    }
   },
   "cell_type": "code",
   "source": [
    "doc_df = pd.read_parquet(\n",
    "    f\"{GRAPHRAG_FOLDER}/create_final_documents.parquet\", columns=[\"id\", \"title\"]\n",
    ")\n",
    "doc_df.head(2)"
   ],
   "id": "a082ba29bcbf4b5c",
   "outputs": [
    {
     "data": {
      "text/plain": [
       "                                                  id                title\n",
       "0  79a497eed050a67abeac53133083370776d5896e1f0e60...      現今高爾夫球桿基本概念.txt\n",
       "1  bba9ca74289df8e717153c49b987e9cd05361bdf376440...  綜評高爾夫下揮桿之腕部釋放技巧.txt"
      ],
      "text/html": [
       "<div>\n",
       "<style scoped>\n",
       "    .dataframe tbody tr th:only-of-type {\n",
       "        vertical-align: middle;\n",
       "    }\n",
       "\n",
       "    .dataframe tbody tr th {\n",
       "        vertical-align: top;\n",
       "    }\n",
       "\n",
       "    .dataframe thead th {\n",
       "        text-align: right;\n",
       "    }\n",
       "</style>\n",
       "<table border=\"1\" class=\"dataframe\">\n",
       "  <thead>\n",
       "    <tr style=\"text-align: right;\">\n",
       "      <th></th>\n",
       "      <th>id</th>\n",
       "      <th>title</th>\n",
       "    </tr>\n",
       "  </thead>\n",
       "  <tbody>\n",
       "    <tr>\n",
       "      <th>0</th>\n",
       "      <td>79a497eed050a67abeac53133083370776d5896e1f0e60...</td>\n",
       "      <td>現今高爾夫球桿基本概念.txt</td>\n",
       "    </tr>\n",
       "    <tr>\n",
       "      <th>1</th>\n",
       "      <td>bba9ca74289df8e717153c49b987e9cd05361bdf376440...</td>\n",
       "      <td>綜評高爾夫下揮桿之腕部釋放技巧.txt</td>\n",
       "    </tr>\n",
       "  </tbody>\n",
       "</table>\n",
       "</div>"
      ]
     },
     "execution_count": 13,
     "metadata": {},
     "output_type": "execute_result"
    }
   ],
   "execution_count": 13
  },
  {
   "metadata": {
    "ExecuteTime": {
     "end_time": "2025-02-18T05:18:54.073018Z",
     "start_time": "2025-02-18T05:18:53.372661Z"
    }
   },
   "cell_type": "code",
   "source": [
    "# Import documents\n",
    "statement = \"\"\"\n",
    "CREATE (d:Document {\n",
    "    id: value.id,\n",
    "    title: value.title,\n",
    "    raw_content: value.raw_content,\n",
    "    text_unit_ids: value.text_unit_ids\n",
    "});\n",
    "\"\"\"\n",
    "\n",
    "batched_import(statement, doc_df)"
   ],
   "id": "794df012e4dd0487",
   "outputs": [
    {
     "name": "stdout",
     "output_type": "stream",
     "text": [
      "{'_contains_updates': True, 'labels_added': 7, 'nodes_created': 7, 'properties_set': 14}\n",
      "7 rows in 0.6817796230316162 s.\n"
     ]
    },
    {
     "data": {
      "text/plain": [
       "7"
      ]
     },
     "execution_count": 14,
     "metadata": {},
     "output_type": "execute_result"
    }
   ],
   "execution_count": 14
  },
  {
   "metadata": {},
   "cell_type": "markdown",
   "source": [
    "### Loading Text Units\n",
    "\n",
    "We load the text units, create a node per id and set the text and number of tokens.\n",
    "Then we connect them to the documents that we created before."
   ],
   "id": "4281f67e7337cbfd"
  },
  {
   "metadata": {
    "ExecuteTime": {
     "end_time": "2025-02-18T05:20:03.200549Z",
     "start_time": "2025-02-18T05:20:03.175938Z"
    }
   },
   "cell_type": "code",
   "source": [
    "text_df = pd.read_parquet(\n",
    "    f\"{GRAPHRAG_FOLDER}/create_final_text_units.parquet\",\n",
    "    columns=[\"id\", \"text\", \"n_tokens\", \"document_ids\"],\n",
    ")\n",
    "text_df.head(2)"
   ],
   "id": "4b1bb77574e69690",
   "outputs": [
    {
     "data": {
      "text/plain": [
       "                                                  id  \\\n",
       "0  23f9f55a3d55f4d9c08729314d06b8454c3cb06b3e2277...   \n",
       "1  bbec972c236d5442cf6c1d6ad96c4a9110148e6cbe3a4b...   \n",
       "\n",
       "                                                text  n_tokens  \\\n",
       "0  高爾夫球桿桿身的相關研究\\n\\ndoi:10.29706/GS.201208.0007\\n大...      1200   \n",
       "1  業餘的高爾夫愛好者在合適的球具、適當的練習下，即能夠在很\\n短的時間，就具備不錯的揮桿距離與...      1200   \n",
       "\n",
       "                                        document_ids  \n",
       "0  [0fc45284410a8448f5e5b3553f77b2ed518df093fd089...  \n",
       "1  [0fc45284410a8448f5e5b3553f77b2ed518df093fd089...  "
      ],
      "text/html": [
       "<div>\n",
       "<style scoped>\n",
       "    .dataframe tbody tr th:only-of-type {\n",
       "        vertical-align: middle;\n",
       "    }\n",
       "\n",
       "    .dataframe tbody tr th {\n",
       "        vertical-align: top;\n",
       "    }\n",
       "\n",
       "    .dataframe thead th {\n",
       "        text-align: right;\n",
       "    }\n",
       "</style>\n",
       "<table border=\"1\" class=\"dataframe\">\n",
       "  <thead>\n",
       "    <tr style=\"text-align: right;\">\n",
       "      <th></th>\n",
       "      <th>id</th>\n",
       "      <th>text</th>\n",
       "      <th>n_tokens</th>\n",
       "      <th>document_ids</th>\n",
       "    </tr>\n",
       "  </thead>\n",
       "  <tbody>\n",
       "    <tr>\n",
       "      <th>0</th>\n",
       "      <td>23f9f55a3d55f4d9c08729314d06b8454c3cb06b3e2277...</td>\n",
       "      <td>高爾夫球桿桿身的相關研究\\n\\ndoi:10.29706/GS.201208.0007\\n大...</td>\n",
       "      <td>1200</td>\n",
       "      <td>[0fc45284410a8448f5e5b3553f77b2ed518df093fd089...</td>\n",
       "    </tr>\n",
       "    <tr>\n",
       "      <th>1</th>\n",
       "      <td>bbec972c236d5442cf6c1d6ad96c4a9110148e6cbe3a4b...</td>\n",
       "      <td>業餘的高爾夫愛好者在合適的球具、適當的練習下，即能夠在很\\n短的時間，就具備不錯的揮桿距離與...</td>\n",
       "      <td>1200</td>\n",
       "      <td>[0fc45284410a8448f5e5b3553f77b2ed518df093fd089...</td>\n",
       "    </tr>\n",
       "  </tbody>\n",
       "</table>\n",
       "</div>"
      ]
     },
     "execution_count": 15,
     "metadata": {},
     "output_type": "execute_result"
    }
   ],
   "execution_count": 15
  },
  {
   "metadata": {
    "ExecuteTime": {
     "end_time": "2025-02-18T05:20:07.345355Z",
     "start_time": "2025-02-18T05:20:06.693198Z"
    }
   },
   "cell_type": "code",
   "source": [
    "statement = \"\"\"\n",
    "CREATE (t:TextUnit {\n",
    "    id: value.id,\n",
    "    text: value.text,\n",
    "    n_tokens: toFloat(value.n_tokens),\n",
    "    document_ids: value.document_ids,\n",
    "    entity_ids: value.entity_ids,\n",
    "    relationship_ids: value.relationship_ids\n",
    "});\n",
    "\n",
    "\"\"\"\n",
    "\n",
    "batched_import(statement, text_df)"
   ],
   "id": "5834af0939e5c059",
   "outputs": [
    {
     "name": "stdout",
     "output_type": "stream",
     "text": [
      "{'_contains_updates': True, 'labels_added': 58, 'nodes_created': 58, 'properties_set': 232}\n",
      "58 rows in 0.6316184997558594 s.\n"
     ]
    },
    {
     "data": {
      "text/plain": [
       "58"
      ]
     },
     "execution_count": 16,
     "metadata": {},
     "output_type": "execute_result"
    }
   ],
   "execution_count": 16
  },
  {
   "metadata": {},
   "cell_type": "markdown",
   "source": [
    "### Loading Entities\n",
    "\n",
    "For the nodes we store id, name, description, embedding (if available), human readable id."
   ],
   "id": "a566877073203e32"
  },
  {
   "metadata": {
    "ExecuteTime": {
     "end_time": "2025-02-18T05:25:12.966984Z",
     "start_time": "2025-02-18T05:25:12.947586Z"
    }
   },
   "cell_type": "code",
   "source": [
    "entity_df = pd.read_parquet(\n",
    "    f\"{GRAPHRAG_FOLDER}/create_final_entities.parquet\",\n",
    "    columns=[\n",
    "        \"id\",  \n",
    "        \"human_readable_id\",    \n",
    "        \"title\",\n",
    "        \"type\",\n",
    "        \"description\",\n",
    "        \"text_unit_ids\",\n",
    "    ],\n",
    ")\n",
    "entity_df.head(2)"
   ],
   "id": "fdf44ff814262a8d",
   "outputs": [
    {
     "data": {
      "text/plain": [
       "                                     id  human_readable_id title    type  \\\n",
       "0  bf2440ec-3d12-498c-9ed3-ac7576270785                  0   王順正  PERSON   \n",
       "1  f4907ce6-5165-487a-bfda-cffcb579ce2b                  1   林玉瓊  PERSON   \n",
       "\n",
       "                                         description  \\\n",
       "0  王順正 is an author affiliated with National Chun...   \n",
       "1  林玉瓊 is an author affiliated with Wu Feng Unive...   \n",
       "\n",
       "                                       text_unit_ids  \n",
       "0  [23f9f55a3d55f4d9c08729314d06b8454c3cb06b3e227...  \n",
       "1  [23f9f55a3d55f4d9c08729314d06b8454c3cb06b3e227...  "
      ],
      "text/html": [
       "<div>\n",
       "<style scoped>\n",
       "    .dataframe tbody tr th:only-of-type {\n",
       "        vertical-align: middle;\n",
       "    }\n",
       "\n",
       "    .dataframe tbody tr th {\n",
       "        vertical-align: top;\n",
       "    }\n",
       "\n",
       "    .dataframe thead th {\n",
       "        text-align: right;\n",
       "    }\n",
       "</style>\n",
       "<table border=\"1\" class=\"dataframe\">\n",
       "  <thead>\n",
       "    <tr style=\"text-align: right;\">\n",
       "      <th></th>\n",
       "      <th>id</th>\n",
       "      <th>human_readable_id</th>\n",
       "      <th>title</th>\n",
       "      <th>type</th>\n",
       "      <th>description</th>\n",
       "      <th>text_unit_ids</th>\n",
       "    </tr>\n",
       "  </thead>\n",
       "  <tbody>\n",
       "    <tr>\n",
       "      <th>0</th>\n",
       "      <td>bf2440ec-3d12-498c-9ed3-ac7576270785</td>\n",
       "      <td>0</td>\n",
       "      <td>王順正</td>\n",
       "      <td>PERSON</td>\n",
       "      <td>王順正 is an author affiliated with National Chun...</td>\n",
       "      <td>[23f9f55a3d55f4d9c08729314d06b8454c3cb06b3e227...</td>\n",
       "    </tr>\n",
       "    <tr>\n",
       "      <th>1</th>\n",
       "      <td>f4907ce6-5165-487a-bfda-cffcb579ce2b</td>\n",
       "      <td>1</td>\n",
       "      <td>林玉瓊</td>\n",
       "      <td>PERSON</td>\n",
       "      <td>林玉瓊 is an author affiliated with Wu Feng Unive...</td>\n",
       "      <td>[23f9f55a3d55f4d9c08729314d06b8454c3cb06b3e227...</td>\n",
       "    </tr>\n",
       "  </tbody>\n",
       "</table>\n",
       "</div>"
      ]
     },
     "execution_count": 17,
     "metadata": {},
     "output_type": "execute_result"
    }
   ],
   "execution_count": 17
  },
  {
   "metadata": {
    "ExecuteTime": {
     "end_time": "2025-02-18T05:25:38.062075Z",
     "start_time": "2025-02-18T05:25:37.462095Z"
    }
   },
   "cell_type": "code",
   "source": [
    "entity_statement = \"\"\"\n",
    "CREATE (e:Entity {\n",
    "    id: value.id,\n",
    "    name: value.name,\n",
    "    type: value.type,\n",
    "    description: value.description,\n",
    "    human_readable_id: toInteger(value.human_readable_id),\n",
    "    text_unit_ids: value.text_unit_ids\n",
    "});\n",
    "\"\"\"\n",
    "\n",
    "batched_import(entity_statement, entity_df)"
   ],
   "id": "26f2368128002c5c",
   "outputs": [
    {
     "name": "stdout",
     "output_type": "stream",
     "text": [
      "{'_contains_updates': True, 'labels_added': 629, 'nodes_created': 629, 'properties_set': 3145}\n",
      "629 rows in 0.5855612754821777 s.\n"
     ]
    },
    {
     "data": {
      "text/plain": [
       "629"
      ]
     },
     "execution_count": 19,
     "metadata": {},
     "output_type": "execute_result"
    }
   ],
   "execution_count": 19
  },
  {
   "metadata": {},
   "cell_type": "markdown",
   "source": [
    "### Import Relationships\n",
    "\n",
    "For the relationships we find the source and target node by name, using the base `__Entity__` type.\n",
    "After creating the `RELATED` relationships, we set the description as attribute."
   ],
   "id": "4e06e0c933f03963"
  },
  {
   "metadata": {
    "ExecuteTime": {
     "end_time": "2025-02-18T05:28:09.626297Z",
     "start_time": "2025-02-18T05:28:09.603215Z"
    }
   },
   "cell_type": "code",
   "source": [
    "rel_df = pd.read_parquet(\n",
    "    f\"{GRAPHRAG_FOLDER}/create_final_relationships.parquet\",\n",
    "    columns=[\n",
    "        \"id\",\n",
    "        \"human_readable_id\",\n",
    "        \"source\",\n",
    "        \"target\",\n",
    "        \"description\",\n",
    "        \"weight\",\n",
    "        \"combined_degree\",\n",
    "        \"text_unit_ids\"\n",
    "    ],\n",
    ")\n",
    "rel_df.head(2)"
   ],
   "id": "b5ce4b749dde0caf",
   "outputs": [
    {
     "data": {
      "text/plain": [
       "                                     id  human_readable_id source target  \\\n",
       "0  dd3e85e6-fcab-4d49-86f8-fa2fc2b3545f                  0    王順正  高爾夫球桿   \n",
       "1  3164e95b-f59f-49b7-b85c-1cb6a0ccb889                  1    林玉瓊  高爾夫球桿   \n",
       "\n",
       "                                         description  weight  combined_degree  \\\n",
       "0  王順正 is an author who conducted research on gol...     8.0               45   \n",
       "1  林玉瓊 is an author who conducted research on gol...     8.0               45   \n",
       "\n",
       "                                       text_unit_ids  \n",
       "0  [23f9f55a3d55f4d9c08729314d06b8454c3cb06b3e227...  \n",
       "1  [23f9f55a3d55f4d9c08729314d06b8454c3cb06b3e227...  "
      ],
      "text/html": [
       "<div>\n",
       "<style scoped>\n",
       "    .dataframe tbody tr th:only-of-type {\n",
       "        vertical-align: middle;\n",
       "    }\n",
       "\n",
       "    .dataframe tbody tr th {\n",
       "        vertical-align: top;\n",
       "    }\n",
       "\n",
       "    .dataframe thead th {\n",
       "        text-align: right;\n",
       "    }\n",
       "</style>\n",
       "<table border=\"1\" class=\"dataframe\">\n",
       "  <thead>\n",
       "    <tr style=\"text-align: right;\">\n",
       "      <th></th>\n",
       "      <th>id</th>\n",
       "      <th>human_readable_id</th>\n",
       "      <th>source</th>\n",
       "      <th>target</th>\n",
       "      <th>description</th>\n",
       "      <th>weight</th>\n",
       "      <th>combined_degree</th>\n",
       "      <th>text_unit_ids</th>\n",
       "    </tr>\n",
       "  </thead>\n",
       "  <tbody>\n",
       "    <tr>\n",
       "      <th>0</th>\n",
       "      <td>dd3e85e6-fcab-4d49-86f8-fa2fc2b3545f</td>\n",
       "      <td>0</td>\n",
       "      <td>王順正</td>\n",
       "      <td>高爾夫球桿</td>\n",
       "      <td>王順正 is an author who conducted research on gol...</td>\n",
       "      <td>8.0</td>\n",
       "      <td>45</td>\n",
       "      <td>[23f9f55a3d55f4d9c08729314d06b8454c3cb06b3e227...</td>\n",
       "    </tr>\n",
       "    <tr>\n",
       "      <th>1</th>\n",
       "      <td>3164e95b-f59f-49b7-b85c-1cb6a0ccb889</td>\n",
       "      <td>1</td>\n",
       "      <td>林玉瓊</td>\n",
       "      <td>高爾夫球桿</td>\n",
       "      <td>林玉瓊 is an author who conducted research on gol...</td>\n",
       "      <td>8.0</td>\n",
       "      <td>45</td>\n",
       "      <td>[23f9f55a3d55f4d9c08729314d06b8454c3cb06b3e227...</td>\n",
       "    </tr>\n",
       "  </tbody>\n",
       "</table>\n",
       "</div>"
      ]
     },
     "execution_count": 20,
     "metadata": {},
     "output_type": "execute_result"
    }
   ],
   "execution_count": 20
  },
  {
   "metadata": {
    "ExecuteTime": {
     "end_time": "2025-02-18T05:28:13.738327Z",
     "start_time": "2025-02-18T05:28:13.303939Z"
    }
   },
   "cell_type": "code",
   "source": [
    "rel_statement = \"\"\"\n",
    "CREATE (r:Relationship {\n",
    "    source: value.source,\n",
    "    target: value.target,\n",
    "    weight: toFloat(value.weight),\n",
    "    description: value.description,\n",
    "    id: value.id,\n",
    "    human_readable_id: value.human_readable_id,\n",
    "    source_degree: toInteger(value.source_degree),\n",
    "    target_degree: toInteger(value.target_degree),\n",
    "    /*\n",
    "    rank: toInteger(value.rank),\n",
    "    */\n",
    "    text_unit_ids: value.text_unit_ids\n",
    "});\n",
    "\"\"\"\n",
    "\n",
    "batched_import(rel_statement, rel_df)"
   ],
   "id": "71f2772951d86405",
   "outputs": [
    {
     "name": "stdout",
     "output_type": "stream",
     "text": [
      "{'_contains_updates': True, 'labels_added': 818, 'nodes_created': 818, 'properties_set': 5726}\n",
      "818 rows in 0.4259073734283447 s.\n"
     ]
    },
    {
     "data": {
      "text/plain": [
       "818"
      ]
     },
     "execution_count": 21,
     "metadata": {},
     "output_type": "execute_result"
    }
   ],
   "execution_count": 21
  },
  {
   "metadata": {},
   "cell_type": "markdown",
   "source": "### Import node",
   "id": "bf9b5fab527bf30d"
  },
  {
   "metadata": {
    "ExecuteTime": {
     "end_time": "2025-02-18T05:48:48.995816Z",
     "start_time": "2025-02-18T05:48:48.970485Z"
    }
   },
   "cell_type": "code",
   "source": [
    "community_df = pd.read_parquet(\n",
    "    f\"{GRAPHRAG_FOLDER}/create_final_nodes.parquet\",\n",
    "    columns=[\"id\",\"human_readable_id\", \"title\",\"community\",\"level\",\"degree\",\"x\",\"y\"],\n",
    ")\n",
    "\n",
    "community_df.head(2)"
   ],
   "id": "95ec4780ddadd504",
   "outputs": [
    {
     "data": {
      "text/plain": [
       "                                     id  human_readable_id title  community  \\\n",
       "0  bf2440ec-3d12-498c-9ed3-ac7576270785                  0   王順正         12   \n",
       "1  bf2440ec-3d12-498c-9ed3-ac7576270785                  0   王順正         78   \n",
       "\n",
       "   level  degree    x    y  \n",
       "0      0       1  0.0  0.0  \n",
       "1      1       1  0.0  0.0  "
      ],
      "text/html": [
       "<div>\n",
       "<style scoped>\n",
       "    .dataframe tbody tr th:only-of-type {\n",
       "        vertical-align: middle;\n",
       "    }\n",
       "\n",
       "    .dataframe tbody tr th {\n",
       "        vertical-align: top;\n",
       "    }\n",
       "\n",
       "    .dataframe thead th {\n",
       "        text-align: right;\n",
       "    }\n",
       "</style>\n",
       "<table border=\"1\" class=\"dataframe\">\n",
       "  <thead>\n",
       "    <tr style=\"text-align: right;\">\n",
       "      <th></th>\n",
       "      <th>id</th>\n",
       "      <th>human_readable_id</th>\n",
       "      <th>title</th>\n",
       "      <th>community</th>\n",
       "      <th>level</th>\n",
       "      <th>degree</th>\n",
       "      <th>x</th>\n",
       "      <th>y</th>\n",
       "    </tr>\n",
       "  </thead>\n",
       "  <tbody>\n",
       "    <tr>\n",
       "      <th>0</th>\n",
       "      <td>bf2440ec-3d12-498c-9ed3-ac7576270785</td>\n",
       "      <td>0</td>\n",
       "      <td>王順正</td>\n",
       "      <td>12</td>\n",
       "      <td>0</td>\n",
       "      <td>1</td>\n",
       "      <td>0.0</td>\n",
       "      <td>0.0</td>\n",
       "    </tr>\n",
       "    <tr>\n",
       "      <th>1</th>\n",
       "      <td>bf2440ec-3d12-498c-9ed3-ac7576270785</td>\n",
       "      <td>0</td>\n",
       "      <td>王順正</td>\n",
       "      <td>78</td>\n",
       "      <td>1</td>\n",
       "      <td>1</td>\n",
       "      <td>0.0</td>\n",
       "      <td>0.0</td>\n",
       "    </tr>\n",
       "  </tbody>\n",
       "</table>\n",
       "</div>"
      ]
     },
     "execution_count": 23,
     "metadata": {},
     "output_type": "execute_result"
    }
   ],
   "execution_count": 23
  },
  {
   "metadata": {
    "ExecuteTime": {
     "end_time": "2025-02-18T05:49:13.338438Z",
     "start_time": "2025-02-18T05:49:12.679600Z"
    }
   },
   "cell_type": "code",
   "source": [
    "statement = \"\"\"\n",
    "CREATE (n:Node {\n",
    "    id: value.id,\n",
    "    level: toInteger(value.level),\n",
    "    title: value.title,\n",
    "    type: value.type,\n",
    "    description: value.description,\n",
    "    source_id: value.source_id,\n",
    "    community: value.community,\n",
    "    degree: toInteger(value.degree),\n",
    "    human_readable_id: toInteger(value.human_readable_id),\n",
    "    size: toInteger(value.size),\n",
    "    entity_type: value.entity_type,\n",
    "    top_level_node_id: value.top_level_node_id,\n",
    "    x: toInteger(value.x),\n",
    "    y: toInteger(value.y)\n",
    "});\n",
    "\"\"\"\n",
    "\n",
    "batched_import(statement, community_df)\n"
   ],
   "id": "f4341b88e8ab2d36",
   "outputs": [
    {
     "name": "stdout",
     "output_type": "stream",
     "text": [
      "{'_contains_updates': True, 'labels_added': 1000, 'nodes_created': 1000, 'properties_set': 8000}\n",
      "{'_contains_updates': True, 'labels_added': 352, 'nodes_created': 352, 'properties_set': 2816}\n",
      "1352 rows in 0.6490049362182617 s.\n"
     ]
    },
    {
     "data": {
      "text/plain": [
       "1352"
      ]
     },
     "execution_count": 24,
     "metadata": {},
     "output_type": "execute_result"
    }
   ],
   "execution_count": 24
  },
  {
   "metadata": {},
   "cell_type": "markdown",
   "source": [
    "### Importing Communities\n",
    "\n",
    "For communities we import their id, title, level.\n",
    "We connect the `__Community__` nodes to the start and end nodes of the relationships they refer to.\n",
    "\n",
    "Connecting them to the chunks they orignate from is optional, as the entites are already connected to the chunks."
   ],
   "id": "35a35798111e4537"
  },
  {
   "metadata": {
    "ExecuteTime": {
     "end_time": "2025-02-18T05:52:45.241850Z",
     "start_time": "2025-02-18T05:52:45.225289Z"
    }
   },
   "cell_type": "code",
   "source": [
    "community_df = pd.read_parquet(\n",
    "    f\"{GRAPHRAG_FOLDER}/create_final_communities.parquet\",\n",
    "    columns=[\"id\", \"level\", \"title\", \"text_unit_ids\", \"relationship_ids\"],\n",
    ")\n",
    "\n",
    "community_df.head(2)"
   ],
   "id": "4914e396ef18f0c1",
   "outputs": [
    {
     "data": {
      "text/plain": [
       "                                     id  level        title  \\\n",
       "0  19e5deee-4930-4811-b758-b7bcead41273      0  Community 0   \n",
       "1  ac5e9bda-c3a5-428a-930d-7af7c99f11d3      0  Community 1   \n",
       "\n",
       "                                       text_unit_ids  \\\n",
       "0  [0b8bb9591af8ed28801e86e8a5bc1de89e027c48434fd...   \n",
       "1  [63460779082864c6d13982183b698189691ca36e76117...   \n",
       "\n",
       "                                    relationship_ids  \n",
       "0  [0188c1f0-e2e6-42d6-a140-544efb447bf2, 0378d07...  \n",
       "1  [0ca09d3e-b942-4dbe-91a0-806aab6c20ad, 104a829...  "
      ],
      "text/html": [
       "<div>\n",
       "<style scoped>\n",
       "    .dataframe tbody tr th:only-of-type {\n",
       "        vertical-align: middle;\n",
       "    }\n",
       "\n",
       "    .dataframe tbody tr th {\n",
       "        vertical-align: top;\n",
       "    }\n",
       "\n",
       "    .dataframe thead th {\n",
       "        text-align: right;\n",
       "    }\n",
       "</style>\n",
       "<table border=\"1\" class=\"dataframe\">\n",
       "  <thead>\n",
       "    <tr style=\"text-align: right;\">\n",
       "      <th></th>\n",
       "      <th>id</th>\n",
       "      <th>level</th>\n",
       "      <th>title</th>\n",
       "      <th>text_unit_ids</th>\n",
       "      <th>relationship_ids</th>\n",
       "    </tr>\n",
       "  </thead>\n",
       "  <tbody>\n",
       "    <tr>\n",
       "      <th>0</th>\n",
       "      <td>19e5deee-4930-4811-b758-b7bcead41273</td>\n",
       "      <td>0</td>\n",
       "      <td>Community 0</td>\n",
       "      <td>[0b8bb9591af8ed28801e86e8a5bc1de89e027c48434fd...</td>\n",
       "      <td>[0188c1f0-e2e6-42d6-a140-544efb447bf2, 0378d07...</td>\n",
       "    </tr>\n",
       "    <tr>\n",
       "      <th>1</th>\n",
       "      <td>ac5e9bda-c3a5-428a-930d-7af7c99f11d3</td>\n",
       "      <td>0</td>\n",
       "      <td>Community 1</td>\n",
       "      <td>[63460779082864c6d13982183b698189691ca36e76117...</td>\n",
       "      <td>[0ca09d3e-b942-4dbe-91a0-806aab6c20ad, 104a829...</td>\n",
       "    </tr>\n",
       "  </tbody>\n",
       "</table>\n",
       "</div>"
      ]
     },
     "execution_count": 26,
     "metadata": {},
     "output_type": "execute_result"
    }
   ],
   "execution_count": 26
  },
  {
   "metadata": {
    "ExecuteTime": {
     "end_time": "2025-02-18T05:52:50.793017Z",
     "start_time": "2025-02-18T05:52:50.525511Z"
    }
   },
   "cell_type": "code",
   "source": [
    "statement = \"\"\"\n",
    "CREATE (c:Community {\n",
    "    id: value.id,\n",
    "    title: value.title,\n",
    "    level: toInteger(value.level),\n",
    "    raw_community: value.raw_community,\n",
    "    relationship_ids: value.relationship_ids,\n",
    "    text_unit_ids: value.text_unit_ids\n",
    "});\n",
    "\"\"\"\n",
    "\n",
    "batched_import(statement, community_df)"
   ],
   "id": "99c993859ee1c5ec",
   "outputs": [
    {
     "name": "stdout",
     "output_type": "stream",
     "text": [
      "{'_contains_updates': True, 'labels_added': 113, 'nodes_created': 113, 'properties_set': 565}\n",
      "113 rows in 0.23726105690002441 s.\n"
     ]
    },
    {
     "data": {
      "text/plain": [
       "113"
      ]
     },
     "execution_count": 27,
     "metadata": {},
     "output_type": "execute_result"
    }
   ],
   "execution_count": 27
  },
  {
   "metadata": {},
   "cell_type": "markdown",
   "source": [
    "### Importing Community Reports\n",
    "\n",
    "Fo the community reports we create nodes for each communitiy set the id, community, level, title, summary, rank, and rank_explanation and connect them to the entities they are about.\n",
    "For the findings we create the findings in context of the communities."
   ],
   "id": "fd7b864fffe47551"
  },
  {
   "metadata": {
    "ExecuteTime": {
     "end_time": "2025-02-18T06:05:35.168322Z",
     "start_time": "2025-02-18T06:05:35.118292Z"
    }
   },
   "cell_type": "code",
   "source": [
    "community_report_df = pd.read_parquet(\n",
    "    f\"{GRAPHRAG_FOLDER}/create_final_community_reports.parquet\",\n",
    "    columns=[\n",
    "        \"id\",\n",
    "        \"community\",\n",
    "        \"level\",\n",
    "        \"title\",\n",
    "        \"summary\",\n",
    "        \"findings\",\n",
    "        \"rank\",\n",
    "        \"rank_explanation\",\n",
    "        \"full_content\",\n",
    "        \"full_content_json\",\n",
    "    ],\n",
    ")\n",
    "community_report_df"
   ],
   "id": "845cdf7cfa06c762",
   "outputs": [
    {
     "data": {
      "text/plain": [
       "                                   id  community  level  \\\n",
       "0    7f94ed38c3f945e3ad1ad19fa548a3ba         83      2   \n",
       "1    7768076af1e14a3e8a887a481ad52c3a         84      2   \n",
       "2    3159c82f269a4e9d917cb25520941adc         85      2   \n",
       "3    c92340cde4cd431b8b3f981b81f62d22         86      2   \n",
       "4    b254bb63d09940718b8141c9bb9bd601         87      2   \n",
       "..                                ...        ...    ...   \n",
       "108  c37b97c25340485f92a87334bf5b8daa          9      0   \n",
       "109  1c5881de6f7047b59ef1dfb97ebf3bc8         10      0   \n",
       "110  40d27c3a053f46ad8316a7c6eebc08ab         11      0   \n",
       "111  4e70b8064b8840a89cdfa6ecfbc0ff3a         12      0   \n",
       "112  52a17ca2258a4e258287171669eae4a5         13      0   \n",
       "\n",
       "                                                 title  \\\n",
       "0                             力量与速度结合原则与Wenger与Bell的研究   \n",
       "1             Golf Swing Mechanics and Muscle Dynamics   \n",
       "2                      Golf Clubs and Their Components   \n",
       "3           Amateur and Professional Golfers Community   \n",
       "4              Golf Swing Mechanics Research Community   \n",
       "..                                                 ...   \n",
       "108       Golf Swing Techniques and Research Community   \n",
       "109       Golf Swing Techniques and Research Community   \n",
       "110  Golf Swing Techniques and Specialized Strength...   \n",
       "111                  Golf Equipment Research Community   \n",
       "112                     Golf Swing Mechanics Community   \n",
       "\n",
       "                                               summary  \\\n",
       "0    该社区围绕力量与速度结合原则及其理论基础展开，Wenger与Bell的研究为这一原则提供了重...   \n",
       "1    This community focuses on the key muscle group...   \n",
       "2    The community focuses on various types of golf...   \n",
       "3    The community consists of amateur and professi...   \n",
       "4    The community is centered around the collabora...   \n",
       "..                                                 ...   \n",
       "108  This community focuses on the various aspects ...   \n",
       "109  This community focuses on the techniques and r...   \n",
       "110  This community focuses on the intersection of ...   \n",
       "111  The community is centered around the research ...   \n",
       "112  The community focuses on the mechanics of the ...   \n",
       "\n",
       "                                              findings  rank  \\\n",
       "0    [{'explanation': '力量与速度结合原则是高尔夫挥杆中的关键概念，运动员需要合...   4.0   \n",
       "1    [{'explanation': 'The community identifies sev...   7.5   \n",
       "2    [{'explanation': 'The community encompasses a ...   6.5   \n",
       "3    [{'explanation': 'The community is characteriz...   4.0   \n",
       "4    [{'explanation': 'DeDe and Linda have a strong...   4.0   \n",
       "..                                                 ...   ...   \n",
       "108  [{'explanation': 'Preparatory movements are cr...   7.5   \n",
       "109  [{'explanation': '揮桿 is the fundamental action...   7.5   \n",
       "110  [{'explanation': 'The study of biomechanics is...   7.5   \n",
       "111  [{'explanation': 'The design of the golf club ...   7.5   \n",
       "112  [{'explanation': 'The swing path, represented ...   7.5   \n",
       "\n",
       "                                      rank_explanation  \\\n",
       "0        影响严重性评分为中等，主要由于力量与速度结合原则在高尔夫运动中的应用可能影响运动员的表现。   \n",
       "1    The impact severity rating is high due to the ...   \n",
       "2    The impact severity rating is moderate to high...   \n",
       "3    The impact severity rating is moderate due to ...   \n",
       "4    The impact severity rating is moderate due to ...   \n",
       "..                                                 ...   \n",
       "108  The impact severity rating is high due to the ...   \n",
       "109  The impact severity rating is high due to the ...   \n",
       "110  The impact severity rating is high due to the ...   \n",
       "111  The impact severity rating is high due to the ...   \n",
       "112  The impact severity rating is high due to the ...   \n",
       "\n",
       "                                          full_content  \\\n",
       "0    # 力量与速度结合原则与Wenger与Bell的研究\\n\\n该社区围绕力量与速度结合原则及其...   \n",
       "1    # Golf Swing Mechanics and Muscle Dynamics\\n\\n...   \n",
       "2    # Golf Clubs and Their Components\\n\\nThe commu...   \n",
       "3    # Amateur and Professional Golfers Community\\n...   \n",
       "4    # Golf Swing Mechanics Research Community\\n\\nT...   \n",
       "..                                                 ...   \n",
       "108  # Golf Swing Techniques and Research Community...   \n",
       "109  # Golf Swing Techniques and Research Community...   \n",
       "110  # Golf Swing Techniques and Specialized Streng...   \n",
       "111  # Golf Equipment Research Community\\n\\nThe com...   \n",
       "112  # Golf Swing Mechanics Community\\n\\nThe commun...   \n",
       "\n",
       "                                     full_content_json  \n",
       "0    {\\n    \"title\": \"力量与速度结合原则与Wenger与Bell的研究\",\\n ...  \n",
       "1    {\\n    \"title\": \"Golf Swing Mechanics and Musc...  \n",
       "2    {\\n    \"title\": \"Golf Clubs and Their Componen...  \n",
       "3    {\\n    \"title\": \"Amateur and Professional Golf...  \n",
       "4    {\\n    \"title\": \"Golf Swing Mechanics Research...  \n",
       "..                                                 ...  \n",
       "108  {\\n    \"title\": \"Golf Swing Techniques and Res...  \n",
       "109  {\\n    \"title\": \"Golf Swing Techniques and Res...  \n",
       "110  {\\n    \"title\": \"Golf Swing Techniques and Spe...  \n",
       "111  {\\n    \"title\": \"Golf Equipment Research Commu...  \n",
       "112  {\\n    \"title\": \"Golf Swing Mechanics Communit...  \n",
       "\n",
       "[113 rows x 10 columns]"
      ],
      "text/html": [
       "<div>\n",
       "<style scoped>\n",
       "    .dataframe tbody tr th:only-of-type {\n",
       "        vertical-align: middle;\n",
       "    }\n",
       "\n",
       "    .dataframe tbody tr th {\n",
       "        vertical-align: top;\n",
       "    }\n",
       "\n",
       "    .dataframe thead th {\n",
       "        text-align: right;\n",
       "    }\n",
       "</style>\n",
       "<table border=\"1\" class=\"dataframe\">\n",
       "  <thead>\n",
       "    <tr style=\"text-align: right;\">\n",
       "      <th></th>\n",
       "      <th>id</th>\n",
       "      <th>community</th>\n",
       "      <th>level</th>\n",
       "      <th>title</th>\n",
       "      <th>summary</th>\n",
       "      <th>findings</th>\n",
       "      <th>rank</th>\n",
       "      <th>rank_explanation</th>\n",
       "      <th>full_content</th>\n",
       "      <th>full_content_json</th>\n",
       "    </tr>\n",
       "  </thead>\n",
       "  <tbody>\n",
       "    <tr>\n",
       "      <th>0</th>\n",
       "      <td>7f94ed38c3f945e3ad1ad19fa548a3ba</td>\n",
       "      <td>83</td>\n",
       "      <td>2</td>\n",
       "      <td>力量与速度结合原则与Wenger与Bell的研究</td>\n",
       "      <td>该社区围绕力量与速度结合原则及其理论基础展开，Wenger与Bell的研究为这一原则提供了重...</td>\n",
       "      <td>[{'explanation': '力量与速度结合原则是高尔夫挥杆中的关键概念，运动员需要合...</td>\n",
       "      <td>4.0</td>\n",
       "      <td>影响严重性评分为中等，主要由于力量与速度结合原则在高尔夫运动中的应用可能影响运动员的表现。</td>\n",
       "      <td># 力量与速度结合原则与Wenger与Bell的研究\\n\\n该社区围绕力量与速度结合原则及其...</td>\n",
       "      <td>{\\n    \"title\": \"力量与速度结合原则与Wenger与Bell的研究\",\\n ...</td>\n",
       "    </tr>\n",
       "    <tr>\n",
       "      <th>1</th>\n",
       "      <td>7768076af1e14a3e8a887a481ad52c3a</td>\n",
       "      <td>84</td>\n",
       "      <td>2</td>\n",
       "      <td>Golf Swing Mechanics and Muscle Dynamics</td>\n",
       "      <td>This community focuses on the key muscle group...</td>\n",
       "      <td>[{'explanation': 'The community identifies sev...</td>\n",
       "      <td>7.5</td>\n",
       "      <td>The impact severity rating is high due to the ...</td>\n",
       "      <td># Golf Swing Mechanics and Muscle Dynamics\\n\\n...</td>\n",
       "      <td>{\\n    \"title\": \"Golf Swing Mechanics and Musc...</td>\n",
       "    </tr>\n",
       "    <tr>\n",
       "      <th>2</th>\n",
       "      <td>3159c82f269a4e9d917cb25520941adc</td>\n",
       "      <td>85</td>\n",
       "      <td>2</td>\n",
       "      <td>Golf Clubs and Their Components</td>\n",
       "      <td>The community focuses on various types of golf...</td>\n",
       "      <td>[{'explanation': 'The community encompasses a ...</td>\n",
       "      <td>6.5</td>\n",
       "      <td>The impact severity rating is moderate to high...</td>\n",
       "      <td># Golf Clubs and Their Components\\n\\nThe commu...</td>\n",
       "      <td>{\\n    \"title\": \"Golf Clubs and Their Componen...</td>\n",
       "    </tr>\n",
       "    <tr>\n",
       "      <th>3</th>\n",
       "      <td>c92340cde4cd431b8b3f981b81f62d22</td>\n",
       "      <td>86</td>\n",
       "      <td>2</td>\n",
       "      <td>Amateur and Professional Golfers Community</td>\n",
       "      <td>The community consists of amateur and professi...</td>\n",
       "      <td>[{'explanation': 'The community is characteriz...</td>\n",
       "      <td>4.0</td>\n",
       "      <td>The impact severity rating is moderate due to ...</td>\n",
       "      <td># Amateur and Professional Golfers Community\\n...</td>\n",
       "      <td>{\\n    \"title\": \"Amateur and Professional Golf...</td>\n",
       "    </tr>\n",
       "    <tr>\n",
       "      <th>4</th>\n",
       "      <td>b254bb63d09940718b8141c9bb9bd601</td>\n",
       "      <td>87</td>\n",
       "      <td>2</td>\n",
       "      <td>Golf Swing Mechanics Research Community</td>\n",
       "      <td>The community is centered around the collabora...</td>\n",
       "      <td>[{'explanation': 'DeDe and Linda have a strong...</td>\n",
       "      <td>4.0</td>\n",
       "      <td>The impact severity rating is moderate due to ...</td>\n",
       "      <td># Golf Swing Mechanics Research Community\\n\\nT...</td>\n",
       "      <td>{\\n    \"title\": \"Golf Swing Mechanics Research...</td>\n",
       "    </tr>\n",
       "    <tr>\n",
       "      <th>...</th>\n",
       "      <td>...</td>\n",
       "      <td>...</td>\n",
       "      <td>...</td>\n",
       "      <td>...</td>\n",
       "      <td>...</td>\n",
       "      <td>...</td>\n",
       "      <td>...</td>\n",
       "      <td>...</td>\n",
       "      <td>...</td>\n",
       "      <td>...</td>\n",
       "    </tr>\n",
       "    <tr>\n",
       "      <th>108</th>\n",
       "      <td>c37b97c25340485f92a87334bf5b8daa</td>\n",
       "      <td>9</td>\n",
       "      <td>0</td>\n",
       "      <td>Golf Swing Techniques and Research Community</td>\n",
       "      <td>This community focuses on the various aspects ...</td>\n",
       "      <td>[{'explanation': 'Preparatory movements are cr...</td>\n",
       "      <td>7.5</td>\n",
       "      <td>The impact severity rating is high due to the ...</td>\n",
       "      <td># Golf Swing Techniques and Research Community...</td>\n",
       "      <td>{\\n    \"title\": \"Golf Swing Techniques and Res...</td>\n",
       "    </tr>\n",
       "    <tr>\n",
       "      <th>109</th>\n",
       "      <td>1c5881de6f7047b59ef1dfb97ebf3bc8</td>\n",
       "      <td>10</td>\n",
       "      <td>0</td>\n",
       "      <td>Golf Swing Techniques and Research Community</td>\n",
       "      <td>This community focuses on the techniques and r...</td>\n",
       "      <td>[{'explanation': '揮桿 is the fundamental action...</td>\n",
       "      <td>7.5</td>\n",
       "      <td>The impact severity rating is high due to the ...</td>\n",
       "      <td># Golf Swing Techniques and Research Community...</td>\n",
       "      <td>{\\n    \"title\": \"Golf Swing Techniques and Res...</td>\n",
       "    </tr>\n",
       "    <tr>\n",
       "      <th>110</th>\n",
       "      <td>40d27c3a053f46ad8316a7c6eebc08ab</td>\n",
       "      <td>11</td>\n",
       "      <td>0</td>\n",
       "      <td>Golf Swing Techniques and Specialized Strength...</td>\n",
       "      <td>This community focuses on the intersection of ...</td>\n",
       "      <td>[{'explanation': 'The study of biomechanics is...</td>\n",
       "      <td>7.5</td>\n",
       "      <td>The impact severity rating is high due to the ...</td>\n",
       "      <td># Golf Swing Techniques and Specialized Streng...</td>\n",
       "      <td>{\\n    \"title\": \"Golf Swing Techniques and Spe...</td>\n",
       "    </tr>\n",
       "    <tr>\n",
       "      <th>111</th>\n",
       "      <td>4e70b8064b8840a89cdfa6ecfbc0ff3a</td>\n",
       "      <td>12</td>\n",
       "      <td>0</td>\n",
       "      <td>Golf Equipment Research Community</td>\n",
       "      <td>The community is centered around the research ...</td>\n",
       "      <td>[{'explanation': 'The design of the golf club ...</td>\n",
       "      <td>7.5</td>\n",
       "      <td>The impact severity rating is high due to the ...</td>\n",
       "      <td># Golf Equipment Research Community\\n\\nThe com...</td>\n",
       "      <td>{\\n    \"title\": \"Golf Equipment Research Commu...</td>\n",
       "    </tr>\n",
       "    <tr>\n",
       "      <th>112</th>\n",
       "      <td>52a17ca2258a4e258287171669eae4a5</td>\n",
       "      <td>13</td>\n",
       "      <td>0</td>\n",
       "      <td>Golf Swing Mechanics Community</td>\n",
       "      <td>The community focuses on the mechanics of the ...</td>\n",
       "      <td>[{'explanation': 'The swing path, represented ...</td>\n",
       "      <td>7.5</td>\n",
       "      <td>The impact severity rating is high due to the ...</td>\n",
       "      <td># Golf Swing Mechanics Community\\n\\nThe commun...</td>\n",
       "      <td>{\\n    \"title\": \"Golf Swing Mechanics Communit...</td>\n",
       "    </tr>\n",
       "  </tbody>\n",
       "</table>\n",
       "<p>113 rows × 10 columns</p>\n",
       "</div>"
      ]
     },
     "execution_count": 35,
     "metadata": {},
     "output_type": "execute_result"
    }
   ],
   "execution_count": 35
  },
  {
   "metadata": {
    "ExecuteTime": {
     "end_time": "2025-02-18T06:07:55.033704Z",
     "start_time": "2025-02-18T06:07:54.532432Z"
    }
   },
   "cell_type": "code",
   "source": [
    "# Import communities\n",
    "community_statement = \"\"\"\n",
    "CREATE (cr:CommunityReport {\n",
    "    id: value.id,\n",
    "    community: value.community,\n",
    "    full_content: value.full_content,\n",
    "    level: toInteger(value.level),\n",
    "    rank: toFloat(value.rank),\n",
    "    title: value.title,\n",
    "    rank_explanation: value.rank_explanation,\n",
    "    summary: value.summary,\n",
    "    /*\n",
    "    findings: value.findings,\n",
    "    */\n",
    "    full_content_json: value.full_content_json\n",
    "});\n",
    "\"\"\"\n",
    "batched_import(community_statement, community_report_df)"
   ],
   "id": "c07a45e994e93d17",
   "outputs": [
    {
     "name": "stdout",
     "output_type": "stream",
     "text": [
      "{'_contains_updates': True, 'labels_added': 113, 'nodes_created': 113, 'properties_set': 1017}\n",
      "113 rows in 0.4844679832458496 s.\n"
     ]
    },
    {
     "data": {
      "text/plain": [
       "113"
      ]
     },
     "execution_count": 36,
     "metadata": {},
     "output_type": "execute_result"
    }
   ],
   "execution_count": 36
  },
  {
   "metadata": {},
   "cell_type": "markdown",
   "source": "",
   "id": "dd6bcb7a67637f25"
  },
  {
   "metadata": {
    "ExecuteTime": {
     "end_time": "2025-02-18T06:26:26.866021Z",
     "start_time": "2025-02-18T06:26:26.599822Z"
    }
   },
   "cell_type": "code",
   "source": [
    "Creat_statement=\"\"\"\n",
    "CREATE INDEX FOR (d:Document) ON (d.id);\n",
    "CREATE INDEX FOR (t:TextUnit) ON (t.id);\n",
    "CREATE INDEX FOR (e:Entity) ON (e.id);\n",
    "CREATE INDEX FOR (r:Relationship) ON (r.id);\n",
    "CREATE INDEX FOR (n:Node) ON (n.id);\n",
    "CREATE INDEX FOR (c:Community) ON (c.id);\n",
    "CREATE INDEX FOR (cr:CommunityReport) ON (cr.id);\n",
    "\"\"\"\n",
    "\n",
    "\n",
    "for i in Creat_statement.split(\";\")[:-1]:\n",
    "    print(i)\n",
    "    driver.execute_query(i, database_=NEO4J_DATABASE)\n"
   ],
   "id": "2f9a0175f7c87229",
   "outputs": [
    {
     "name": "stdout",
     "output_type": "stream",
     "text": [
      "\n",
      "CREATE INDEX FOR (d:Document) ON (d.id)\n"
     ]
    },
    {
     "ename": "ClientError",
     "evalue": "{code: Neo.ClientError.Schema.EquivalentSchemaRuleAlreadyExists} {message: An equivalent index already exists, 'Index( id=2, name='index_a0750792', type='RANGE', schema=(:Document {id}), indexProvider='range-1.0' )'.}",
     "output_type": "error",
     "traceback": [
      "\u001B[1;31m---------------------------------------------------------------------------\u001B[0m",
      "\u001B[1;31mClientError\u001B[0m                               Traceback (most recent call last)",
      "Cell \u001B[1;32mIn[46], line 14\u001B[0m\n\u001B[0;32m     12\u001B[0m \u001B[38;5;28;01mfor\u001B[39;00m i \u001B[38;5;129;01min\u001B[39;00m Creat_statement\u001B[38;5;241m.\u001B[39msplit(\u001B[38;5;124m\"\u001B[39m\u001B[38;5;124m;\u001B[39m\u001B[38;5;124m\"\u001B[39m):\n\u001B[0;32m     13\u001B[0m     \u001B[38;5;28mprint\u001B[39m(i)\n\u001B[1;32m---> 14\u001B[0m     \u001B[43mdriver\u001B[49m\u001B[38;5;241;43m.\u001B[39;49m\u001B[43mexecute_query\u001B[49m\u001B[43m(\u001B[49m\u001B[43mi\u001B[49m\u001B[43m,\u001B[49m\u001B[43m \u001B[49m\u001B[43mdatabase_\u001B[49m\u001B[38;5;241;43m=\u001B[39;49m\u001B[43mNEO4J_DATABASE\u001B[49m\u001B[43m)\u001B[49m\n",
      "File \u001B[1;32mC:\\Anaconda3lenvs\\golf_v8\\lib\\site-packages\\neo4j\\_sync\\driver.py:969\u001B[0m, in \u001B[0;36mDriver.execute_query\u001B[1;34m(self, query_, parameters_, routing_, database_, impersonated_user_, bookmark_manager_, auth_, result_transformer_, **kwargs)\u001B[0m\n\u001B[0;32m    965\u001B[0m     \u001B[38;5;28;01mraise\u001B[39;00m \u001B[38;5;167;01mValueError\u001B[39;00m(\n\u001B[0;32m    966\u001B[0m         \u001B[38;5;124mf\u001B[39m\u001B[38;5;124m\"\u001B[39m\u001B[38;5;124mInvalid routing control value: \u001B[39m\u001B[38;5;132;01m{\u001B[39;00mrouting_\u001B[38;5;132;01m!r}\u001B[39;00m\u001B[38;5;124m\"\u001B[39m\n\u001B[0;32m    967\u001B[0m     )\n\u001B[0;32m    968\u001B[0m \u001B[38;5;28;01mwith\u001B[39;00m session\u001B[38;5;241m.\u001B[39m_pipelined_begin:\n\u001B[1;32m--> 969\u001B[0m     \u001B[38;5;28;01mreturn\u001B[39;00m \u001B[43msession\u001B[49m\u001B[38;5;241;43m.\u001B[39;49m\u001B[43m_run_transaction\u001B[49m\u001B[43m(\u001B[49m\n\u001B[0;32m    970\u001B[0m \u001B[43m        \u001B[49m\u001B[43maccess_mode\u001B[49m\u001B[43m,\u001B[49m\n\u001B[0;32m    971\u001B[0m \u001B[43m        \u001B[49m\u001B[43mTelemetryAPI\u001B[49m\u001B[38;5;241;43m.\u001B[39;49m\u001B[43mDRIVER\u001B[49m\u001B[43m,\u001B[49m\n\u001B[0;32m    972\u001B[0m \u001B[43m        \u001B[49m\u001B[43mwork\u001B[49m\u001B[43m,\u001B[49m\n\u001B[0;32m    973\u001B[0m \u001B[43m        \u001B[49m\u001B[43m(\u001B[49m\u001B[43mquery_str\u001B[49m\u001B[43m,\u001B[49m\u001B[43m \u001B[49m\u001B[43mparameters\u001B[49m\u001B[43m,\u001B[49m\u001B[43m \u001B[49m\u001B[43mresult_transformer_\u001B[49m\u001B[43m)\u001B[49m\u001B[43m,\u001B[49m\n\u001B[0;32m    974\u001B[0m \u001B[43m        \u001B[49m\u001B[43m{\u001B[49m\u001B[43m}\u001B[49m\u001B[43m,\u001B[49m\n\u001B[0;32m    975\u001B[0m \u001B[43m    \u001B[49m\u001B[43m)\u001B[49m\n",
      "File \u001B[1;32mC:\\Anaconda3lenvs\\golf_v8\\lib\\site-packages\\neo4j\\_sync\\work\\session.py:581\u001B[0m, in \u001B[0;36mSession._run_transaction\u001B[1;34m(self, access_mode, api, transaction_function, args, kwargs)\u001B[0m\n\u001B[0;32m    579\u001B[0m tx \u001B[38;5;241m=\u001B[39m \u001B[38;5;28mself\u001B[39m\u001B[38;5;241m.\u001B[39m_transaction\n\u001B[0;32m    580\u001B[0m \u001B[38;5;28;01mtry\u001B[39;00m:\n\u001B[1;32m--> 581\u001B[0m     result \u001B[38;5;241m=\u001B[39m transaction_function(tx, \u001B[38;5;241m*\u001B[39margs, \u001B[38;5;241m*\u001B[39m\u001B[38;5;241m*\u001B[39mkwargs)\n\u001B[0;32m    582\u001B[0m \u001B[38;5;28;01mexcept\u001B[39;00m asyncio\u001B[38;5;241m.\u001B[39mCancelledError:\n\u001B[0;32m    583\u001B[0m     \u001B[38;5;66;03m# if cancellation callback has not been called yet:\u001B[39;00m\n\u001B[0;32m    584\u001B[0m     \u001B[38;5;28;01mif\u001B[39;00m \u001B[38;5;28mself\u001B[39m\u001B[38;5;241m.\u001B[39m_transaction \u001B[38;5;129;01mis\u001B[39;00m \u001B[38;5;129;01mnot\u001B[39;00m \u001B[38;5;28;01mNone\u001B[39;00m:\n",
      "File \u001B[1;32mC:\\Anaconda3lenvs\\golf_v8\\lib\\site-packages\\neo4j\\_sync\\driver.py:1305\u001B[0m, in \u001B[0;36m_work\u001B[1;34m(tx, query, parameters, transformer)\u001B[0m\n\u001B[0;32m   1299\u001B[0m \u001B[38;5;28;01mdef\u001B[39;00m \u001B[38;5;21m_work\u001B[39m(\n\u001B[0;32m   1300\u001B[0m     tx: ManagedTransaction,\n\u001B[0;32m   1301\u001B[0m     query: te\u001B[38;5;241m.\u001B[39mLiteralString,\n\u001B[0;32m   1302\u001B[0m     parameters: \u001B[38;5;28mdict\u001B[39m[\u001B[38;5;28mstr\u001B[39m, t\u001B[38;5;241m.\u001B[39mAny],\n\u001B[0;32m   1303\u001B[0m     transformer: t\u001B[38;5;241m.\u001B[39mCallable[[Result], t\u001B[38;5;241m.\u001B[39mUnion[_T]],\n\u001B[0;32m   1304\u001B[0m ) \u001B[38;5;241m-\u001B[39m\u001B[38;5;241m>\u001B[39m _T:\n\u001B[1;32m-> 1305\u001B[0m     res \u001B[38;5;241m=\u001B[39m \u001B[43mtx\u001B[49m\u001B[38;5;241;43m.\u001B[39;49m\u001B[43mrun\u001B[49m\u001B[43m(\u001B[49m\u001B[43mquery\u001B[49m\u001B[43m,\u001B[49m\u001B[43m \u001B[49m\u001B[43mparameters\u001B[49m\u001B[43m)\u001B[49m\n\u001B[0;32m   1306\u001B[0m     \u001B[38;5;28;01mreturn\u001B[39;00m transformer(res)\n",
      "File \u001B[1;32mC:\\Anaconda3lenvs\\golf_v8\\lib\\site-packages\\neo4j\\_sync\\work\\transaction.py:195\u001B[0m, in \u001B[0;36mTransactionBase.run\u001B[1;34m(self, query, parameters, **kwparameters)\u001B[0m\n\u001B[0;32m    192\u001B[0m \u001B[38;5;28mself\u001B[39m\u001B[38;5;241m.\u001B[39m_results\u001B[38;5;241m.\u001B[39mappend(result)\n\u001B[0;32m    194\u001B[0m parameters \u001B[38;5;241m=\u001B[39m \u001B[38;5;28mdict\u001B[39m(parameters \u001B[38;5;129;01mor\u001B[39;00m {}, \u001B[38;5;241m*\u001B[39m\u001B[38;5;241m*\u001B[39mkwparameters)\n\u001B[1;32m--> 195\u001B[0m \u001B[43mresult\u001B[49m\u001B[38;5;241;43m.\u001B[39;49m\u001B[43m_tx_ready_run\u001B[49m\u001B[43m(\u001B[49m\u001B[43mquery\u001B[49m\u001B[43m,\u001B[49m\u001B[43m \u001B[49m\u001B[43mparameters\u001B[49m\u001B[43m)\u001B[49m\n\u001B[0;32m    197\u001B[0m \u001B[38;5;28;01mreturn\u001B[39;00m result\n",
      "File \u001B[1;32mC:\\Anaconda3lenvs\\golf_v8\\lib\\site-packages\\neo4j\\_sync\\work\\result.py:175\u001B[0m, in \u001B[0;36mResult._tx_ready_run\u001B[1;34m(self, query, parameters)\u001B[0m\n\u001B[0;32m    171\u001B[0m \u001B[38;5;28;01mdef\u001B[39;00m \u001B[38;5;21m_tx_ready_run\u001B[39m(\u001B[38;5;28mself\u001B[39m, query, parameters):\n\u001B[0;32m    172\u001B[0m     \u001B[38;5;66;03m# BEGIN+RUN does not carry any extra on the RUN message.\u001B[39;00m\n\u001B[0;32m    173\u001B[0m     \u001B[38;5;66;03m# BEGIN {extra}\u001B[39;00m\n\u001B[0;32m    174\u001B[0m     \u001B[38;5;66;03m# RUN \"query\" {parameters} {extra}\u001B[39;00m\n\u001B[1;32m--> 175\u001B[0m     \u001B[38;5;28;43mself\u001B[39;49m\u001B[38;5;241;43m.\u001B[39;49m\u001B[43m_run\u001B[49m\u001B[43m(\u001B[49m\u001B[43mquery\u001B[49m\u001B[43m,\u001B[49m\u001B[43m \u001B[49m\u001B[43mparameters\u001B[49m\u001B[43m,\u001B[49m\u001B[43m \u001B[49m\u001B[38;5;28;43;01mNone\u001B[39;49;00m\u001B[43m,\u001B[49m\u001B[43m \u001B[49m\u001B[38;5;28;43;01mNone\u001B[39;49;00m\u001B[43m,\u001B[49m\u001B[43m \u001B[49m\u001B[38;5;28;43;01mNone\u001B[39;49;00m\u001B[43m,\u001B[49m\u001B[43m \u001B[49m\u001B[38;5;28;43;01mNone\u001B[39;49;00m\u001B[43m,\u001B[49m\u001B[43m \u001B[49m\u001B[38;5;28;43;01mNone\u001B[39;49;00m\u001B[43m,\u001B[49m\u001B[43m \u001B[49m\u001B[38;5;28;43;01mNone\u001B[39;49;00m\u001B[43m)\u001B[49m\n",
      "File \u001B[1;32mC:\\Anaconda3lenvs\\golf_v8\\lib\\site-packages\\neo4j\\_sync\\work\\result.py:231\u001B[0m, in \u001B[0;36mResult._run\u001B[1;34m(self, query, parameters, db, imp_user, access_mode, bookmarks, notifications_min_severity, notifications_disabled_classifications)\u001B[0m\n\u001B[0;32m    229\u001B[0m \u001B[38;5;28mself\u001B[39m\u001B[38;5;241m.\u001B[39m_pull()\n\u001B[0;32m    230\u001B[0m \u001B[38;5;28mself\u001B[39m\u001B[38;5;241m.\u001B[39m_connection\u001B[38;5;241m.\u001B[39msend_all()\n\u001B[1;32m--> 231\u001B[0m \u001B[38;5;28;43mself\u001B[39;49m\u001B[38;5;241;43m.\u001B[39;49m\u001B[43m_attach\u001B[49m\u001B[43m(\u001B[49m\u001B[43m)\u001B[49m\n",
      "File \u001B[1;32mC:\\Anaconda3lenvs\\golf_v8\\lib\\site-packages\\neo4j\\_sync\\work\\result.py:425\u001B[0m, in \u001B[0;36mResult._attach\u001B[1;34m(self)\u001B[0m\n\u001B[0;32m    423\u001B[0m \u001B[38;5;28;01mif\u001B[39;00m \u001B[38;5;28mself\u001B[39m\u001B[38;5;241m.\u001B[39m_exhausted \u001B[38;5;129;01mis\u001B[39;00m \u001B[38;5;28;01mFalse\u001B[39;00m:\n\u001B[0;32m    424\u001B[0m     \u001B[38;5;28;01mwhile\u001B[39;00m \u001B[38;5;28mself\u001B[39m\u001B[38;5;241m.\u001B[39m_attached \u001B[38;5;129;01mis\u001B[39;00m \u001B[38;5;28;01mFalse\u001B[39;00m:\n\u001B[1;32m--> 425\u001B[0m         \u001B[38;5;28;43mself\u001B[39;49m\u001B[38;5;241;43m.\u001B[39;49m\u001B[43m_connection\u001B[49m\u001B[38;5;241;43m.\u001B[39;49m\u001B[43mfetch_message\u001B[49m\u001B[43m(\u001B[49m\u001B[43m)\u001B[49m\n",
      "File \u001B[1;32mC:\\Anaconda3lenvs\\golf_v8\\lib\\site-packages\\neo4j\\_sync\\io\\_common.py:184\u001B[0m, in \u001B[0;36mConnectionErrorHandler.__getattr__.<locals>.outer.<locals>.inner\u001B[1;34m(*args, **kwargs)\u001B[0m\n\u001B[0;32m    182\u001B[0m \u001B[38;5;28;01mdef\u001B[39;00m \u001B[38;5;21minner\u001B[39m(\u001B[38;5;241m*\u001B[39margs, \u001B[38;5;241m*\u001B[39m\u001B[38;5;241m*\u001B[39mkwargs):\n\u001B[0;32m    183\u001B[0m     \u001B[38;5;28;01mtry\u001B[39;00m:\n\u001B[1;32m--> 184\u001B[0m         func(\u001B[38;5;241m*\u001B[39margs, \u001B[38;5;241m*\u001B[39m\u001B[38;5;241m*\u001B[39mkwargs)\n\u001B[0;32m    185\u001B[0m     \u001B[38;5;28;01mexcept\u001B[39;00m (Neo4jError, ServiceUnavailable, SessionExpired) \u001B[38;5;28;01mas\u001B[39;00m exc:\n\u001B[0;32m    186\u001B[0m         \u001B[38;5;28;01massert\u001B[39;00m \u001B[38;5;129;01mnot\u001B[39;00m asyncio\u001B[38;5;241m.\u001B[39miscoroutinefunction(\u001B[38;5;28mself\u001B[39m\u001B[38;5;241m.\u001B[39m__on_error)\n",
      "File \u001B[1;32mC:\\Anaconda3lenvs\\golf_v8\\lib\\site-packages\\neo4j\\_sync\\io\\_bolt.py:994\u001B[0m, in \u001B[0;36mBolt.fetch_message\u001B[1;34m(self)\u001B[0m\n\u001B[0;32m    990\u001B[0m \u001B[38;5;66;03m# Receive exactly one message\u001B[39;00m\n\u001B[0;32m    991\u001B[0m tag, fields \u001B[38;5;241m=\u001B[39m \u001B[38;5;28mself\u001B[39m\u001B[38;5;241m.\u001B[39minbox\u001B[38;5;241m.\u001B[39mpop(\n\u001B[0;32m    992\u001B[0m     hydration_hooks\u001B[38;5;241m=\u001B[39m\u001B[38;5;28mself\u001B[39m\u001B[38;5;241m.\u001B[39mresponses[\u001B[38;5;241m0\u001B[39m]\u001B[38;5;241m.\u001B[39mhydration_hooks\n\u001B[0;32m    993\u001B[0m )\n\u001B[1;32m--> 994\u001B[0m res \u001B[38;5;241m=\u001B[39m \u001B[38;5;28;43mself\u001B[39;49m\u001B[38;5;241;43m.\u001B[39;49m\u001B[43m_process_message\u001B[49m\u001B[43m(\u001B[49m\u001B[43mtag\u001B[49m\u001B[43m,\u001B[49m\u001B[43m \u001B[49m\u001B[43mfields\u001B[49m\u001B[43m)\u001B[49m\n\u001B[0;32m    995\u001B[0m \u001B[38;5;28mself\u001B[39m\u001B[38;5;241m.\u001B[39midle_since \u001B[38;5;241m=\u001B[39m monotonic()\n\u001B[0;32m    996\u001B[0m \u001B[38;5;28;01mreturn\u001B[39;00m res\n",
      "File \u001B[1;32mC:\\Anaconda3lenvs\\golf_v8\\lib\\site-packages\\neo4j\\_sync\\io\\_bolt5.py:1204\u001B[0m, in \u001B[0;36mBolt5x7._process_message\u001B[1;34m(self, tag, fields)\u001B[0m\n\u001B[0;32m   1202\u001B[0m \u001B[38;5;28mself\u001B[39m\u001B[38;5;241m.\u001B[39m_enrich_error_diagnostic_record(summary_metadata)\n\u001B[0;32m   1203\u001B[0m \u001B[38;5;28;01mtry\u001B[39;00m:\n\u001B[1;32m-> 1204\u001B[0m     \u001B[43mresponse\u001B[49m\u001B[38;5;241;43m.\u001B[39;49m\u001B[43mon_failure\u001B[49m\u001B[43m(\u001B[49m\u001B[43msummary_metadata\u001B[49m\u001B[43m \u001B[49m\u001B[38;5;129;43;01mor\u001B[39;49;00m\u001B[43m \u001B[49m\u001B[43m{\u001B[49m\u001B[43m}\u001B[49m\u001B[43m)\u001B[49m\n\u001B[0;32m   1205\u001B[0m \u001B[38;5;28;01mexcept\u001B[39;00m (ServiceUnavailable, DatabaseUnavailable):\n\u001B[0;32m   1206\u001B[0m     \u001B[38;5;28;01mif\u001B[39;00m \u001B[38;5;28mself\u001B[39m\u001B[38;5;241m.\u001B[39mpool:\n",
      "File \u001B[1;32mC:\\Anaconda3lenvs\\golf_v8\\lib\\site-packages\\neo4j\\_sync\\io\\_common.py:254\u001B[0m, in \u001B[0;36mResponse.on_failure\u001B[1;34m(self, metadata)\u001B[0m\n\u001B[0;32m    252\u001B[0m handler \u001B[38;5;241m=\u001B[39m \u001B[38;5;28mself\u001B[39m\u001B[38;5;241m.\u001B[39mhandlers\u001B[38;5;241m.\u001B[39mget(\u001B[38;5;124m\"\u001B[39m\u001B[38;5;124mon_summary\u001B[39m\u001B[38;5;124m\"\u001B[39m)\n\u001B[0;32m    253\u001B[0m Util\u001B[38;5;241m.\u001B[39mcallback(handler)\n\u001B[1;32m--> 254\u001B[0m \u001B[38;5;28;01mraise\u001B[39;00m \u001B[38;5;28mself\u001B[39m\u001B[38;5;241m.\u001B[39m_hydrate_error(metadata)\n",
      "\u001B[1;31mClientError\u001B[0m: {code: Neo.ClientError.Schema.EquivalentSchemaRuleAlreadyExists} {message: An equivalent index already exists, 'Index( id=2, name='index_a0750792', type='RANGE', schema=(:Document {id}), indexProvider='range-1.0' )'.}"
     ]
    }
   ],
   "execution_count": 46
  },
  {
   "metadata": {
    "ExecuteTime": {
     "end_time": "2025-02-18T07:11:58.967312Z",
     "start_time": "2025-02-18T07:11:58.744714Z"
    }
   },
   "cell_type": "code",
   "source": [
    "driver.execute_query(\"\"\"MATCH (d:Document)\n",
    "UNWIND split(d.text_unit_ids, ',') AS textUnitId\n",
    "MATCH (t:TextUnit {id: trim(textUnitId)})\n",
    "CREATE (d)-[:HAS_TEXT_UNIT]->(t);\n",
    "\n",
    "\"\"\", database_=NEO4J_DATABASE)"
   ],
   "id": "e68b79fd4c22d65",
   "outputs": [
    {
     "data": {
      "text/plain": [
       "EagerResult(records=[], summary=<neo4j._work.summary.ResultSummary object at 0x000002D335DC7B80>, keys=[])"
      ]
     },
     "execution_count": 76,
     "metadata": {},
     "output_type": "execute_result"
    }
   ],
   "execution_count": 76
  },
  {
   "metadata": {
    "ExecuteTime": {
     "end_time": "2025-02-18T07:07:47.728660Z",
     "start_time": "2025-02-18T07:07:47.509091Z"
    }
   },
   "cell_type": "code",
   "source": [
    "driver.execute_query(\"\"\"MATCH (t:TextUnit)\n",
    "UNWIND split(t.document_ids, ',') AS docId\n",
    "MATCH (d:Document {id: trim(docId)})\n",
    "CREATE (t)-[:BELONGS_TO]->(d);\n",
    "\n",
    "\"\"\", database_=NEO4J_DATABASE)"
   ],
   "id": "489c32789c9ca63f",
   "outputs": [
    {
     "data": {
      "text/plain": [
       "EagerResult(records=[], summary=<neo4j._work.summary.ResultSummary object at 0x000002D335C37490>, keys=[])"
      ]
     },
     "execution_count": 70,
     "metadata": {},
     "output_type": "execute_result"
    }
   ],
   "execution_count": 70
  },
  {
   "metadata": {
    "ExecuteTime": {
     "end_time": "2025-02-18T07:10:24.196391Z",
     "start_time": "2025-02-18T07:10:23.545580Z"
    }
   },
   "cell_type": "code",
   "source": [
    "Match_statement=\"\"\"\n",
    "MATCH (d:Document)\n",
    "UNWIND split(d.text_unit_ids, ',') AS textUnitId\n",
    "MATCH (t:TextUnit {id: trim(textUnitId)})\n",
    "CREATE (d)-[:HAS_TEXT_UNIT]->(t);\n",
    "MATCH (t:TextUnit)\n",
    "UNWIND split(t.entity_ids, ',') AS entityId\n",
    "MATCH (e:Entity {id: trim(entityId)})\n",
    "CREATE (t)-[:HAS_ENTITY]->(e);\n",
    "MATCH (t:TextUnit)\n",
    "UNWIND split(t.relationship_ids, ',') AS relId\n",
    "MATCH (r:Relationship {id: trim(relId)})\n",
    "CREATE (t)-[:HAS_RELATIONSHIP]->(r);\n",
    "MATCH (r:Relationship)\n",
    "MATCH (source:Entity {name: r.source})\n",
    "MATCH (target:Entity {name: r.target})\n",
    "CREATE (source)-[:RELATES_TO]->(target);\n",
    "MATCH (cr:CommunityReport)\n",
    "MATCH (c:Community {id: cr.community})\n",
    "CREATE (cr)-[:REPORTS_ON]->(c);\n",
    "\"\"\"\n",
    "for i in Match_statement.split(\";\")[:-1]:\n",
    "    print(i)\n",
    "    print(\"---\")\n",
    "    driver.execute_query(i, database_=NEO4J_DATABASE)\n"
   ],
   "id": "d9537918a20460fb",
   "outputs": [
    {
     "name": "stdout",
     "output_type": "stream",
     "text": [
      "\n",
      "MATCH (d:Document)\n",
      "UNWIND split(d.text_unit_ids, ',') AS textUnitId\n",
      "MATCH (t:TextUnit {id: trim(textUnitId)})\n",
      "CREATE (d)-[:HAS_TEXT_UNIT]->(t)\n",
      "---\n",
      "\n",
      "MATCH (t:TextUnit)\n",
      "UNWIND split(t.entity_ids, ',') AS entityId\n",
      "MATCH (e:Entity {id: trim(entityId)})\n",
      "CREATE (t)-[:HAS_ENTITY]->(e)\n",
      "---\n",
      "\n",
      "MATCH (t:TextUnit)\n",
      "UNWIND split(t.relationship_ids, ',') AS relId\n",
      "MATCH (r:Relationship {id: trim(relId)})\n",
      "CREATE (t)-[:HAS_RELATIONSHIP]->(r)\n",
      "---\n",
      "\n",
      "MATCH (r:Relationship)\n",
      "MATCH (source:Entity {name: r.source})\n",
      "MATCH (target:Entity {name: r.target})\n",
      "CREATE (source)-[:RELATES_TO]->(target)\n",
      "---\n",
      "\n",
      "MATCH (cr:CommunityReport)\n",
      "MATCH (c:Community {id: cr.community})\n",
      "CREATE (cr)-[:REPORTS_ON]->(c)\n",
      "---\n"
     ]
    }
   ],
   "execution_count": 75
  },
  {
   "metadata": {},
   "cell_type": "code",
   "outputs": [],
   "execution_count": null,
   "source": "",
   "id": "143529aedc908652"
  }
 ],
 "metadata": {
  "kernelspec": {
   "display_name": "Python 3",
   "language": "python",
   "name": "python3"
  },
  "language_info": {
   "codemirror_mode": {
    "name": "ipython",
    "version": 2
   },
   "file_extension": ".py",
   "mimetype": "text/x-python",
   "name": "python",
   "nbconvert_exporter": "python",
   "pygments_lexer": "ipython2",
   "version": "2.7.6"
  }
 },
 "nbformat": 4,
 "nbformat_minor": 5
}
