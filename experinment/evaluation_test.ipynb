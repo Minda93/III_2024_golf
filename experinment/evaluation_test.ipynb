{
 "cells": [
  {
   "metadata": {
    "ExecuteTime": {
     "end_time": "2025-02-25T07:44:40.932164Z",
     "start_time": "2025-02-25T07:44:40.916273Z"
    }
   },
   "cell_type": "code",
   "source": [
    "import os\n",
    "import pandas as pd\n",
    "from dotenv import load_dotenv\n",
    "from ragas import evaluate\n",
    "import base64\n"
   ],
   "id": "f0139bb0c7c269ae",
   "outputs": [],
   "execution_count": 9
  },
  {
   "cell_type": "code",
   "id": "initial_id",
   "metadata": {
    "collapsed": true,
    "ExecuteTime": {
     "end_time": "2025-02-25T07:07:46.688567Z",
     "start_time": "2025-02-25T07:07:46.664208Z"
    }
   },
   "source": "load_dotenv()",
   "outputs": [
    {
     "data": {
      "text/plain": [
       "True"
      ]
     },
     "execution_count": 4,
     "metadata": {},
     "output_type": "execute_result"
    }
   ],
   "execution_count": 4
  },
  {
   "metadata": {
    "ExecuteTime": {
     "end_time": "2025-02-25T11:20:35.936940Z",
     "start_time": "2025-02-25T11:20:35.917063Z"
    }
   },
   "cell_type": "code",
   "source": [
    "Rag_result = open('C:\\Code\\III_2024_golf\\data\\Rag_Eval_data.csv', 'r').read()\n",
    "Rag_result_df = pd.read_csv('C:\\Code\\III_2024_golf\\data\\Rag_Eval_data.csv')\n",
    "Rag_questions_df = pd.read_csv('C:\\Code\\III_2024_golf\\data\\Rag_question_Input.csv')\n",
    "Rag_questions_df"
   ],
   "id": "b78ec58f14f73761",
   "outputs": [
    {
     "data": {
      "text/plain": [
       "      num                                              Input  \\\n",
       "0  186382  Pull Hook 左拉左曲球\\n球速:66.43、發射角度:7.198、發射方向:-6.1...   \n",
       "1  186387  Fade 小右曲球\\n球速:70.33、發射角度:9.56、發射方向:1.486、飛行距離:...   \n",
       "2  186410  Push Slice 右拉右曲球\\n球速:61.868、發射角度:17.004、發射方向:1...   \n",
       "3  186416  Pull Hook 左拉左曲球\\n球速:88.875、發射角度:7.848、發射方向:-7....   \n",
       "4  189514  Push Slice 右拉右曲球\\n球速:100.069、發射角度:17.951、發射方向:...   \n",
       "5  199353  Push Slice 右拉右曲球\\n球速:72.111、發射角度:12.173、發射方向:6...   \n",
       "\n",
       "                                         GroundTruth  \n",
       "0                           P4 頂點/轉換\\n肩膀往右轉動\\n桿頭頂點過高  \n",
       "1                        P4 頂點/轉換\\n優秀的觸球！\\n觸球時桿面角度方正  \n",
       "2  P2~3 上桿\\n上桿(P2~3)時，左手腕維持固定，腰部減少轉動\\n上桿(P2~3)時，角...  \n",
       "3  P7 Impact 擊球\\n擊球時，左手腕應恢復成未彎曲的狀態，及注意擊球點位置\\n桿面關閉...  \n",
       "4  P7 Impact 擊球\\n擊球時，左手腕維持固定，注意擊球點位置，置球點到擊球落點的距離達...  \n",
       "5  P5~6 下桿\\n下桿時，手腕及肩膀往左轉動，腰部減少旋轉\\n下桿角度過於平緩，左手腕過度外...  "
      ],
      "text/html": [
       "<div>\n",
       "<style scoped>\n",
       "    .dataframe tbody tr th:only-of-type {\n",
       "        vertical-align: middle;\n",
       "    }\n",
       "\n",
       "    .dataframe tbody tr th {\n",
       "        vertical-align: top;\n",
       "    }\n",
       "\n",
       "    .dataframe thead th {\n",
       "        text-align: right;\n",
       "    }\n",
       "</style>\n",
       "<table border=\"1\" class=\"dataframe\">\n",
       "  <thead>\n",
       "    <tr style=\"text-align: right;\">\n",
       "      <th></th>\n",
       "      <th>num</th>\n",
       "      <th>Input</th>\n",
       "      <th>GroundTruth</th>\n",
       "    </tr>\n",
       "  </thead>\n",
       "  <tbody>\n",
       "    <tr>\n",
       "      <th>0</th>\n",
       "      <td>186382</td>\n",
       "      <td>Pull Hook 左拉左曲球\\n球速:66.43、發射角度:7.198、發射方向:-6.1...</td>\n",
       "      <td>P4 頂點/轉換\\n肩膀往右轉動\\n桿頭頂點過高</td>\n",
       "    </tr>\n",
       "    <tr>\n",
       "      <th>1</th>\n",
       "      <td>186387</td>\n",
       "      <td>Fade 小右曲球\\n球速:70.33、發射角度:9.56、發射方向:1.486、飛行距離:...</td>\n",
       "      <td>P4 頂點/轉換\\n優秀的觸球！\\n觸球時桿面角度方正</td>\n",
       "    </tr>\n",
       "    <tr>\n",
       "      <th>2</th>\n",
       "      <td>186410</td>\n",
       "      <td>Push Slice 右拉右曲球\\n球速:61.868、發射角度:17.004、發射方向:1...</td>\n",
       "      <td>P2~3 上桿\\n上桿(P2~3)時，左手腕維持固定，腰部減少轉動\\n上桿(P2~3)時，角...</td>\n",
       "    </tr>\n",
       "    <tr>\n",
       "      <th>3</th>\n",
       "      <td>186416</td>\n",
       "      <td>Pull Hook 左拉左曲球\\n球速:88.875、發射角度:7.848、發射方向:-7....</td>\n",
       "      <td>P7 Impact 擊球\\n擊球時，左手腕應恢復成未彎曲的狀態，及注意擊球點位置\\n桿面關閉...</td>\n",
       "    </tr>\n",
       "    <tr>\n",
       "      <th>4</th>\n",
       "      <td>189514</td>\n",
       "      <td>Push Slice 右拉右曲球\\n球速:100.069、發射角度:17.951、發射方向:...</td>\n",
       "      <td>P7 Impact 擊球\\n擊球時，左手腕維持固定，注意擊球點位置，置球點到擊球落點的距離達...</td>\n",
       "    </tr>\n",
       "    <tr>\n",
       "      <th>5</th>\n",
       "      <td>199353</td>\n",
       "      <td>Push Slice 右拉右曲球\\n球速:72.111、發射角度:12.173、發射方向:6...</td>\n",
       "      <td>P5~6 下桿\\n下桿時，手腕及肩膀往左轉動，腰部減少旋轉\\n下桿角度過於平緩，左手腕過度外...</td>\n",
       "    </tr>\n",
       "  </tbody>\n",
       "</table>\n",
       "</div>"
      ]
     },
     "execution_count": 35,
     "metadata": {},
     "output_type": "execute_result"
    }
   ],
   "execution_count": 35
  },
  {
   "metadata": {
    "ExecuteTime": {
     "end_time": "2025-02-25T07:44:49.132573Z",
     "start_time": "2025-02-25T07:44:49.116939Z"
    }
   },
   "cell_type": "code",
   "outputs": [],
   "execution_count": 11,
   "source": [
    "def encode_image(image_path):\n",
    "    with open(image_path, \"rb\") as image_file:\n",
    "        return base64.b64encode(image_file.read()).decode(\"utf-8\")"
   ],
   "id": "b2221942ec7acc93"
  },
  {
   "metadata": {
    "ExecuteTime": {
     "end_time": "2025-02-25T11:27:43.271881Z",
     "start_time": "2025-02-25T11:27:43.265660Z"
    }
   },
   "cell_type": "code",
   "source": [
    "#移除所有answers中括弧內的文字\n",
    "def remove_brackets(text):\n",
    "    while text.find('[') != -1:\n",
    "        start = text.find('[')\n",
    "        end = text.find(']')\n",
    "        text = text[:start] + text[end+1:]\n",
    "    return text"
   ],
   "id": "a336dc5481059c32",
   "outputs": [],
   "execution_count": 61
  },
  {
   "metadata": {
    "ExecuteTime": {
     "end_time": "2025-02-25T11:28:22.287984Z",
     "start_time": "2025-02-25T11:28:22.254321Z"
    }
   },
   "cell_type": "code",
   "source": [
    "from datasets import Dataset\n",
    "\n",
    "questions = Rag_questions_df['Input'].tolist()\n",
    "ground_truths = Rag_questions_df['GroundTruth'].tolist()\n",
    "answers_NoRAG = Rag_result_df['NoRAG'].tolist()\n",
    "answers_SimpleRAG = Rag_result_df['SimpleRAG'].tolist()\n",
    "answers_GraphRAG = Rag_result_df['GraphRAG'].tolist()\n",
    "awswer_HybridRAG = Rag_result_df['HybridRAG'].tolist()\n",
    "\n",
    "for i,text in enumerate(answers_GraphRAG):\n",
    "    answers_GraphRAG[i] = remove_brackets(text)\n",
    "for i,text in enumerate(awswer_HybridRAG):\n",
    "    awswer_HybridRAG[i] = remove_brackets(text)\n",
    "\n",
    "dataset_NoRAG = Dataset.from_dict({\n",
    "    \"question\": questions,\n",
    "    \"answer\": answers_NoRAG,\n",
    "    \"ground_truths\": ground_truths\n",
    "})\n",
    "\n",
    "dataset_SimpleRAG = Dataset.from_dict({\n",
    "    \"question\": questions,\n",
    "    \"answer\": answers_SimpleRAG,\n",
    "    \"ground_truths\": ground_truths\n",
    "})\n",
    "dataset_GraphRAG = Dataset.from_dict({\n",
    "    \"question\": questions,\n",
    "    \"answer\": answers_GraphRAG,\n",
    "    \"ground_truths\": ground_truths\n",
    "})\n",
    "dataset_HybridRAG = Dataset.from_dict({\n",
    "    \"question\": questions,\n",
    "    \"answer\": awswer_HybridRAG,\n",
    "    \"ground_truths\": ground_truths\n",
    "})\n"
   ],
   "id": "bb191ba275b936fa",
   "outputs": [],
   "execution_count": 64
  },
  {
   "metadata": {
    "ExecuteTime": {
     "end_time": "2025-02-25T11:28:24.559045Z",
     "start_time": "2025-02-25T11:28:24.533662Z"
    }
   },
   "cell_type": "code",
   "source": "answers_GraphRAG[0]",
   "id": "cdd8d398eac66dda",
   "outputs": [
    {
     "data": {
      "text/plain": [
       "'\\n    \"球路\": \"Pull Hook 左拉左曲球\",\\n    \"原因\": \"您的揮桿出現了Pull Hook（左拉左曲球），主要原因是您的上桿（P2~3）角度過於陡峭，導致桿頭在頂點位置過高，進而影響下桿階段（P5~6），使得下桿角度過於陡峭。此外，您的左手腕在P4頂點轉換時過度彎曲，導致桿面閉合，並且揮桿路徑過度由內向外，這些因素共同導致擊球時桿面關閉，進一步加劇了球的左旋曲線 。\",\\n    \"建議\": \"在我們全面的揮桿分析中，您的揮桿動作在P4頂點轉換時與標準動作有明顯的差異，您的左手腕過度彎曲，使得桿面過於閉合。因此，請在上桿至P3時，讓肩膀更自然地向右旋轉，減少桿頭上升過高的情況，以確保更平順的轉換 。\\\\n\\\\n同時，在下桿階段（P5~6），請專注於左手臂保持打直，讓左手腕維持固定，避免過度翻轉桿面，這將有助於減少擊球時的桿面閉合問題，提升擊球穩定性 。\\\\n\\\\n此外，您的下桿路徑過度由內向外，請嘗試在下桿時從臀部帶動揮桿，保持下半身與上半身的協調，避免過度使用手腕來調整球路。這樣的調整將有助於減少左飛和左曲的問題，使擊球更穩定 。\\\\n\\\\n透過這些技術調整，您的擊球將更精準，並有效降低左曲球的發生率 。\"\\n'"
      ]
     },
     "execution_count": 65,
     "metadata": {},
     "output_type": "execute_result"
    }
   ],
   "execution_count": 65
  },
  {
   "metadata": {},
   "cell_type": "markdown",
   "source": "# Evaluate the RAG model",
   "id": "7514f9e2d22d8fc8"
  },
  {
   "metadata": {
    "ExecuteTime": {
     "end_time": "2025-02-25T11:38:07.197490Z",
     "start_time": "2025-02-25T11:37:30.661540Z"
    }
   },
   "cell_type": "code",
   "source": [
    "from ragas import evaluate\n",
    "from ragas.metrics import (\n",
    "    faithfulness,\n",
    "    answer_relevancy,\n",
    "\n",
    ")\n",
    "\n",
    "output_df = pd.DataFrame()\n",
    "\n",
    "dataset_name = ['dataset_NoRAG', 'dataset_SimpleRAG', 'dataset_GraphRAG', 'dataset_HybridRAG']\n",
    "\n",
    "for i,dataset in enumerate([dataset_NoRAG, dataset_SimpleRAG, dataset_GraphRAG, dataset_HybridRAG]):\n",
    "    result = evaluate(\n",
    "        dataset = dataset, \n",
    "        metrics=[\n",
    "            answer_relevancy,\n",
    "        ],\n",
    "    ).to_pandas()\n",
    "    #change the column name\n",
    "    result.columns = [f'{dataset_name[i]}_{col}' for col in result.columns]\n",
    "    output_df = pd.concat([output_df, result], axis=1)\n",
    "output_df.to_csv('C:\\Code\\III_2024_golf\\data\\Rag_Eval_result.csv', index=False)\n"
   ],
   "id": "45efa83a02fd892e",
   "outputs": [
    {
     "name": "stderr",
     "output_type": "stream",
     "text": [
      "Evaluating: 100%|██████████| 6/6 [00:10<00:00,  1.73s/it]\n",
      "Evaluating: 100%|██████████| 6/6 [00:05<00:00,  1.02it/s]\n",
      "Evaluating: 100%|██████████| 6/6 [00:10<00:00,  1.76s/it]\n",
      "Evaluating: 100%|██████████| 6/6 [00:05<00:00,  1.01it/s]\n"
     ]
    }
   ],
   "execution_count": 77
  },
  {
   "metadata": {
    "ExecuteTime": {
     "end_time": "2025-02-25T11:38:11.664245Z",
     "start_time": "2025-02-25T11:38:11.638818Z"
    }
   },
   "cell_type": "code",
   "source": "output_df",
   "id": "5b602ae53841844",
   "outputs": [
    {
     "data": {
      "text/plain": [
       "                            dataset_NoRAG_user_input  \\\n",
       "0  Pull Hook 左拉左曲球\\n球速:66.43、發射角度:7.198、發射方向:-6.1...   \n",
       "1  Fade 小右曲球\\n球速:70.33、發射角度:9.56、發射方向:1.486、飛行距離:...   \n",
       "2  Push Slice 右拉右曲球\\n球速:61.868、發射角度:17.004、發射方向:1...   \n",
       "3  Pull Hook 左拉左曲球\\n球速:88.875、發射角度:7.848、發射方向:-7....   \n",
       "4  Push Slice 右拉右曲球\\n球速:100.069、發射角度:17.951、發射方向:...   \n",
       "5  Push Slice 右拉右曲球\\n球速:72.111、發射角度:12.173、發射方向:6...   \n",
       "\n",
       "                              dataset_NoRAG_response  \\\n",
       "0          \"球路\": \"Pull Hook 左拉左曲球\",\\n        \"原因\"...   \n",
       "1          \"球路\": \"Fade 小右曲球\",\\n         \"原因\": \"整體...   \n",
       "2          \"球路\": \"Push Slice 右拉右曲球\",\\n        \"原因...   \n",
       "3          \"球路\": \"Pull Hook 左拉左曲球\",\\n         \"原因...   \n",
       "4          \"球路\": \"Push Slice 右拉右曲球\",\\n         \"原...   \n",
       "5          \"球路\": \"Push Slice 右拉右曲球\",\\n        \"原因...   \n",
       "\n",
       "   dataset_NoRAG_answer_relevancy  \\\n",
       "0                        0.746644   \n",
       "1                        0.721654   \n",
       "2                        0.732604   \n",
       "3                        0.755183   \n",
       "4                        0.753686   \n",
       "5                        0.735840   \n",
       "\n",
       "                        dataset_SimpleRAG_user_input  \\\n",
       "0  Pull Hook 左拉左曲球\\n球速:66.43、發射角度:7.198、發射方向:-6.1...   \n",
       "1  Fade 小右曲球\\n球速:70.33、發射角度:9.56、發射方向:1.486、飛行距離:...   \n",
       "2  Push Slice 右拉右曲球\\n球速:61.868、發射角度:17.004、發射方向:1...   \n",
       "3  Pull Hook 左拉左曲球\\n球速:88.875、發射角度:7.848、發射方向:-7....   \n",
       "4  Push Slice 右拉右曲球\\n球速:100.069、發射角度:17.951、發射方向:...   \n",
       "5  Push Slice 右拉右曲球\\n球速:72.111、發射角度:12.173、發射方向:6...   \n",
       "\n",
       "                          dataset_SimpleRAG_response  \\\n",
       "0          \"球路\": \"Pull Hook 左拉左曲球\",\\n        \"原因\"...   \n",
       "1          \"球路\": \"Fade 小右曲球\",\\n        \"原因\": \"手腕角...   \n",
       "2      \"球路\": \"Push Slice 右拉右曲球\",\\n    \"原因\": \"P7擊球...   \n",
       "3          \"球路\": \"Pull Hook 左拉左曲球\",\\n        \"原因\"...   \n",
       "4          \"球路\": \"Push Slice右拉右曲球\",\\n        \"原因\"...   \n",
       "5    \"球路\": \"Push Slice 右拉右曲球\",\\n  \"原因\": \"P5~6下桿角度...   \n",
       "\n",
       "   dataset_SimpleRAG_answer_relevancy  \\\n",
       "0                            0.739472   \n",
       "1                            0.725226   \n",
       "2                            0.759734   \n",
       "3                            0.750884   \n",
       "4                            0.770707   \n",
       "5                            0.762893   \n",
       "\n",
       "                         dataset_GraphRAG_user_input  \\\n",
       "0  Pull Hook 左拉左曲球\\n球速:66.43、發射角度:7.198、發射方向:-6.1...   \n",
       "1  Fade 小右曲球\\n球速:70.33、發射角度:9.56、發射方向:1.486、飛行距離:...   \n",
       "2  Push Slice 右拉右曲球\\n球速:61.868、發射角度:17.004、發射方向:1...   \n",
       "3  Pull Hook 左拉左曲球\\n球速:88.875、發射角度:7.848、發射方向:-7....   \n",
       "4  Push Slice 右拉右曲球\\n球速:100.069、發射角度:17.951、發射方向:...   \n",
       "5  Push Slice 右拉右曲球\\n球速:72.111、發射角度:12.173、發射方向:6...   \n",
       "\n",
       "                           dataset_GraphRAG_response  \\\n",
       "0  \\n    \"球路\": \"Pull Hook 左拉左曲球\",\\n    \"原因\": \"您的揮...   \n",
       "1      \"球路\": \"Fade 小右曲球\",\\n    \"原因\": \"整體揮桿姿勢與教練相差...   \n",
       "2      \"球路\": \"Push Slice 右拉右曲球\",\\n    \"原因\": \"P5~6...   \n",
       "3      \"球路\": \"Pull Hook 左拉左曲球\",\\n    \"原因\": \"您的擊球呈...   \n",
       "4      \"球路\": \"Push Slice 右拉右曲球\",\\n    \"原因\": \"您的上桿...   \n",
       "5      \"球路\": \"Push Slice 右拉右曲球\",\\n    \"原因\": \"根據揮桿...   \n",
       "\n",
       "   dataset_GraphRAG_answer_relevancy  \\\n",
       "0                           0.754046   \n",
       "1                           0.733188   \n",
       "2                           0.695274   \n",
       "3                           0.749375   \n",
       "4                           0.760462   \n",
       "5                           0.729027   \n",
       "\n",
       "                        dataset_HybridRAG_user_input  \\\n",
       "0  Pull Hook 左拉左曲球\\n球速:66.43、發射角度:7.198、發射方向:-6.1...   \n",
       "1  Fade 小右曲球\\n球速:70.33、發射角度:9.56、發射方向:1.486、飛行距離:...   \n",
       "2  Push Slice 右拉右曲球\\n球速:61.868、發射角度:17.004、發射方向:1...   \n",
       "3  Pull Hook 左拉左曲球\\n球速:88.875、發射角度:7.848、發射方向:-7....   \n",
       "4  Push Slice 右拉右曲球\\n球速:100.069、發射角度:17.951、發射方向:...   \n",
       "5  Push Slice 右拉右曲球\\n球速:72.111、發射角度:12.173、發射方向:6...   \n",
       "\n",
       "                          dataset_HybridRAG_response  \\\n",
       "0      \"球路\": \"Pull Hook 左拉左曲球\",\\n    \"原因\": \"下桿角度過...   \n",
       "1      \"球路\": \"Fade 小右曲球\",\\n    \"原因\": \"手腕角度保持得很好，桿...   \n",
       "2      \"球路\": \"Push Slice 右拉右曲球\",\\n    \"原因\": \"P7擊球...   \n",
       "3      \"球路\": \"Pull Hook 左拉左曲球\",\\n    \"原因\": \"下桿時桿面...   \n",
       "4      \"球路\": \"Push Slice右拉右曲球\",\\n    \"原因\": \"P5~6下...   \n",
       "5    \"球路\": \"Push Slice 右拉右曲球\",\\n  \"原因\": \"P5~6下桿角度...   \n",
       "\n",
       "   dataset_HybridRAG_answer_relevancy  \n",
       "0                            0.746439  \n",
       "1                            0.742562  \n",
       "2                            0.753224  \n",
       "3                            0.746114  \n",
       "4                            0.767070  \n",
       "5                            0.755902  "
      ],
      "text/html": [
       "<div>\n",
       "<style scoped>\n",
       "    .dataframe tbody tr th:only-of-type {\n",
       "        vertical-align: middle;\n",
       "    }\n",
       "\n",
       "    .dataframe tbody tr th {\n",
       "        vertical-align: top;\n",
       "    }\n",
       "\n",
       "    .dataframe thead th {\n",
       "        text-align: right;\n",
       "    }\n",
       "</style>\n",
       "<table border=\"1\" class=\"dataframe\">\n",
       "  <thead>\n",
       "    <tr style=\"text-align: right;\">\n",
       "      <th></th>\n",
       "      <th>dataset_NoRAG_user_input</th>\n",
       "      <th>dataset_NoRAG_response</th>\n",
       "      <th>dataset_NoRAG_answer_relevancy</th>\n",
       "      <th>dataset_SimpleRAG_user_input</th>\n",
       "      <th>dataset_SimpleRAG_response</th>\n",
       "      <th>dataset_SimpleRAG_answer_relevancy</th>\n",
       "      <th>dataset_GraphRAG_user_input</th>\n",
       "      <th>dataset_GraphRAG_response</th>\n",
       "      <th>dataset_GraphRAG_answer_relevancy</th>\n",
       "      <th>dataset_HybridRAG_user_input</th>\n",
       "      <th>dataset_HybridRAG_response</th>\n",
       "      <th>dataset_HybridRAG_answer_relevancy</th>\n",
       "    </tr>\n",
       "  </thead>\n",
       "  <tbody>\n",
       "    <tr>\n",
       "      <th>0</th>\n",
       "      <td>Pull Hook 左拉左曲球\\n球速:66.43、發射角度:7.198、發射方向:-6.1...</td>\n",
       "      <td>\"球路\": \"Pull Hook 左拉左曲球\",\\n        \"原因\"...</td>\n",
       "      <td>0.746644</td>\n",
       "      <td>Pull Hook 左拉左曲球\\n球速:66.43、發射角度:7.198、發射方向:-6.1...</td>\n",
       "      <td>\"球路\": \"Pull Hook 左拉左曲球\",\\n        \"原因\"...</td>\n",
       "      <td>0.739472</td>\n",
       "      <td>Pull Hook 左拉左曲球\\n球速:66.43、發射角度:7.198、發射方向:-6.1...</td>\n",
       "      <td>\\n    \"球路\": \"Pull Hook 左拉左曲球\",\\n    \"原因\": \"您的揮...</td>\n",
       "      <td>0.754046</td>\n",
       "      <td>Pull Hook 左拉左曲球\\n球速:66.43、發射角度:7.198、發射方向:-6.1...</td>\n",
       "      <td>\"球路\": \"Pull Hook 左拉左曲球\",\\n    \"原因\": \"下桿角度過...</td>\n",
       "      <td>0.746439</td>\n",
       "    </tr>\n",
       "    <tr>\n",
       "      <th>1</th>\n",
       "      <td>Fade 小右曲球\\n球速:70.33、發射角度:9.56、發射方向:1.486、飛行距離:...</td>\n",
       "      <td>\"球路\": \"Fade 小右曲球\",\\n         \"原因\": \"整體...</td>\n",
       "      <td>0.721654</td>\n",
       "      <td>Fade 小右曲球\\n球速:70.33、發射角度:9.56、發射方向:1.486、飛行距離:...</td>\n",
       "      <td>\"球路\": \"Fade 小右曲球\",\\n        \"原因\": \"手腕角...</td>\n",
       "      <td>0.725226</td>\n",
       "      <td>Fade 小右曲球\\n球速:70.33、發射角度:9.56、發射方向:1.486、飛行距離:...</td>\n",
       "      <td>\"球路\": \"Fade 小右曲球\",\\n    \"原因\": \"整體揮桿姿勢與教練相差...</td>\n",
       "      <td>0.733188</td>\n",
       "      <td>Fade 小右曲球\\n球速:70.33、發射角度:9.56、發射方向:1.486、飛行距離:...</td>\n",
       "      <td>\"球路\": \"Fade 小右曲球\",\\n    \"原因\": \"手腕角度保持得很好，桿...</td>\n",
       "      <td>0.742562</td>\n",
       "    </tr>\n",
       "    <tr>\n",
       "      <th>2</th>\n",
       "      <td>Push Slice 右拉右曲球\\n球速:61.868、發射角度:17.004、發射方向:1...</td>\n",
       "      <td>\"球路\": \"Push Slice 右拉右曲球\",\\n        \"原因...</td>\n",
       "      <td>0.732604</td>\n",
       "      <td>Push Slice 右拉右曲球\\n球速:61.868、發射角度:17.004、發射方向:1...</td>\n",
       "      <td>\"球路\": \"Push Slice 右拉右曲球\",\\n    \"原因\": \"P7擊球...</td>\n",
       "      <td>0.759734</td>\n",
       "      <td>Push Slice 右拉右曲球\\n球速:61.868、發射角度:17.004、發射方向:1...</td>\n",
       "      <td>\"球路\": \"Push Slice 右拉右曲球\",\\n    \"原因\": \"P5~6...</td>\n",
       "      <td>0.695274</td>\n",
       "      <td>Push Slice 右拉右曲球\\n球速:61.868、發射角度:17.004、發射方向:1...</td>\n",
       "      <td>\"球路\": \"Push Slice 右拉右曲球\",\\n    \"原因\": \"P7擊球...</td>\n",
       "      <td>0.753224</td>\n",
       "    </tr>\n",
       "    <tr>\n",
       "      <th>3</th>\n",
       "      <td>Pull Hook 左拉左曲球\\n球速:88.875、發射角度:7.848、發射方向:-7....</td>\n",
       "      <td>\"球路\": \"Pull Hook 左拉左曲球\",\\n         \"原因...</td>\n",
       "      <td>0.755183</td>\n",
       "      <td>Pull Hook 左拉左曲球\\n球速:88.875、發射角度:7.848、發射方向:-7....</td>\n",
       "      <td>\"球路\": \"Pull Hook 左拉左曲球\",\\n        \"原因\"...</td>\n",
       "      <td>0.750884</td>\n",
       "      <td>Pull Hook 左拉左曲球\\n球速:88.875、發射角度:7.848、發射方向:-7....</td>\n",
       "      <td>\"球路\": \"Pull Hook 左拉左曲球\",\\n    \"原因\": \"您的擊球呈...</td>\n",
       "      <td>0.749375</td>\n",
       "      <td>Pull Hook 左拉左曲球\\n球速:88.875、發射角度:7.848、發射方向:-7....</td>\n",
       "      <td>\"球路\": \"Pull Hook 左拉左曲球\",\\n    \"原因\": \"下桿時桿面...</td>\n",
       "      <td>0.746114</td>\n",
       "    </tr>\n",
       "    <tr>\n",
       "      <th>4</th>\n",
       "      <td>Push Slice 右拉右曲球\\n球速:100.069、發射角度:17.951、發射方向:...</td>\n",
       "      <td>\"球路\": \"Push Slice 右拉右曲球\",\\n         \"原...</td>\n",
       "      <td>0.753686</td>\n",
       "      <td>Push Slice 右拉右曲球\\n球速:100.069、發射角度:17.951、發射方向:...</td>\n",
       "      <td>\"球路\": \"Push Slice右拉右曲球\",\\n        \"原因\"...</td>\n",
       "      <td>0.770707</td>\n",
       "      <td>Push Slice 右拉右曲球\\n球速:100.069、發射角度:17.951、發射方向:...</td>\n",
       "      <td>\"球路\": \"Push Slice 右拉右曲球\",\\n    \"原因\": \"您的上桿...</td>\n",
       "      <td>0.760462</td>\n",
       "      <td>Push Slice 右拉右曲球\\n球速:100.069、發射角度:17.951、發射方向:...</td>\n",
       "      <td>\"球路\": \"Push Slice右拉右曲球\",\\n    \"原因\": \"P5~6下...</td>\n",
       "      <td>0.767070</td>\n",
       "    </tr>\n",
       "    <tr>\n",
       "      <th>5</th>\n",
       "      <td>Push Slice 右拉右曲球\\n球速:72.111、發射角度:12.173、發射方向:6...</td>\n",
       "      <td>\"球路\": \"Push Slice 右拉右曲球\",\\n        \"原因...</td>\n",
       "      <td>0.735840</td>\n",
       "      <td>Push Slice 右拉右曲球\\n球速:72.111、發射角度:12.173、發射方向:6...</td>\n",
       "      <td>\"球路\": \"Push Slice 右拉右曲球\",\\n  \"原因\": \"P5~6下桿角度...</td>\n",
       "      <td>0.762893</td>\n",
       "      <td>Push Slice 右拉右曲球\\n球速:72.111、發射角度:12.173、發射方向:6...</td>\n",
       "      <td>\"球路\": \"Push Slice 右拉右曲球\",\\n    \"原因\": \"根據揮桿...</td>\n",
       "      <td>0.729027</td>\n",
       "      <td>Push Slice 右拉右曲球\\n球速:72.111、發射角度:12.173、發射方向:6...</td>\n",
       "      <td>\"球路\": \"Push Slice 右拉右曲球\",\\n  \"原因\": \"P5~6下桿角度...</td>\n",
       "      <td>0.755902</td>\n",
       "    </tr>\n",
       "  </tbody>\n",
       "</table>\n",
       "</div>"
      ]
     },
     "execution_count": 78,
     "metadata": {},
     "output_type": "execute_result"
    }
   ],
   "execution_count": 78
  },
  {
   "metadata": {
    "ExecuteTime": {
     "end_time": "2025-02-25T11:38:13.899013Z",
     "start_time": "2025-02-25T11:38:13.871183Z"
    }
   },
   "cell_type": "code",
   "source": [
    "# 計算answer_relevancy平均值\n",
    "output_df[['dataset_NoRAG_answer_relevancy', 'dataset_SimpleRAG_answer_relevancy', 'dataset_GraphRAG_answer_relevancy', 'dataset_HybridRAG_answer_relevancy']].mean()"
   ],
   "id": "74923cbd31e21173",
   "outputs": [
    {
     "data": {
      "text/plain": [
       "dataset_NoRAG_answer_relevancy        0.740935\n",
       "dataset_SimpleRAG_answer_relevancy    0.751486\n",
       "dataset_GraphRAG_answer_relevancy     0.736895\n",
       "dataset_HybridRAG_answer_relevancy    0.751885\n",
       "dtype: float64"
      ]
     },
     "execution_count": 79,
     "metadata": {},
     "output_type": "execute_result"
    }
   ],
   "execution_count": 79
  }
 ],
 "metadata": {
  "kernelspec": {
   "display_name": "Python 3",
   "language": "python",
   "name": "python3"
  },
  "language_info": {
   "codemirror_mode": {
    "name": "ipython",
    "version": 2
   },
   "file_extension": ".py",
   "mimetype": "text/x-python",
   "name": "python",
   "nbconvert_exporter": "python",
   "pygments_lexer": "ipython2",
   "version": "2.7.6"
  }
 },
 "nbformat": 4,
 "nbformat_minor": 5
}
