{
 "cells": [
  {
   "cell_type": "code",
   "id": "initial_id",
   "metadata": {
    "collapsed": true,
    "ExecuteTime": {
     "end_time": "2024-12-01T07:45:40.456328Z",
     "start_time": "2024-12-01T07:45:35.031223Z"
    }
   },
   "source": [
    "import pandas as pd\n",
    "import numpy as np\n",
    "import glob\n",
    "import re\n",
    "import cv2\n",
    "import os"
   ],
   "outputs": [],
   "execution_count": 1
  },
  {
   "metadata": {
    "ExecuteTime": {
     "end_time": "2024-12-01T07:45:46.138920Z",
     "start_time": "2024-12-01T07:45:46.132308Z"
    }
   },
   "cell_type": "code",
   "source": [
    "# 設定資料夾路徑和檔案模式\n",
    "folder_path = \"data/\"  # 設定資料夾路徑\n",
    "image_pattern_front = \"front_video_swing_plane_*.jpg\"\n",
    "image_pattern_side = \"side_video_swing_plane_*.jpg\"\n",
    "csv_pattern_front = \"front_video.csv\"\n",
    "csv_pattern_side = \"side_video.csv\"\n",
    "\n",
    "combined_path = \"data/combined/\"\n",
    "\n",
    "# 定義點、線的顏色及粗細\n",
    "point_color = (0, 0, 255)  # 紅色點\n",
    "line_color = (0, 255, 0)   # 綠色線段\n",
    "text_color = (255, 255, 255) # 白色文字\n",
    "point_radius = 5\n",
    "point_thickness = -1  # 填滿圓圈\n",
    "line_thickness = 2\n",
    "font_scale = 0.5\n",
    "font_thickness = 1\n",
    "\n",
    "# 定義骨架的連接順序\n",
    "skeleton_connections = [\n",
    "    (0, 1), (1, 2), (0, 2),\n",
    "    (1, 3),(2, 4),\n",
    "    (3, 5),(4, 6),(5, 6),\n",
    "    (5, 7),(6, 8),\n",
    "    (7, 9),(8, 10),\n",
    "    (5, 11),(6, 12),(11, 12),\n",
    "    (12, 14),(14, 16),\n",
    "    (11, 13),(13, 15)\n",
    "]"
   ],
   "id": "2a775208edcbb7cf",
   "outputs": [],
   "execution_count": 4
  },
  {
   "metadata": {
    "ExecuteTime": {
     "end_time": "2024-12-01T07:45:51.014667Z",
     "start_time": "2024-12-01T07:45:51.004609Z"
    }
   },
   "cell_type": "code",
   "source": [
    "def extract_frame_number(filename):\n",
    "    \"\"\"從檔名中提取最後的編號\"\"\"\n",
    "    match = re.search(r\"(\\d+)\\_plane.jpg$\", filename)\n",
    "    return int(match.group(1)) if match else None\n",
    "\n",
    "def load_images_and_csv(image_pattern, csv_file):\n",
    "    \"\"\"讀取圖片和 CSV 資料，並根據檔名編號標記每張圖片\"\"\"\n",
    "    # 讀取圖片檔案\n",
    "    image_paths = sorted(glob.glob(folder_path + image_pattern))\n",
    "    # 讀取 CSV\n",
    "    if not os.path.isfile(folder_path + csv_file):\n",
    "        print(f\"Error: File not found - {folder_path + csv_file}\")\n",
    "        return None\n",
    "    df = pd.read_csv(folder_path + csv_file, index_col=0)  # 假設第一列為索引（即編號）\n",
    "\n",
    "    marked_images = []\n",
    "    for image_path in image_paths:\n",
    "        # 提取圖片編號\n",
    "        frame_number = extract_frame_number(image_path)\n",
    "        if frame_number is None or frame_number not in df.index:\n",
    "            print(f\"無法找到對應的數據行: {image_path}\")\n",
    "            continue\n",
    "\n",
    "        # 提取每個點的 (x, y) 坐標\n",
    "        points = []\n",
    "        for i in range(17):  # 17 個點\n",
    "            x_col = f'pose{i}_x'\n",
    "            y_col = f'pose{i}_y'\n",
    "            if x_col in df.columns and y_col in df.columns:\n",
    "                x, y = df.at[frame_number, x_col], df.at[frame_number, y_col]\n",
    "                points.append((x, y))\n",
    "\n",
    "        # 讀取圖片\n",
    "        image = cv2.imread(image_path)\n",
    "        original_height, original_width = image.shape[:2]\n",
    "        # 調整圖片大小為 608x1080\n",
    "        target_size = (608, 1080)\n",
    "        image = cv2.resize(image, target_size)\n",
    "\n",
    "        # 計算縮放比例\n",
    "        scale_x = target_size[0] / original_width\n",
    "        scale_y = target_size[1] / original_height\n",
    "        scaled_points = [(int(x * scale_x), int(y * scale_y)) for (x, y) in points]\n",
    "\n",
    "        # 繪製點位和標記點的編號\n",
    "        for idx, (x, y) in enumerate(scaled_points):\n",
    "            # 繪製點\n",
    "            cv2.circle(image, (x, y), point_radius, point_color, point_thickness)\n",
    "            # 標記點的編號\n",
    "            cv2.putText(image, str(idx), (x + 5, y - 5), cv2.FONT_HERSHEY_SIMPLEX,\n",
    "                        font_scale, text_color, font_thickness)\n",
    "\n",
    "        # 繪製骨架連接線\n",
    "        for start_idx, end_idx in skeleton_connections:\n",
    "            start_point = scaled_points[start_idx]\n",
    "            end_point = scaled_points[end_idx]\n",
    "            cv2.line(image, start_point, end_point, line_color, line_thickness)\n",
    "\n",
    "        # 將標記過的圖片加入列表\n",
    "        marked_images.append(image)\n",
    "    return marked_images\n",
    "\n"
   ],
   "id": "158191b907935cd1",
   "outputs": [],
   "execution_count": 5
  },
  {
   "metadata": {
    "ExecuteTime": {
     "end_time": "2024-12-01T07:46:06.749756Z",
     "start_time": "2024-12-01T07:46:01.648624Z"
    }
   },
   "cell_type": "code",
   "source": [
    "for subdir in os.listdir(folder_path):\n",
    "    subdir_path = os.path.join(folder_path, subdir)\n",
    "    if os.path.isdir(subdir_path):\n",
    "        front_images = load_images_and_csv(os.path.join(subdir, image_pattern_front), os.path.join(subdir, csv_pattern_front))\n",
    "        side_images = load_images_and_csv(os.path.join(subdir, image_pattern_side), os.path.join(subdir, csv_pattern_side))\n",
    "\n",
    "\n",
    "        if front_images and side_images:\n",
    "            front_combined = np.hstack(front_images)\n",
    "            side_combined = np.hstack(side_images)\n",
    "            final_combined = np.vstack([front_combined, side_combined])\n",
    "            output_path = os.path.join(combined_path, f\"combined_{subdir}.jpg\")\n",
    "            cv2.imwrite(output_path, final_combined)\n",
    "            print(f\"最終合併的圖片已儲存到: {output_path}\")"
   ],
   "id": "f49fed908c746b",
   "outputs": [
    {
     "name": "stdout",
     "output_type": "stream",
     "text": [
      "最終合併的圖片已儲存到: data/combined/combined_186382.jpg\n",
      "最終合併的圖片已儲存到: data/combined/combined_186387.jpg\n",
      "Error: File not found - data/186406\\front_video.csv\n",
      "Error: File not found - data/186406\\side_video.csv\n",
      "最終合併的圖片已儲存到: data/combined/combined_186410.jpg\n",
      "最終合併的圖片已儲存到: data/combined/combined_186416.jpg\n",
      "最終合併的圖片已儲存到: data/combined/combined_189863.jpg\n",
      "最終合併的圖片已儲存到: data/combined/combined_198514.jpg\n",
      "最終合併的圖片已儲存到: data/combined/combined_199353.jpg\n",
      "最終合併的圖片已儲存到: data/combined/combined_199453.jpg\n",
      "Error: File not found - data/combined\\front_video.csv\n",
      "Error: File not found - data/combined\\side_video.csv\n",
      "Error: File not found - data/not_complete\\front_video.csv\n",
      "Error: File not found - data/not_complete\\side_video.csv\n"
     ]
    }
   ],
   "execution_count": 6
  },
  {
   "metadata": {},
   "cell_type": "code",
   "outputs": [],
   "execution_count": null,
   "source": "",
   "id": "5c8c588acf5cea37"
  }
 ],
 "metadata": {
  "kernelspec": {
   "display_name": "Python 3",
   "language": "python",
   "name": "python3"
  },
  "language_info": {
   "codemirror_mode": {
    "name": "ipython",
    "version": 2
   },
   "file_extension": ".py",
   "mimetype": "text/x-python",
   "name": "python",
   "nbconvert_exporter": "python",
   "pygments_lexer": "ipython2",
   "version": "2.7.6"
  }
 },
 "nbformat": 4,
 "nbformat_minor": 5
}
